{
 "cells": [
  {
   "cell_type": "markdown",
   "id": "e73d1d26-b50e-4982-b78b-b634727c3873",
   "metadata": {},
   "source": [
    "# 4.8 Grouping Data and Aggregating Variables"
   ]
  },
  {
   "cell_type": "markdown",
   "id": "aacfac9d-26f0-4bbd-b360-508530f7c252",
   "metadata": {},
   "source": [
    "## Imports"
   ]
  },
  {
   "cell_type": "code",
   "execution_count": 2,
   "id": "d38224d8-8e9b-49a5-b78c-dc60f4b925e5",
   "metadata": {},
   "outputs": [],
   "source": [
    "# Importing Libraries\n",
    "import pandas as pd\n",
    "import numpy as np\n",
    "import os"
   ]
  },
  {
   "cell_type": "code",
   "execution_count": 3,
   "id": "f35c65f5-c4c5-4cbe-833b-f7fc7016674c",
   "metadata": {},
   "outputs": [],
   "source": [
    "path = r\"C:\\Users\\malac\\Documents\\Instacart Basket Analysis CF\""
   ]
  },
  {
   "cell_type": "code",
   "execution_count": 4,
   "id": "e60280cc-33b6-4c95-9975-160e13cc14c8",
   "metadata": {},
   "outputs": [
    {
     "data": {
      "text/plain": [
       "'C:\\\\Users\\\\malac\\\\Documents\\\\Instacart Basket Analysis CF'"
      ]
     },
     "execution_count": 4,
     "metadata": {},
     "output_type": "execute_result"
    }
   ],
   "source": [
    "path"
   ]
  },
  {
   "cell_type": "code",
   "execution_count": null,
   "id": "bf68e65c-c6dc-4c88-a07d-5da7e9cdb83b",
   "metadata": {},
   "outputs": [],
   "source": [
    "ords_prods_merge = pd.read_pickle(os.path.join(path, '02 Data', 'Prepared Data', 'orders_products_merged.pkl'))\n",
    "#ords_prior and df_prods merge import"
   ]
  },
  {
   "cell_type": "code",
   "execution_count": null,
   "id": "f9c97123-0bbd-4a3d-badc-8b0462adcd80",
   "metadata": {},
   "outputs": [],
   "source": [
    "df_depart = pd.read_csv(os.path.join(path, '02 Data', 'Prepared Data', 'departments_wrangled.csv'), index_col = False)\n",
    "#departments_wrangled import"
   ]
  },
  {
   "cell_type": "markdown",
   "id": "1518c7fb-533a-4dd6-bb2a-d53661a2e917",
   "metadata": {},
   "source": [
    "# 4.8 Reading"
   ]
  },
  {
   "cell_type": "code",
   "execution_count": null,
   "id": "cfa636ab-69e9-4b13-9291-eeb688b432e5",
   "metadata": {},
   "outputs": [],
   "source": [
    "#Create a subset\n",
    "\n",
    "df = ords_prods_merge[:1000000]"
   ]
  },
  {
   "cell_type": "code",
   "execution_count": null,
   "id": "393d3893-d9ce-4b71-ba39-fddd2e7c37fe",
   "metadata": {},
   "outputs": [],
   "source": [
    "df.shape"
   ]
  },
  {
   "cell_type": "code",
   "execution_count": null,
   "id": "e924c513-72e7-45ef-a27c-6ae96b3d17a4",
   "metadata": {},
   "outputs": [],
   "source": [
    "df.head(10)"
   ]
  },
  {
   "cell_type": "code",
   "execution_count": null,
   "id": "5cd5243d-b317-4c44-ac2f-75bba5dc558f",
   "metadata": {},
   "outputs": [],
   "source": [
    "df.groupby('product_name')"
   ]
  },
  {
   "cell_type": "code",
   "execution_count": null,
   "id": "9116ffc1-afed-4f69-9514-3940615eca5e",
   "metadata": {},
   "outputs": [],
   "source": [
    "#Perform agg + groupby function to find mean of dep_id\n",
    "\n",
    "df.groupby('department_id').agg({'order_number': ['mean']})"
   ]
  },
  {
   "cell_type": "code",
   "execution_count": null,
   "id": "6dc3a291-f9e1-4fe1-90fe-0249fb1803b9",
   "metadata": {},
   "outputs": [],
   "source": [
    "#Same result with mean() function\n",
    "\n",
    "df.groupby('department_id')['order_number'].mean()"
   ]
  },
  {
   "cell_type": "code",
   "execution_count": null,
   "id": "b02ab8c2-3612-49f8-99cc-665420e234ac",
   "metadata": {},
   "outputs": [],
   "source": [
    "#Same function with min and max\n",
    "\n",
    "df.groupby('department_id').agg({'order_number': ['mean', 'min', 'max']})"
   ]
  },
  {
   "cell_type": "code",
   "execution_count": null,
   "id": "3d0f76cb-f192-4eab-aa4f-fb25360c1d13",
   "metadata": {},
   "outputs": [],
   "source": [
    "#Aggregate data with transform()\n",
    "\n",
    "ords_prods_merge['max_order'] = ords_prods_merge.groupby(['user_id'])['order_number'].transform(np.max)"
   ]
  },
  {
   "cell_type": "code",
   "execution_count": null,
   "id": "abdc0a63-b9da-44f1-a235-107932e5663d",
   "metadata": {},
   "outputs": [],
   "source": [
    "ords_prods_merge.head(15)"
   ]
  },
  {
   "cell_type": "code",
   "execution_count": null,
   "id": "faee292e-9b27-4c13-8a52-2b27d81cadae",
   "metadata": {},
   "outputs": [],
   "source": [
    "#Create flag for loyalyty label\n",
    "\n",
    "ords_prods_merge.loc[ords_prods_merge['max_order'] > 40, 'loyalty_flag'] = 'Loyal customer'"
   ]
  },
  {
   "cell_type": "code",
   "execution_count": null,
   "id": "187034dc-5d25-4349-a28e-aa05d510a62b",
   "metadata": {},
   "outputs": [],
   "source": [
    "ords_prods_merge.loc[(ords_prods_merge['max_order'] <= 40) & (ords_prods_merge['max_order'] > 10), 'loyalty_flag'] = 'Regular customer'"
   ]
  },
  {
   "cell_type": "code",
   "execution_count": null,
   "id": "5f85278f-9f76-471d-9073-46f16b8eef90",
   "metadata": {},
   "outputs": [],
   "source": [
    "ords_prods_merge.loc[ords_prods_merge['max_order'] <= 10, 'loyalty_flag'] = 'New customer'"
   ]
  },
  {
   "cell_type": "code",
   "execution_count": null,
   "id": "e9664c8a-e259-47b0-be5a-d0a5faa1aab1",
   "metadata": {},
   "outputs": [],
   "source": [
    "ords_prods_merge['loyalty_flag'].value_counts(dropna = False)"
   ]
  },
  {
   "cell_type": "code",
   "execution_count": null,
   "id": "12e4e2b8-29b2-4cb1-940d-a5392d204326",
   "metadata": {},
   "outputs": [],
   "source": [
    "ords_prods_merge[['user_id', 'loyalty_flag', 'order_number']].head(5)"
   ]
  },
  {
   "cell_type": "markdown",
   "id": "acd87321-1b23-41d8-b476-6a55d7ba63cc",
   "metadata": {},
   "source": [
    "# 4.8 Task"
   ]
  },
  {
   "cell_type": "markdown",
   "id": "9ceb3776-1c5c-49c8-8037-ec8a16da23c8",
   "metadata": {},
   "source": [
    "## 2."
   ]
  },
  {
   "cell_type": "code",
   "execution_count": null,
   "id": "23af3da8-d594-4060-bd8a-905b8682bf06",
   "metadata": {},
   "outputs": [],
   "source": [
    "ords_prods_merge.shape"
   ]
  },
  {
   "cell_type": "code",
   "execution_count": null,
   "id": "5ef59a3f-b74e-4ee1-8305-1d9a8155c2ff",
   "metadata": {},
   "outputs": [],
   "source": [
    "#Aggregate mean of order_number grouped by dep_id for entire df\n",
    "\n",
    "ords_prods_merge.groupby('department_id').agg({'order_number': ['mean']})"
   ]
  },
  {
   "cell_type": "markdown",
   "id": "b0fbc501-5477-4e9d-bea1-90230f331ef1",
   "metadata": {},
   "source": [
    "## 3."
   ]
  },
  {
   "cell_type": "code",
   "execution_count": null,
   "id": "dbac6492-fe0c-4faa-b26c-df396256bab0",
   "metadata": {},
   "outputs": [],
   "source": [
    "ords_prods_merge.shape"
   ]
  },
  {
   "cell_type": "markdown",
   "id": "688fcb68-7c0a-4ac8-b921-f236cd62d2f7",
   "metadata": {},
   "source": [
    "One of the biggest differences I noticed is that this aggregating the entire dataframe gives you the mean for every department. In the subset, it only showed the mean in 8 out 21 departments. "
   ]
  },
  {
   "cell_type": "markdown",
   "id": "3d5692ee-9244-44b3-b037-6a9e99f6b5c4",
   "metadata": {},
   "source": [
    "## 4."
   ]
  },
  {
   "cell_type": "markdown",
   "id": "2bfcf4d0-7802-4011-9332-fe94aae1cb14",
   "metadata": {},
   "source": [
    "#Create a loyalty flag\n",
    "\n",
    "I think I completed this task in my reading. Or would it like me to make a new flag? if so, what for?"
   ]
  },
  {
   "cell_type": "markdown",
   "id": "0aa83912-e357-433b-95a9-9524fbcadfc0",
   "metadata": {},
   "source": [
    "## 5."
   ]
  },
  {
   "cell_type": "code",
   "execution_count": null,
   "id": "cbf93959-3ccc-497f-ad37-f7395fdb7c5b",
   "metadata": {},
   "outputs": [],
   "source": [
    "#Aggregate amount spent grouped by loyalty flag\n",
    "\n",
    "ords_prods_merge.groupby('loyalty_flag').agg({'prices': ['mean', 'min', 'max']})"
   ]
  },
  {
   "cell_type": "markdown",
   "id": "10a297f2-0291-4d1b-b6d4-4448f589f050",
   "metadata": {},
   "source": [
    "This shows that there is no positive correlation between loyal customers and spending more money. This shows that new customers spend the most money and loyal customers spend the least. I think this could contribute to loyal customers having more orders which brings their average amount spent down. "
   ]
  },
  {
   "cell_type": "markdown",
   "id": "a8a79d7b-8f9d-43f1-afb3-61b5374866f5",
   "metadata": {},
   "source": [
    "## 6."
   ]
  },
  {
   "cell_type": "code",
   "execution_count": null,
   "id": "1e14fe0b-974c-4b4d-87c7-425a023e2ca5",
   "metadata": {},
   "outputs": [],
   "source": [
    "#Agg data with transform\n",
    "\n",
    "ords_prods_merge['total_spent'] = ords_prods_merge.groupby(['user_id'])['prices'].transform(np.mean)"
   ]
  },
  {
   "cell_type": "code",
   "execution_count": null,
   "id": "440e2c78-ade0-40ff-9b68-b9006e3acfda",
   "metadata": {},
   "outputs": [],
   "source": [
    "#Create flag for spending\n",
    "\n",
    "ords_prods_merge.loc[ords_prods_merge['total_spent'] > 10, 'spending_flag'] = 'Low spender'"
   ]
  },
  {
   "cell_type": "code",
   "execution_count": null,
   "id": "509e66d4-1d1f-44ec-a30e-94b66b93e845",
   "metadata": {},
   "outputs": [],
   "source": [
    "ords_prods_merge.loc[ords_prods_merge['total_spent'] < 10, 'spending_flag'] = 'High spender'"
   ]
  },
  {
   "cell_type": "code",
   "execution_count": null,
   "id": "9b746944-8a78-48ac-9934-aacb4c2f196b",
   "metadata": {},
   "outputs": [],
   "source": [
    "ords_prods_merge['spending_flag'].value_counts(dropna = False)"
   ]
  },
  {
   "cell_type": "code",
   "execution_count": null,
   "id": "8e300957-00dc-4447-b806-44c3f93f83d6",
   "metadata": {},
   "outputs": [],
   "source": [
    "ords_prods_merge.head()"
   ]
  },
  {
   "cell_type": "markdown",
   "id": "05192e82-4d51-4bf9-9663-87a343c7993c",
   "metadata": {},
   "source": [
    "## 7."
   ]
  },
  {
   "cell_type": "code",
   "execution_count": null,
   "id": "a0eb7617-2f1b-44e1-a484-7457455a9223",
   "metadata": {},
   "outputs": [],
   "source": [
    "#Agg data with transform\n",
    "\n",
    "ords_prods_merge['frequency'] = ords_prods_merge.groupby(['user_id'])['days_since_prior_order'].transform(np.median)"
   ]
  },
  {
   "cell_type": "code",
   "execution_count": null,
   "id": "70a70354-a84c-4b9c-b91f-7d5b2d22065b",
   "metadata": {},
   "outputs": [],
   "source": [
    "#Create flag for frequency\n",
    "\n",
    "ords_prods_merge.loc[ords_prods_merge['frequency'] >= 10, 'frequency_flag'] = 'Frequent customer'"
   ]
  },
  {
   "cell_type": "code",
   "execution_count": null,
   "id": "1114df2d-9fb9-46b1-acb3-9139835913f6",
   "metadata": {},
   "outputs": [],
   "source": [
    "ords_prods_merge.loc[(ords_prods_merge['frequency'] < 10) & (ords_prods_merge['frequency'] >= 20), 'frequency_flag'] = 'Regular customer'"
   ]
  },
  {
   "cell_type": "code",
   "execution_count": null,
   "id": "d5d805ec-5457-4aa3-abe8-f2bb6b7e6888",
   "metadata": {},
   "outputs": [],
   "source": [
    "ords_prods_merge.loc[ords_prods_merge['frequency'] < 20, 'frequency_flag'] = 'Non-frequent customer'"
   ]
  },
  {
   "cell_type": "code",
   "execution_count": null,
   "id": "3d4d7d28-aafd-4ebb-8642-057eed783f17",
   "metadata": {},
   "outputs": [],
   "source": [
    "ords_prods_merge['frequency_flag'].value_counts(dropna = False)"
   ]
  },
  {
   "cell_type": "code",
   "execution_count": null,
   "id": "2ead6bff-1641-4807-9269-b84f7a2466e7",
   "metadata": {},
   "outputs": [],
   "source": [
    "ords_prods_merge.head()"
   ]
  },
  {
   "cell_type": "markdown",
   "id": "5f405a94-f35e-4028-bcbe-ffc4dbb9db25",
   "metadata": {},
   "source": [
    "# Exports"
   ]
  },
  {
   "cell_type": "code",
   "execution_count": null,
   "id": "d6baea3c-4829-4028-98aa-dc07cc72ea9e",
   "metadata": {},
   "outputs": [],
   "source": [
    "ords_prods_merge.to_pickle(os.path.join(path, '02 Data','Prepared Data', 'orders_products_merged.pkl'))"
   ]
  }
 ],
 "metadata": {
  "kernelspec": {
   "display_name": "Python 3 (ipykernel)",
   "language": "python",
   "name": "python3"
  },
  "language_info": {
   "codemirror_mode": {
    "name": "ipython",
    "version": 3
   },
   "file_extension": ".py",
   "mimetype": "text/x-python",
   "name": "python",
   "nbconvert_exporter": "python",
   "pygments_lexer": "ipython3",
   "version": "3.9.7"
  }
 },
 "nbformat": 4,
 "nbformat_minor": 5
}
