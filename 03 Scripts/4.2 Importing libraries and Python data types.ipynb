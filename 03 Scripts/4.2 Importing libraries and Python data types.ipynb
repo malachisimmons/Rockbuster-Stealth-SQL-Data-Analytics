{
 "cells": [
  {
   "cell_type": "markdown",
   "id": "da05ebff-d1f7-4950-9ec8-9065b719a5aa",
   "metadata": {},
   "source": [
    "# Importing Libraries "
   ]
  },
  {
   "cell_type": "code",
   "execution_count": null,
   "id": "6fba2d7e-3c55-4a6f-9696-2741ca04862b",
   "metadata": {},
   "outputs": [],
   "source": [
    "# Importing Libraries\n",
    "import pandas as pd\n",
    "import numpy as np\n",
    "import os"
   ]
  },
  {
   "cell_type": "markdown",
   "id": "49b830ed-cf85-447b-adeb-8aa9d10fd8d0",
   "metadata": {},
   "source": [
    "# Python Data Types"
   ]
  },
  {
   "cell_type": "code",
   "execution_count": 27,
   "id": "3db9a04d-7e59-49c4-81a7-b483c62091e3",
   "metadata": {},
   "outputs": [],
   "source": [
    "x = 50"
   ]
  },
  {
   "cell_type": "code",
   "execution_count": 28,
   "id": "9e60e8dc-778b-49e0-aba2-b3f6eea41507",
   "metadata": {},
   "outputs": [],
   "source": [
    "y = 2"
   ]
  },
  {
   "cell_type": "code",
   "execution_count": 30,
   "id": "83505e5f-7f30-4d13-b853-788da52893cc",
   "metadata": {},
   "outputs": [],
   "source": [
    "z = x * y"
   ]
  },
  {
   "cell_type": "code",
   "execution_count": 31,
   "id": "db4f9d49-8a00-479b-ae73-6a8f34759c2a",
   "metadata": {},
   "outputs": [
    {
     "name": "stdout",
     "output_type": "stream",
     "text": [
      "100\n"
     ]
    }
   ],
   "source": [
    "print(z)"
   ]
  },
  {
   "cell_type": "code",
   "execution_count": 32,
   "id": "1cd5e788-a855-410f-ae12-2398b127d5c1",
   "metadata": {},
   "outputs": [],
   "source": [
    "x = 1000"
   ]
  },
  {
   "cell_type": "code",
   "execution_count": null,
   "id": "134d14a5-e462-4c00-927a-93143ef5b16f",
   "metadata": {},
   "outputs": [],
   "source": [
    "y = 900"
   ]
  },
  {
   "cell_type": "code",
   "execution_count": 35,
   "id": "62bd0c4a-9475-4105-bfc5-d468d6e81842",
   "metadata": {},
   "outputs": [],
   "source": [
    "z = x - y"
   ]
  },
  {
   "cell_type": "code",
   "execution_count": 36,
   "id": "5ff1789c-ce39-46d1-9f07-47845a17205e",
   "metadata": {},
   "outputs": [
    {
     "name": "stdout",
     "output_type": "stream",
     "text": [
      "100\n"
     ]
    }
   ],
   "source": [
    "print(z)"
   ]
  },
  {
   "cell_type": "code",
   "execution_count": 37,
   "id": "a7b8dc0c-e078-4792-9e74-ce4bf958cbdf",
   "metadata": {},
   "outputs": [],
   "source": [
    "x = 150"
   ]
  },
  {
   "cell_type": "code",
   "execution_count": 38,
   "id": "2e1185ba-c467-45a2-a6ef-9a3067e62ede",
   "metadata": {},
   "outputs": [],
   "source": [
    "y = 1.5"
   ]
  },
  {
   "cell_type": "code",
   "execution_count": 39,
   "id": "2098fb73-137f-4af2-ae9c-ff1dc3d2f0f1",
   "metadata": {},
   "outputs": [],
   "source": [
    "z = x/y"
   ]
  },
  {
   "cell_type": "code",
   "execution_count": 40,
   "id": "f41b8faf-6417-4b5c-b62c-58c7d65f118e",
   "metadata": {},
   "outputs": [
    {
     "name": "stdout",
     "output_type": "stream",
     "text": [
      "100.0\n"
     ]
    }
   ],
   "source": [
    "print(z)"
   ]
  },
  {
   "cell_type": "code",
   "execution_count": 45,
   "id": "cc60557e-d5e2-4275-85c0-2afa354e295b",
   "metadata": {},
   "outputs": [],
   "source": [
    "x = 10.5"
   ]
  },
  {
   "cell_type": "code",
   "execution_count": 46,
   "id": "4c2f3873-6ab4-485f-826f-350c7a38fca0",
   "metadata": {},
   "outputs": [],
   "source": [
    "y = 2.25"
   ]
  },
  {
   "cell_type": "code",
   "execution_count": 47,
   "id": "f14c82ef-ae34-4c09-ace8-82d910d9f0af",
   "metadata": {},
   "outputs": [],
   "source": [
    "z = x/y"
   ]
  },
  {
   "cell_type": "code",
   "execution_count": 48,
   "id": "50061453-2508-439b-b5ea-e9328280539b",
   "metadata": {},
   "outputs": [
    {
     "name": "stdout",
     "output_type": "stream",
     "text": [
      "4.666666666666667\n"
     ]
    }
   ],
   "source": [
    "print(z)"
   ]
  },
  {
   "cell_type": "code",
   "execution_count": 16,
   "id": "36ddb240-7bcb-4117-8690-3511898a8056",
   "metadata": {},
   "outputs": [],
   "source": [
    "a = 'P'"
   ]
  },
  {
   "cell_type": "code",
   "execution_count": 8,
   "id": "b4d858e7-95b1-4a57-a3f5-3a76021a1519",
   "metadata": {},
   "outputs": [],
   "source": [
    "b = 'y'"
   ]
  },
  {
   "cell_type": "code",
   "execution_count": 17,
   "id": "001e9856-2491-437a-a3b6-9ff2e753c4de",
   "metadata": {},
   "outputs": [],
   "source": [
    "c = 't'"
   ]
  },
  {
   "cell_type": "code",
   "execution_count": 18,
   "id": "dff39986-d338-4a82-96d6-120d2a98f370",
   "metadata": {},
   "outputs": [],
   "source": [
    "d = 'h'"
   ]
  },
  {
   "cell_type": "code",
   "execution_count": 19,
   "id": "f37dcc25-80cb-4311-889f-11fedaa3fcd7",
   "metadata": {},
   "outputs": [],
   "source": [
    "e = 'o'"
   ]
  },
  {
   "cell_type": "code",
   "execution_count": 20,
   "id": "b1b0d7ff-bd63-4a0e-a432-d2a8cb20ce24",
   "metadata": {},
   "outputs": [],
   "source": [
    "f = 'n'"
   ]
  },
  {
   "cell_type": "code",
   "execution_count": 21,
   "id": "5af43255-1df9-40a7-b344-74a5109987e0",
   "metadata": {},
   "outputs": [
    {
     "data": {
      "text/plain": [
       "'Python'"
      ]
     },
     "execution_count": 21,
     "metadata": {},
     "output_type": "execute_result"
    }
   ],
   "source": [
    "a + b + c + d + e + f"
   ]
  },
  {
   "cell_type": "code",
   "execution_count": 22,
   "id": "7c1060f5-d2b2-4dd6-8ac4-45c63f6c4b0b",
   "metadata": {},
   "outputs": [],
   "source": [
    "m = 'I am really enjoying coding. '"
   ]
  },
  {
   "cell_type": "code",
   "execution_count": 25,
   "id": "34bb3bf4-5a94-4433-84d7-864ae294a13f",
   "metadata": {},
   "outputs": [],
   "source": [
    "n = 'Cannot wait to learn more!'"
   ]
  },
  {
   "cell_type": "code",
   "execution_count": 26,
   "id": "dfe951d6-83ef-453e-8c58-d3029f044742",
   "metadata": {},
   "outputs": [
    {
     "data": {
      "text/plain": [
       "'I am really enjoying coding. Cannot wait to learn more!'"
      ]
     },
     "execution_count": 26,
     "metadata": {},
     "output_type": "execute_result"
    }
   ],
   "source": [
    "m + n"
   ]
  },
  {
   "cell_type": "code",
   "execution_count": null,
   "id": "8ff03f77-b246-4d1c-a55c-faeb9cdb7bf0",
   "metadata": {},
   "outputs": [],
   "source": []
  }
 ],
 "metadata": {
  "kernelspec": {
   "display_name": "Python 3 (ipykernel)",
   "language": "python",
   "name": "python3"
  },
  "language_info": {
   "codemirror_mode": {
    "name": "ipython",
    "version": 3
   },
   "file_extension": ".py",
   "mimetype": "text/x-python",
   "name": "python",
   "nbconvert_exporter": "python",
   "pygments_lexer": "ipython3",
   "version": "3.9.7"
  }
 },
 "nbformat": 4,
 "nbformat_minor": 5
}
