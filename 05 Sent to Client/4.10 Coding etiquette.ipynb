{
 "cells": [
  {
   "cell_type": "markdown",
   "id": "04ebf2a0-a2ee-4d2f-a081-b960fcc6fee3",
   "metadata": {
    "tags": []
   },
   "source": [
    "# Imports"
   ]
  },
  {
   "cell_type": "code",
   "execution_count": 204,
   "id": "84f5d4bc-73a5-4d79-aef0-c211ac487f7c",
   "metadata": {},
   "outputs": [],
   "source": [
    "# Importing Libraries\n",
    "import pandas as pd\n",
    "import numpy as np\n",
    "import os\n",
    "import matplotlib.pyplot as plt\n",
    "import seaborn as sns\n",
    "import scipy"
   ]
  },
  {
   "cell_type": "code",
   "execution_count": 2,
   "id": "67418544-b46f-4a8e-a17f-5535c8f8b902",
   "metadata": {},
   "outputs": [],
   "source": [
    "path = r\"C:\\Users\\malac\\Documents\\Instacart Basket Analysis CF\""
   ]
  },
  {
   "cell_type": "code",
   "execution_count": 3,
   "id": "e9dcf44f-8946-4403-9e44-22e883570647",
   "metadata": {},
   "outputs": [
    {
     "data": {
      "text/plain": [
       "'C:\\\\Users\\\\malac\\\\Documents\\\\Instacart Basket Analysis CF'"
      ]
     },
     "execution_count": 3,
     "metadata": {},
     "output_type": "execute_result"
    }
   ],
   "source": [
    "path"
   ]
  },
  {
   "cell_type": "code",
   "execution_count": 4,
   "id": "854aab4d-bec2-4b87-8e03-a1b165049e8e",
   "metadata": {},
   "outputs": [],
   "source": [
    "ords_prods_merge = pd.read_pickle(os.path.join(path, '02 Data', 'Prepared Data', 'orders_products_merged_2.pkl'))\n",
    "#ords_prior and df_prods merge import"
   ]
  },
  {
   "cell_type": "markdown",
   "id": "a478052d-3a6d-430f-bb4d-02c813dd4118",
   "metadata": {
    "tags": []
   },
   "source": [
    "# 4.10 Reading"
   ]
  },
  {
   "cell_type": "code",
   "execution_count": 5,
   "id": "60616f4c-f43b-4c53-8f78-ebb68dbc6db9",
   "metadata": {},
   "outputs": [],
   "source": [
    "#Create a crosstab for Excel\n",
    "\n",
    "crosstab = pd.crosstab(ords_prods_merge['days_since_prior_order'], ords_prods_merge['order_number'], dropna = False)"
   ]
  },
  {
   "cell_type": "code",
   "execution_count": 6,
   "id": "e339316a-0799-45d0-9404-3ffc0a51e3a9",
   "metadata": {},
   "outputs": [],
   "source": [
    "#Copy crosstab and paste in Excel \n",
    "\n",
    "crosstab.to_clipboard()"
   ]
  },
  {
   "cell_type": "markdown",
   "id": "1df2afa6-70a2-42e2-8482-3066fe9b285b",
   "metadata": {},
   "source": [
    "# 4.10 Answers Part 1"
   ]
  },
  {
   "cell_type": "markdown",
   "id": "654d25c2-8736-41be-af19-cdfeadb1539b",
   "metadata": {},
   "source": [
    "## 2."
   ]
  },
  {
   "cell_type": "code",
   "execution_count": 7,
   "id": "e7a77792-92c3-4dd3-a511-a1b744e9cec4",
   "metadata": {},
   "outputs": [
    {
     "data": {
      "text/plain": [
       "Unnamed: 0_x                 int64\n",
       "order_id                     int64\n",
       "user_id                      int64\n",
       "eval_set                    object\n",
       "order_number                 int64\n",
       "orders_day_of_week           int64\n",
       "order_hour_of_day            int64\n",
       "days_since_prior_order     float64\n",
       "product_id                   int64\n",
       "add_to_cart_order            int64\n",
       "reordered                    int64\n",
       "_merge                    category\n",
       "Unnamed: 0_y                 int64\n",
       "product_name                object\n",
       "aisle_id                     int64\n",
       "department_id                int64\n",
       "prices                     float64\n",
       "exist                     category\n",
       "price_range_loc             object\n",
       "busiest_day                 object\n",
       "Busiest_days                object\n",
       "Busiest_period_of_day       object\n",
       "max_order                    int64\n",
       "loyalty_flag                object\n",
       "total_spent                float64\n",
       "spending_flag               object\n",
       "frequency                  float64\n",
       "frequency_flag              object\n",
       "first_name                  object\n",
       "last_name                   object\n",
       "gender                      object\n",
       "state                       object\n",
       "age                          int64\n",
       "date_joined                 object\n",
       "number_of_dependants         int64\n",
       "fam_status                  object\n",
       "income                       int64\n",
       "dtype: object"
      ]
     },
     "execution_count": 7,
     "metadata": {},
     "output_type": "execute_result"
    }
   ],
   "source": [
    "#Check column names\n",
    "\n",
    "ords_prods_merge.dtypes"
   ]
  },
  {
   "cell_type": "markdown",
   "id": "40cd0de1-c66b-4982-a85a-2cf48852cf8a",
   "metadata": {},
   "source": [
    "## Data Security:\n",
    "Some of the columns that contain PII are last_name, age, number_of_dependants, and fam_status"
   ]
  },
  {
   "cell_type": "markdown",
   "id": "a8ef0e58-ab41-4b67-8374-dba812aaf8cc",
   "metadata": {},
   "source": [
    "## 3."
   ]
  },
  {
   "cell_type": "code",
   "execution_count": 8,
   "id": "6371e126-caad-433b-8c25-18f8244e84a4",
   "metadata": {
    "tags": []
   },
   "outputs": [
    {
     "data": {
      "text/plain": [
       "Pennsylvania            667082\n",
       "California              659783\n",
       "Rhode Island            656913\n",
       "Georgia                 656389\n",
       "New Mexico              654494\n",
       "Arizona                 653964\n",
       "North Carolina          651900\n",
       "Oklahoma                651739\n",
       "Alaska                  648495\n",
       "Minnesota               647825\n",
       "Massachusetts           646358\n",
       "Wyoming                 644255\n",
       "Virginia                641421\n",
       "Missouri                640732\n",
       "Texas                   640394\n",
       "Colorado                639280\n",
       "Maine                   638583\n",
       "North Dakota            638491\n",
       "Alabama                 638003\n",
       "Kansas                  637538\n",
       "Louisiana               637482\n",
       "Delaware                637024\n",
       "South Carolina          636754\n",
       "Oregon                  636425\n",
       "Arkansas                636144\n",
       "Nevada                  636139\n",
       "New York                635983\n",
       "Montana                 635265\n",
       "South Dakota            633772\n",
       "Illinois                633024\n",
       "Hawaii                  632901\n",
       "Washington              632852\n",
       "Mississippi             632675\n",
       "Kentucky                632490\n",
       "Michigan                630928\n",
       "Florida                 629027\n",
       "Ohio                    628319\n",
       "Wisconsin               628108\n",
       "New Jersey              627692\n",
       "Indiana                 627282\n",
       "Maryland                626579\n",
       "Nebraska                625813\n",
       "Iowa                    625493\n",
       "Connecticut             623022\n",
       "Tennessee               617873\n",
       "New Hampshire           615378\n",
       "District of Columbia    613695\n",
       "West Virginia           612296\n",
       "Utah                    611941\n",
       "Vermont                 611725\n",
       "Idaho                   607119\n",
       "Name: state, dtype: int64"
      ]
     },
     "execution_count": 8,
     "metadata": {},
     "output_type": "execute_result"
    }
   ],
   "source": [
    "#Frequency check on state column\n",
    "\n",
    "ords_prods_merge['state'].value_counts(dropna = False)"
   ]
  },
  {
   "cell_type": "code",
   "execution_count": 9,
   "id": "62865906-e9cf-4828-8873-5f6279d52c70",
   "metadata": {},
   "outputs": [],
   "source": [
    "#Create new region column result using Wikipedia info\n",
    "result =[]\n",
    "for state in ords_prods_merge['state']:\n",
    "    if (state == 'Wisconsin') or (state == 'Michigan') or (state == 'Illinois') or (state == 'Indiana') or (state == 'Ohio') or (state == 'North Dakota') or (state == 'South Dakota') or (state == 'Nebraska') or (state == 'Kansas') or (state == 'Minnesota') or (state == 'Iowa') or (state == 'Missouri'):\n",
    "        result.append('Midwest')\n",
    "    elif (state == 'Deleware') or (state == 'Maryland') or (state == 'District of Columbia') or (state == 'Virginia') or (state == 'West Virginia') or (state == 'North Carolina') or (state == 'South Carolina') or (state == 'Georgia') or (state == 'Florida') or (state == 'Kentucky') or (state == 'Tennessee') or (state == 'Mississippi') or (state == 'Alabama') or (state == 'Oklahoma') or (state == 'Texas') or (state == 'Arkansas') or (state == 'Louisiana'):\n",
    "        result.append('South')\n",
    "    elif (state == 'Maine') or (state == 'New Hampshire') or (state == 'Vermont') or (state == 'Massachusetts') or (state == 'Rhode Island') or (state == 'Connecticut') or (state == 'New York') or (state == 'Pennsylvania') or (state =='New Jersey'):\n",
    "        result.append('Northeast')\n",
    "    else:\n",
    "        result.append('West')"
   ]
  },
  {
   "cell_type": "code",
   "execution_count": 10,
   "id": "cf3811d9-f551-4cc3-8095-f7fd89777354",
   "metadata": {
    "collapsed": true,
    "jupyter": {
     "outputs_hidden": true
    },
    "tags": []
   },
   "outputs": [
    {
     "data": {
      "text/plain": [
       "['South',\n",
       " 'South',\n",
       " 'South',\n",
       " 'South',\n",
       " 'South',\n",
       " 'South',\n",
       " 'South',\n",
       " 'South',\n",
       " 'South',\n",
       " 'South',\n",
       " 'South',\n",
       " 'South',\n",
       " 'South',\n",
       " 'South',\n",
       " 'South',\n",
       " 'South',\n",
       " 'South',\n",
       " 'South',\n",
       " 'South',\n",
       " 'South',\n",
       " 'South',\n",
       " 'South',\n",
       " 'South',\n",
       " 'South',\n",
       " 'South',\n",
       " 'South',\n",
       " 'South',\n",
       " 'South',\n",
       " 'South',\n",
       " 'South',\n",
       " 'South',\n",
       " 'South',\n",
       " 'South',\n",
       " 'South',\n",
       " 'South',\n",
       " 'South',\n",
       " 'South',\n",
       " 'South',\n",
       " 'South',\n",
       " 'South',\n",
       " 'South',\n",
       " 'South',\n",
       " 'South',\n",
       " 'South',\n",
       " 'South',\n",
       " 'South',\n",
       " 'South',\n",
       " 'South',\n",
       " 'South',\n",
       " 'South',\n",
       " 'South',\n",
       " 'South',\n",
       " 'South',\n",
       " 'South',\n",
       " 'South',\n",
       " 'South',\n",
       " 'South',\n",
       " 'South',\n",
       " 'South',\n",
       " 'Midwest',\n",
       " 'Midwest',\n",
       " 'Midwest',\n",
       " 'Midwest',\n",
       " 'Midwest',\n",
       " 'Midwest',\n",
       " 'Midwest',\n",
       " 'Midwest',\n",
       " 'Midwest',\n",
       " 'Midwest',\n",
       " 'Midwest',\n",
       " 'Midwest',\n",
       " 'Midwest',\n",
       " 'Midwest',\n",
       " 'Midwest',\n",
       " 'Midwest',\n",
       " 'Midwest',\n",
       " 'Midwest',\n",
       " 'Midwest',\n",
       " 'Midwest',\n",
       " 'Midwest',\n",
       " 'Midwest',\n",
       " 'Midwest',\n",
       " 'Midwest',\n",
       " 'Midwest',\n",
       " 'Midwest',\n",
       " 'Midwest',\n",
       " 'Midwest',\n",
       " 'Midwest',\n",
       " 'Midwest',\n",
       " 'Midwest',\n",
       " 'Midwest',\n",
       " 'Midwest',\n",
       " 'Midwest',\n",
       " 'Midwest',\n",
       " 'Midwest',\n",
       " 'Midwest',\n",
       " 'Midwest',\n",
       " 'Midwest',\n",
       " 'Midwest',\n",
       " 'Midwest',\n",
       " 'Midwest',\n",
       " 'Midwest',\n",
       " 'Midwest',\n",
       " 'Midwest',\n",
       " 'Midwest',\n",
       " 'Midwest',\n",
       " 'Midwest',\n",
       " 'Midwest',\n",
       " 'Midwest',\n",
       " 'Midwest',\n",
       " 'Midwest',\n",
       " 'Midwest',\n",
       " 'Midwest',\n",
       " 'Midwest',\n",
       " 'Midwest',\n",
       " 'Midwest',\n",
       " 'Midwest',\n",
       " 'Midwest',\n",
       " 'Midwest',\n",
       " 'Midwest',\n",
       " 'Midwest',\n",
       " 'Midwest',\n",
       " 'Midwest',\n",
       " 'Midwest',\n",
       " 'Midwest',\n",
       " 'Midwest',\n",
       " 'Midwest',\n",
       " 'Midwest',\n",
       " 'Midwest',\n",
       " 'Midwest',\n",
       " 'Midwest',\n",
       " 'South',\n",
       " 'South',\n",
       " 'South',\n",
       " 'South',\n",
       " 'South',\n",
       " 'South',\n",
       " 'South',\n",
       " 'South',\n",
       " 'South',\n",
       " 'South',\n",
       " 'South',\n",
       " 'South',\n",
       " 'South',\n",
       " 'South',\n",
       " 'South',\n",
       " 'South',\n",
       " 'South',\n",
       " 'South',\n",
       " 'South',\n",
       " 'South',\n",
       " 'South',\n",
       " 'South',\n",
       " 'South',\n",
       " 'South',\n",
       " 'South',\n",
       " 'South',\n",
       " 'South',\n",
       " 'South',\n",
       " 'South',\n",
       " 'South',\n",
       " 'South',\n",
       " 'South',\n",
       " 'South',\n",
       " 'South',\n",
       " 'South',\n",
       " 'South',\n",
       " 'South',\n",
       " 'South',\n",
       " 'South',\n",
       " 'South',\n",
       " 'South',\n",
       " 'South',\n",
       " 'South',\n",
       " 'South',\n",
       " 'South',\n",
       " 'South',\n",
       " 'South',\n",
       " 'South',\n",
       " 'South',\n",
       " 'South',\n",
       " 'South',\n",
       " 'South',\n",
       " 'South',\n",
       " 'South',\n",
       " 'South',\n",
       " 'South',\n",
       " 'South',\n",
       " 'South',\n",
       " 'South',\n",
       " 'South',\n",
       " 'South',\n",
       " 'South',\n",
       " 'South',\n",
       " 'South',\n",
       " 'South',\n",
       " 'South',\n",
       " 'South',\n",
       " 'South',\n",
       " 'South',\n",
       " 'South',\n",
       " 'South',\n",
       " 'South',\n",
       " 'South',\n",
       " 'South',\n",
       " 'South',\n",
       " 'South',\n",
       " 'South',\n",
       " 'South',\n",
       " 'South',\n",
       " 'South',\n",
       " 'South',\n",
       " 'South',\n",
       " 'South',\n",
       " 'South',\n",
       " 'South',\n",
       " 'South',\n",
       " 'South',\n",
       " 'South',\n",
       " 'South',\n",
       " 'South',\n",
       " 'South',\n",
       " 'South',\n",
       " 'South',\n",
       " 'South',\n",
       " 'South',\n",
       " 'South',\n",
       " 'South',\n",
       " 'South',\n",
       " 'South',\n",
       " 'South',\n",
       " 'South',\n",
       " 'South',\n",
       " 'South',\n",
       " 'South',\n",
       " 'South',\n",
       " 'South',\n",
       " 'South',\n",
       " 'South',\n",
       " 'South',\n",
       " 'South',\n",
       " 'South',\n",
       " 'South',\n",
       " 'South',\n",
       " 'South',\n",
       " 'South',\n",
       " 'South',\n",
       " 'South',\n",
       " 'South',\n",
       " 'South',\n",
       " 'South',\n",
       " 'South',\n",
       " 'South',\n",
       " 'South',\n",
       " 'South',\n",
       " 'South',\n",
       " 'South',\n",
       " 'South',\n",
       " 'South',\n",
       " 'South',\n",
       " 'South',\n",
       " 'South',\n",
       " 'South',\n",
       " 'South',\n",
       " 'South',\n",
       " 'South',\n",
       " 'South',\n",
       " 'South',\n",
       " 'South',\n",
       " 'South',\n",
       " 'South',\n",
       " 'South',\n",
       " 'South',\n",
       " 'South',\n",
       " 'South',\n",
       " 'South',\n",
       " 'South',\n",
       " 'South',\n",
       " 'South',\n",
       " 'South',\n",
       " 'South',\n",
       " 'South',\n",
       " 'South',\n",
       " 'South',\n",
       " 'South',\n",
       " 'South',\n",
       " 'South',\n",
       " 'South',\n",
       " 'South',\n",
       " 'South',\n",
       " 'South',\n",
       " 'South',\n",
       " 'South',\n",
       " 'South',\n",
       " 'South',\n",
       " 'South',\n",
       " 'South',\n",
       " 'South',\n",
       " 'South',\n",
       " 'South',\n",
       " 'South',\n",
       " 'South',\n",
       " 'South',\n",
       " 'South',\n",
       " 'South',\n",
       " 'South',\n",
       " 'South',\n",
       " 'South',\n",
       " 'South',\n",
       " 'South',\n",
       " 'South',\n",
       " 'South',\n",
       " 'South',\n",
       " 'South',\n",
       " 'South',\n",
       " 'South',\n",
       " 'South',\n",
       " 'South',\n",
       " 'South',\n",
       " 'South',\n",
       " 'South',\n",
       " 'South',\n",
       " 'South',\n",
       " 'South',\n",
       " 'South',\n",
       " 'South',\n",
       " 'South',\n",
       " 'South',\n",
       " 'South',\n",
       " 'South',\n",
       " 'South',\n",
       " 'South',\n",
       " 'South',\n",
       " 'South',\n",
       " 'South',\n",
       " 'West',\n",
       " 'West',\n",
       " 'West',\n",
       " 'West',\n",
       " 'West',\n",
       " 'West',\n",
       " 'West',\n",
       " 'West',\n",
       " 'West',\n",
       " 'West',\n",
       " 'West',\n",
       " 'West',\n",
       " 'West',\n",
       " 'West',\n",
       " 'West',\n",
       " 'West',\n",
       " 'West',\n",
       " 'West',\n",
       " 'West',\n",
       " 'West',\n",
       " 'West',\n",
       " 'West',\n",
       " 'West',\n",
       " 'West',\n",
       " 'West',\n",
       " 'West',\n",
       " 'West',\n",
       " 'West',\n",
       " 'West',\n",
       " 'West',\n",
       " 'West',\n",
       " 'West',\n",
       " 'West',\n",
       " 'West',\n",
       " 'West',\n",
       " 'West',\n",
       " 'West',\n",
       " 'West',\n",
       " 'West',\n",
       " 'West',\n",
       " 'West',\n",
       " 'West',\n",
       " 'West',\n",
       " 'West',\n",
       " 'West',\n",
       " 'West',\n",
       " 'West',\n",
       " 'West',\n",
       " 'West',\n",
       " 'West',\n",
       " 'West',\n",
       " 'West',\n",
       " 'West',\n",
       " 'West',\n",
       " 'West',\n",
       " 'West',\n",
       " 'West',\n",
       " 'West',\n",
       " 'West',\n",
       " 'West',\n",
       " 'West',\n",
       " 'West',\n",
       " 'West',\n",
       " 'West',\n",
       " 'West',\n",
       " 'West',\n",
       " 'West',\n",
       " 'West',\n",
       " 'West',\n",
       " 'West',\n",
       " 'West',\n",
       " 'West',\n",
       " 'West',\n",
       " 'West',\n",
       " 'West',\n",
       " 'West',\n",
       " 'West',\n",
       " 'West',\n",
       " 'West',\n",
       " 'West',\n",
       " 'West',\n",
       " 'West',\n",
       " 'West',\n",
       " 'West',\n",
       " 'West',\n",
       " 'West',\n",
       " 'West',\n",
       " 'West',\n",
       " 'West',\n",
       " 'West',\n",
       " 'West',\n",
       " 'West',\n",
       " 'West',\n",
       " 'West',\n",
       " 'West',\n",
       " 'West',\n",
       " 'West',\n",
       " 'West',\n",
       " 'West',\n",
       " 'West',\n",
       " 'West',\n",
       " 'West',\n",
       " 'West',\n",
       " 'West',\n",
       " 'West',\n",
       " 'West',\n",
       " 'West',\n",
       " 'West',\n",
       " 'West',\n",
       " 'West',\n",
       " 'West',\n",
       " 'West',\n",
       " 'West',\n",
       " 'West',\n",
       " 'West',\n",
       " 'West',\n",
       " 'West',\n",
       " 'West',\n",
       " 'West',\n",
       " 'West',\n",
       " 'West',\n",
       " 'West',\n",
       " 'West',\n",
       " 'West',\n",
       " 'West',\n",
       " 'West',\n",
       " 'West',\n",
       " 'West',\n",
       " 'West',\n",
       " 'West',\n",
       " 'West',\n",
       " 'West',\n",
       " 'West',\n",
       " 'West',\n",
       " 'West',\n",
       " 'West',\n",
       " 'West',\n",
       " 'West',\n",
       " 'West',\n",
       " 'West',\n",
       " 'West',\n",
       " 'West',\n",
       " 'West',\n",
       " 'West',\n",
       " 'West',\n",
       " 'West',\n",
       " 'West',\n",
       " 'West',\n",
       " 'West',\n",
       " 'West',\n",
       " 'West',\n",
       " 'West',\n",
       " 'West',\n",
       " 'West',\n",
       " 'West',\n",
       " 'West',\n",
       " 'West',\n",
       " 'West',\n",
       " 'West',\n",
       " 'West',\n",
       " 'West',\n",
       " 'West',\n",
       " 'West',\n",
       " 'West',\n",
       " 'West',\n",
       " 'West',\n",
       " 'West',\n",
       " 'West',\n",
       " 'West',\n",
       " 'West',\n",
       " 'West',\n",
       " 'West',\n",
       " 'West',\n",
       " 'West',\n",
       " 'West',\n",
       " 'West',\n",
       " 'West',\n",
       " 'West',\n",
       " 'West',\n",
       " 'West',\n",
       " 'West',\n",
       " 'West',\n",
       " 'West',\n",
       " 'West',\n",
       " 'West',\n",
       " 'West',\n",
       " 'West',\n",
       " 'West',\n",
       " 'West',\n",
       " 'West',\n",
       " 'West',\n",
       " 'West',\n",
       " 'West',\n",
       " 'West',\n",
       " 'West',\n",
       " 'West',\n",
       " 'West',\n",
       " 'West',\n",
       " 'West',\n",
       " 'West',\n",
       " 'West',\n",
       " 'West',\n",
       " 'West',\n",
       " 'West',\n",
       " 'West',\n",
       " 'South',\n",
       " 'South',\n",
       " 'South',\n",
       " 'South',\n",
       " 'South',\n",
       " 'South',\n",
       " 'South',\n",
       " 'South',\n",
       " 'South',\n",
       " 'South',\n",
       " 'South',\n",
       " 'South',\n",
       " 'South',\n",
       " 'South',\n",
       " 'South',\n",
       " 'South',\n",
       " 'South',\n",
       " 'South',\n",
       " 'South',\n",
       " 'South',\n",
       " 'South',\n",
       " 'South',\n",
       " 'South',\n",
       " 'South',\n",
       " 'South',\n",
       " 'South',\n",
       " 'South',\n",
       " 'South',\n",
       " 'South',\n",
       " 'South',\n",
       " 'South',\n",
       " 'South',\n",
       " 'South',\n",
       " 'South',\n",
       " 'South',\n",
       " 'South',\n",
       " 'South',\n",
       " 'South',\n",
       " 'South',\n",
       " 'South',\n",
       " 'South',\n",
       " 'South',\n",
       " 'South',\n",
       " 'South',\n",
       " 'South',\n",
       " 'South',\n",
       " 'South',\n",
       " 'South',\n",
       " 'South',\n",
       " 'South',\n",
       " 'South',\n",
       " 'South',\n",
       " 'South',\n",
       " 'South',\n",
       " 'South',\n",
       " 'South',\n",
       " 'South',\n",
       " 'South',\n",
       " 'South',\n",
       " 'South',\n",
       " 'South',\n",
       " 'South',\n",
       " 'South',\n",
       " 'South',\n",
       " 'South',\n",
       " 'South',\n",
       " 'South',\n",
       " 'South',\n",
       " 'South',\n",
       " 'South',\n",
       " 'South',\n",
       " 'South',\n",
       " 'South',\n",
       " 'South',\n",
       " 'South',\n",
       " 'South',\n",
       " 'South',\n",
       " 'South',\n",
       " 'South',\n",
       " 'South',\n",
       " 'South',\n",
       " 'South',\n",
       " 'South',\n",
       " 'South',\n",
       " 'South',\n",
       " 'South',\n",
       " 'South',\n",
       " 'South',\n",
       " 'South',\n",
       " 'South',\n",
       " 'South',\n",
       " 'South',\n",
       " 'South',\n",
       " 'South',\n",
       " 'South',\n",
       " 'South',\n",
       " 'South',\n",
       " 'South',\n",
       " 'South',\n",
       " 'South',\n",
       " 'South',\n",
       " 'South',\n",
       " 'South',\n",
       " 'South',\n",
       " 'South',\n",
       " 'South',\n",
       " 'South',\n",
       " 'South',\n",
       " 'South',\n",
       " 'South',\n",
       " 'South',\n",
       " 'South',\n",
       " 'South',\n",
       " 'South',\n",
       " 'South',\n",
       " 'South',\n",
       " 'South',\n",
       " 'South',\n",
       " 'South',\n",
       " 'South',\n",
       " 'South',\n",
       " 'South',\n",
       " 'South',\n",
       " 'South',\n",
       " 'South',\n",
       " 'South',\n",
       " 'South',\n",
       " 'South',\n",
       " 'South',\n",
       " 'South',\n",
       " 'South',\n",
       " 'South',\n",
       " 'South',\n",
       " 'South',\n",
       " 'South',\n",
       " 'South',\n",
       " 'South',\n",
       " 'South',\n",
       " 'South',\n",
       " 'South',\n",
       " 'South',\n",
       " 'South',\n",
       " 'South',\n",
       " 'South',\n",
       " 'South',\n",
       " 'South',\n",
       " 'South',\n",
       " 'South',\n",
       " 'South',\n",
       " 'South',\n",
       " 'South',\n",
       " 'South',\n",
       " 'South',\n",
       " 'South',\n",
       " 'South',\n",
       " 'South',\n",
       " 'South',\n",
       " 'South',\n",
       " 'South',\n",
       " 'South',\n",
       " 'South',\n",
       " 'South',\n",
       " 'South',\n",
       " 'South',\n",
       " 'South',\n",
       " 'South',\n",
       " 'South',\n",
       " 'South',\n",
       " 'South',\n",
       " 'South',\n",
       " 'South',\n",
       " 'South',\n",
       " 'South',\n",
       " 'South',\n",
       " 'South',\n",
       " 'South',\n",
       " 'South',\n",
       " 'South',\n",
       " 'South',\n",
       " 'South',\n",
       " 'South',\n",
       " 'South',\n",
       " 'South',\n",
       " 'South',\n",
       " 'South',\n",
       " 'South',\n",
       " 'South',\n",
       " 'South',\n",
       " 'South',\n",
       " 'South',\n",
       " 'South',\n",
       " 'South',\n",
       " 'South',\n",
       " 'South',\n",
       " 'South',\n",
       " 'South',\n",
       " 'South',\n",
       " 'South',\n",
       " 'South',\n",
       " 'South',\n",
       " 'South',\n",
       " 'South',\n",
       " 'South',\n",
       " 'South',\n",
       " 'South',\n",
       " 'South',\n",
       " 'South',\n",
       " 'South',\n",
       " 'South',\n",
       " 'South',\n",
       " 'South',\n",
       " 'South',\n",
       " 'South',\n",
       " 'South',\n",
       " 'South',\n",
       " 'South',\n",
       " 'South',\n",
       " 'South',\n",
       " 'South',\n",
       " 'South',\n",
       " 'South',\n",
       " 'South',\n",
       " 'South',\n",
       " 'South',\n",
       " 'South',\n",
       " 'South',\n",
       " 'South',\n",
       " 'South',\n",
       " 'South',\n",
       " 'South',\n",
       " 'South',\n",
       " 'South',\n",
       " 'South',\n",
       " 'South',\n",
       " 'South',\n",
       " 'South',\n",
       " 'South',\n",
       " 'South',\n",
       " 'South',\n",
       " 'South',\n",
       " 'South',\n",
       " 'South',\n",
       " 'South',\n",
       " 'South',\n",
       " 'South',\n",
       " 'South',\n",
       " 'South',\n",
       " 'South',\n",
       " 'South',\n",
       " 'South',\n",
       " 'South',\n",
       " 'South',\n",
       " 'South',\n",
       " 'South',\n",
       " 'South',\n",
       " 'South',\n",
       " 'South',\n",
       " 'South',\n",
       " 'South',\n",
       " 'South',\n",
       " 'South',\n",
       " 'South',\n",
       " 'South',\n",
       " 'South',\n",
       " 'South',\n",
       " 'South',\n",
       " 'South',\n",
       " 'South',\n",
       " 'South',\n",
       " 'South',\n",
       " 'South',\n",
       " 'South',\n",
       " 'South',\n",
       " 'South',\n",
       " 'South',\n",
       " 'South',\n",
       " 'South',\n",
       " 'South',\n",
       " 'South',\n",
       " 'South',\n",
       " 'South',\n",
       " 'South',\n",
       " 'South',\n",
       " 'South',\n",
       " 'South',\n",
       " 'South',\n",
       " 'South',\n",
       " 'South',\n",
       " 'South',\n",
       " 'South',\n",
       " 'South',\n",
       " 'South',\n",
       " 'South',\n",
       " 'South',\n",
       " 'South',\n",
       " 'South',\n",
       " 'South',\n",
       " 'South',\n",
       " 'South',\n",
       " 'South',\n",
       " 'South',\n",
       " 'South',\n",
       " 'South',\n",
       " 'South',\n",
       " 'South',\n",
       " 'South',\n",
       " 'South',\n",
       " 'South',\n",
       " 'South',\n",
       " 'South',\n",
       " 'South',\n",
       " 'South',\n",
       " 'South',\n",
       " 'South',\n",
       " 'South',\n",
       " 'South',\n",
       " 'South',\n",
       " 'South',\n",
       " 'South',\n",
       " 'South',\n",
       " 'South',\n",
       " 'South',\n",
       " 'South',\n",
       " 'South',\n",
       " 'South',\n",
       " 'South',\n",
       " 'South',\n",
       " 'South',\n",
       " 'South',\n",
       " 'South',\n",
       " 'South',\n",
       " 'South',\n",
       " 'South',\n",
       " 'South',\n",
       " 'South',\n",
       " 'South',\n",
       " 'South',\n",
       " 'South',\n",
       " 'South',\n",
       " 'South',\n",
       " 'South',\n",
       " 'South',\n",
       " 'South',\n",
       " 'South',\n",
       " 'South',\n",
       " 'South',\n",
       " 'South',\n",
       " 'South',\n",
       " 'South',\n",
       " 'South',\n",
       " 'South',\n",
       " 'South',\n",
       " 'South',\n",
       " 'South',\n",
       " 'South',\n",
       " 'South',\n",
       " 'South',\n",
       " 'South',\n",
       " 'South',\n",
       " 'South',\n",
       " 'South',\n",
       " 'South',\n",
       " 'South',\n",
       " 'South',\n",
       " 'South',\n",
       " 'South',\n",
       " 'South',\n",
       " 'South',\n",
       " 'South',\n",
       " 'South',\n",
       " 'South',\n",
       " 'South',\n",
       " 'South',\n",
       " 'South',\n",
       " 'South',\n",
       " 'South',\n",
       " 'South',\n",
       " 'South',\n",
       " 'South',\n",
       " 'South',\n",
       " 'South',\n",
       " 'South',\n",
       " 'South',\n",
       " 'South',\n",
       " 'South',\n",
       " 'South',\n",
       " 'South',\n",
       " 'South',\n",
       " 'South',\n",
       " 'South',\n",
       " 'South',\n",
       " 'South',\n",
       " 'South',\n",
       " 'South',\n",
       " 'South',\n",
       " 'South',\n",
       " 'South',\n",
       " 'South',\n",
       " 'South',\n",
       " 'South',\n",
       " 'South',\n",
       " 'South',\n",
       " 'South',\n",
       " 'South',\n",
       " 'South',\n",
       " 'South',\n",
       " 'South',\n",
       " 'South',\n",
       " 'South',\n",
       " 'South',\n",
       " 'South',\n",
       " 'South',\n",
       " 'South',\n",
       " 'South',\n",
       " 'South',\n",
       " 'South',\n",
       " 'South',\n",
       " 'South',\n",
       " 'South',\n",
       " 'South',\n",
       " 'South',\n",
       " 'South',\n",
       " 'South',\n",
       " 'South',\n",
       " 'South',\n",
       " 'South',\n",
       " 'South',\n",
       " 'South',\n",
       " 'South',\n",
       " 'South',\n",
       " 'South',\n",
       " 'South',\n",
       " 'South',\n",
       " 'South',\n",
       " 'South',\n",
       " 'South',\n",
       " 'South',\n",
       " 'South',\n",
       " 'South',\n",
       " 'South',\n",
       " 'South',\n",
       " 'South',\n",
       " 'South',\n",
       " 'South',\n",
       " 'South',\n",
       " 'South',\n",
       " 'South',\n",
       " 'South',\n",
       " 'South',\n",
       " 'South',\n",
       " 'South',\n",
       " 'South',\n",
       " 'South',\n",
       " 'South',\n",
       " 'South',\n",
       " 'South',\n",
       " 'South',\n",
       " 'South',\n",
       " 'South',\n",
       " 'South',\n",
       " ...]"
      ]
     },
     "execution_count": 10,
     "metadata": {},
     "output_type": "execute_result"
    }
   ],
   "source": [
    "result"
   ]
  },
  {
   "cell_type": "code",
   "execution_count": 11,
   "id": "49796618-b0ad-4b8a-9ad0-2f5be6960159",
   "metadata": {},
   "outputs": [],
   "source": [
    "#Create new region column in ords_prods_merge\n",
    "\n",
    "ords_prods_merge['region'] = result"
   ]
  },
  {
   "cell_type": "code",
   "execution_count": 12,
   "id": "040ec042-4fba-4e74-9936-3b1e01ea7410",
   "metadata": {},
   "outputs": [
    {
     "data": {
      "text/plain": [
       "South        10154861\n",
       "West          8929937\n",
       "Midwest       7597325\n",
       "Northeast     5722736\n",
       "Name: region, dtype: int64"
      ]
     },
     "execution_count": 12,
     "metadata": {},
     "output_type": "execute_result"
    }
   ],
   "source": [
    "#Check freq of new column\n",
    "\n",
    "ords_prods_merge['region'].value_counts(dropna = False)"
   ]
  },
  {
   "cell_type": "code",
   "execution_count": 13,
   "id": "d005322d-39ee-4bb0-bbf9-442a6f696ade",
   "metadata": {},
   "outputs": [
    {
     "data": {
      "text/plain": [
       "32404859"
      ]
     },
     "execution_count": 13,
     "metadata": {},
     "output_type": "execute_result"
    }
   ],
   "source": [
    "#Compare length of state to region for confirmation\n",
    "\n",
    "len(ords_prods_merge['state'])"
   ]
  },
  {
   "cell_type": "code",
   "execution_count": 14,
   "id": "193f0a6d-8fe8-4095-8111-2d2284757545",
   "metadata": {},
   "outputs": [
    {
     "data": {
      "text/plain": [
       "32404859"
      ]
     },
     "execution_count": 14,
     "metadata": {},
     "output_type": "execute_result"
    }
   ],
   "source": [
    "len(ords_prods_merge['region'])"
   ]
  },
  {
   "cell_type": "code",
   "execution_count": 15,
   "id": "a98eb539-3d80-4411-b6a9-69b27c431a53",
   "metadata": {},
   "outputs": [
    {
     "data": {
      "text/plain": [
       "region    object\n",
       "dtype: object"
      ]
     },
     "execution_count": 15,
     "metadata": {},
     "output_type": "execute_result"
    }
   ],
   "source": [
    "#Check dtype of region\n",
    "\n",
    "ords_prods_merge[['region']].dtypes"
   ]
  },
  {
   "cell_type": "code",
   "execution_count": 16,
   "id": "d6e5c3ac-be0b-4d1a-938a-78beedf7fd75",
   "metadata": {},
   "outputs": [],
   "source": [
    "#Change dtpe to category\n",
    "\n",
    "ords_prods_merge['region'] = ords_prods_merge['region'].astype('category')"
   ]
  },
  {
   "cell_type": "code",
   "execution_count": 17,
   "id": "b529bc7a-7601-4aa1-91d7-7bb61fd4375c",
   "metadata": {},
   "outputs": [
    {
     "data": {
      "text/plain": [
       "region    category\n",
       "dtype: object"
      ]
     },
     "execution_count": 17,
     "metadata": {},
     "output_type": "execute_result"
    }
   ],
   "source": [
    "ords_prods_merge[['region']].dtypes"
   ]
  },
  {
   "cell_type": "code",
   "execution_count": 18,
   "id": "ea9376e2-b7e8-44d6-b5a3-15d87b37db0f",
   "metadata": {},
   "outputs": [],
   "source": [
    "#Create a crosstab with spending\n",
    "\n",
    "crosstab_regionspending = pd.crosstab(ords_prods_merge['region'], ords_prods_merge['spending_flag'], dropna = False)"
   ]
  },
  {
   "cell_type": "code",
   "execution_count": 19,
   "id": "d7d524cb-9fb2-412e-8e92-d37e10387d6c",
   "metadata": {},
   "outputs": [
    {
     "data": {
      "text/html": [
       "<div>\n",
       "<style scoped>\n",
       "    .dataframe tbody tr th:only-of-type {\n",
       "        vertical-align: middle;\n",
       "    }\n",
       "\n",
       "    .dataframe tbody tr th {\n",
       "        vertical-align: top;\n",
       "    }\n",
       "\n",
       "    .dataframe thead th {\n",
       "        text-align: right;\n",
       "    }\n",
       "</style>\n",
       "<table border=\"1\" class=\"dataframe\">\n",
       "  <thead>\n",
       "    <tr style=\"text-align: right;\">\n",
       "      <th>spending_flag</th>\n",
       "      <th>High spender</th>\n",
       "      <th>Low spender</th>\n",
       "    </tr>\n",
       "    <tr>\n",
       "      <th>region</th>\n",
       "      <th></th>\n",
       "      <th></th>\n",
       "    </tr>\n",
       "  </thead>\n",
       "  <tbody>\n",
       "    <tr>\n",
       "      <th>Midwest</th>\n",
       "      <td>7441350</td>\n",
       "      <td>155972</td>\n",
       "    </tr>\n",
       "    <tr>\n",
       "      <th>Northeast</th>\n",
       "      <td>5614511</td>\n",
       "      <td>108225</td>\n",
       "    </tr>\n",
       "    <tr>\n",
       "      <th>South</th>\n",
       "      <td>9961770</td>\n",
       "      <td>193091</td>\n",
       "    </tr>\n",
       "    <tr>\n",
       "      <th>West</th>\n",
       "      <td>8752983</td>\n",
       "      <td>176954</td>\n",
       "    </tr>\n",
       "  </tbody>\n",
       "</table>\n",
       "</div>"
      ],
      "text/plain": [
       "spending_flag  High spender  Low spender\n",
       "region                                  \n",
       "Midwest             7441350       155972\n",
       "Northeast           5614511       108225\n",
       "South               9961770       193091\n",
       "West                8752983       176954"
      ]
     },
     "execution_count": 19,
     "metadata": {},
     "output_type": "execute_result"
    }
   ],
   "source": [
    "#result\n",
    "\n",
    "crosstab_regionspending"
   ]
  },
  {
   "cell_type": "code",
   "execution_count": 20,
   "id": "7d3531d3-620b-404c-9f43-4d650d40fdaf",
   "metadata": {},
   "outputs": [],
   "source": [
    "crosstab_regionspending.to_clipboard()"
   ]
  },
  {
   "cell_type": "markdown",
   "id": "ec13c55e-f71b-4879-b686-05b6ce29258d",
   "metadata": {},
   "source": [
    "## Calculate Percentage of high spenders for each region"
   ]
  },
  {
   "cell_type": "code",
   "execution_count": 21,
   "id": "b33328af-8eac-446f-a0db-98f66dec598a",
   "metadata": {},
   "outputs": [
    {
     "data": {
      "text/plain": [
       "7597322"
      ]
     },
     "execution_count": 21,
     "metadata": {},
     "output_type": "execute_result"
    }
   ],
   "source": [
    "7441350 + 155972"
   ]
  },
  {
   "cell_type": "code",
   "execution_count": 22,
   "id": "a99cf989-9a12-46da-b659-937d2262b0b9",
   "metadata": {},
   "outputs": [],
   "source": [
    "Midwest_highspenders = (155932/7597322)*100"
   ]
  },
  {
   "cell_type": "code",
   "execution_count": 23,
   "id": "c5a88558-23a0-4a41-8e6d-1a999c1826f2",
   "metadata": {},
   "outputs": [
    {
     "data": {
      "text/plain": [
       "2.052460064217365"
      ]
     },
     "execution_count": 23,
     "metadata": {},
     "output_type": "execute_result"
    }
   ],
   "source": [
    "Midwest_highspenders"
   ]
  },
  {
   "cell_type": "code",
   "execution_count": 24,
   "id": "c5f0d334-c3e9-47e0-942d-24f12012682e",
   "metadata": {},
   "outputs": [
    {
     "data": {
      "text/plain": [
       "5722736"
      ]
     },
     "execution_count": 24,
     "metadata": {},
     "output_type": "execute_result"
    }
   ],
   "source": [
    "108180 + 5614556"
   ]
  },
  {
   "cell_type": "code",
   "execution_count": 25,
   "id": "80efec83-834e-44ec-ac7e-67511e985cac",
   "metadata": {},
   "outputs": [],
   "source": [
    "Northeast_highspenders = (108180/5722736)*100"
   ]
  },
  {
   "cell_type": "code",
   "execution_count": 26,
   "id": "65b478a9-18a8-4bdd-be8d-9fd5db8a5299",
   "metadata": {},
   "outputs": [
    {
     "data": {
      "text/plain": [
       "1.8903545437007754"
      ]
     },
     "execution_count": 26,
     "metadata": {},
     "output_type": "execute_result"
    }
   ],
   "source": [
    "Northeast_highspenders"
   ]
  },
  {
   "cell_type": "code",
   "execution_count": 27,
   "id": "b3cf1628-e5f8-415c-bc90-04fffb42b657",
   "metadata": {},
   "outputs": [
    {
     "data": {
      "text/plain": [
       "10154861"
      ]
     },
     "execution_count": 27,
     "metadata": {},
     "output_type": "execute_result"
    }
   ],
   "source": [
    "192887 + 9961974"
   ]
  },
  {
   "cell_type": "code",
   "execution_count": 28,
   "id": "b0dbd2eb-d5da-40af-b7ef-303c92b2bb6d",
   "metadata": {},
   "outputs": [],
   "source": [
    "South_highspenders = (192887/10154861)*100"
   ]
  },
  {
   "cell_type": "code",
   "execution_count": 29,
   "id": "5d4cebe9-bb06-450f-9285-ffb858d4fca9",
   "metadata": {},
   "outputs": [
    {
     "data": {
      "text/plain": [
       "1.8994548522131423"
      ]
     },
     "execution_count": 29,
     "metadata": {},
     "output_type": "execute_result"
    }
   ],
   "source": [
    "South_highspenders"
   ]
  },
  {
   "cell_type": "code",
   "execution_count": 30,
   "id": "e2eddc9c-06e0-41ed-a1ef-09de9778e9f9",
   "metadata": {},
   "outputs": [
    {
     "data": {
      "text/plain": [
       "8929937"
      ]
     },
     "execution_count": 30,
     "metadata": {},
     "output_type": "execute_result"
    }
   ],
   "source": [
    "176865 + 8753072"
   ]
  },
  {
   "cell_type": "code",
   "execution_count": 31,
   "id": "ce3a0a30-2cb3-4cdd-95ef-d785bcf6ee72",
   "metadata": {},
   "outputs": [],
   "source": [
    "West_highspenders = (176865/8929937)*100"
   ]
  },
  {
   "cell_type": "code",
   "execution_count": 32,
   "id": "bea7c4fe-0188-454f-9063-b8050762f33a",
   "metadata": {},
   "outputs": [
    {
     "data": {
      "text/plain": [
       "1.980585081395311"
      ]
     },
     "execution_count": 32,
     "metadata": {},
     "output_type": "execute_result"
    }
   ],
   "source": [
    "West_highspenders"
   ]
  },
  {
   "cell_type": "markdown",
   "id": "2aefbff6-a13b-444f-ace9-b7705b6f7e9a",
   "metadata": {},
   "source": [
    "## The Midwest region has the highest percentage of high spenders."
   ]
  },
  {
   "cell_type": "markdown",
   "id": "efb0c858-9175-4f54-b5e5-8e5d2864b7dc",
   "metadata": {},
   "source": [
    "## 4."
   ]
  },
  {
   "cell_type": "code",
   "execution_count": 33,
   "id": "9ca36060-0b4d-403f-a8ee-fbd8bffa4d52",
   "metadata": {},
   "outputs": [],
   "source": [
    "#Create flag for low activity customers\n",
    "\n",
    "ords_prods_merge.loc[ords_prods_merge['max_order'] < 5, 'excursion_flag'] = 'low activity customer'"
   ]
  },
  {
   "cell_type": "code",
   "execution_count": 34,
   "id": "9b50a7fa-a3a1-4e1f-aed8-526730145989",
   "metadata": {},
   "outputs": [],
   "source": [
    "#Create flag for non low activity customer\n",
    "\n",
    "ords_prods_merge.loc[ords_prods_merge['max_order'] >= 5, 'excursion_flag'] = 'non low activity customer'"
   ]
  },
  {
   "cell_type": "code",
   "execution_count": 35,
   "id": "209d7a9b-61d8-4ae4-9966-b6a1711bc6fc",
   "metadata": {},
   "outputs": [
    {
     "data": {
      "text/plain": [
       "non low activity customer    30964564\n",
       "low activity customer         1440295\n",
       "Name: excursion_flag, dtype: int64"
      ]
     },
     "execution_count": 35,
     "metadata": {},
     "output_type": "execute_result"
    }
   ],
   "source": [
    "#Freq check on new flag\n",
    "\n",
    "ords_prods_merge['excursion_flag'].value_counts(dropna = False)"
   ]
  },
  {
   "cell_type": "code",
   "execution_count": 36,
   "id": "50d6547d-2154-4233-a5fc-c1fd01cdc88d",
   "metadata": {},
   "outputs": [
    {
     "data": {
      "text/plain": [
       "0    non low activity customer\n",
       "1    non low activity customer\n",
       "2    non low activity customer\n",
       "3    non low activity customer\n",
       "4    non low activity customer\n",
       "Name: excursion_flag, dtype: object"
      ]
     },
     "execution_count": 36,
     "metadata": {},
     "output_type": "execute_result"
    }
   ],
   "source": [
    "ords_prods_merge['excursion_flag'].head()"
   ]
  },
  {
   "cell_type": "code",
   "execution_count": 37,
   "id": "39e7bf9d-87ea-4e9f-80b6-27776c57cbc2",
   "metadata": {},
   "outputs": [],
   "source": [
    "#Create low activity subset\n",
    "\n",
    "ords_prods_merge_low_activity = ords_prods_merge[ords_prods_merge['excursion_flag'] =='low activity customer']"
   ]
  },
  {
   "cell_type": "code",
   "execution_count": 38,
   "id": "268325dd-6c62-428f-8a25-c5b2fa7c4f04",
   "metadata": {},
   "outputs": [
    {
     "data": {
      "text/html": [
       "<div>\n",
       "<style scoped>\n",
       "    .dataframe tbody tr th:only-of-type {\n",
       "        vertical-align: middle;\n",
       "    }\n",
       "\n",
       "    .dataframe tbody tr th {\n",
       "        vertical-align: top;\n",
       "    }\n",
       "\n",
       "    .dataframe thead th {\n",
       "        text-align: right;\n",
       "    }\n",
       "</style>\n",
       "<table border=\"1\" class=\"dataframe\">\n",
       "  <thead>\n",
       "    <tr style=\"text-align: right;\">\n",
       "      <th></th>\n",
       "      <th>Unnamed: 0_x</th>\n",
       "      <th>order_id</th>\n",
       "      <th>user_id</th>\n",
       "      <th>eval_set</th>\n",
       "      <th>order_number</th>\n",
       "      <th>orders_day_of_week</th>\n",
       "      <th>order_hour_of_day</th>\n",
       "      <th>days_since_prior_order</th>\n",
       "      <th>product_id</th>\n",
       "      <th>add_to_cart_order</th>\n",
       "      <th>...</th>\n",
       "      <th>last_name</th>\n",
       "      <th>gender</th>\n",
       "      <th>state</th>\n",
       "      <th>age</th>\n",
       "      <th>date_joined</th>\n",
       "      <th>number_of_dependants</th>\n",
       "      <th>fam_status</th>\n",
       "      <th>income</th>\n",
       "      <th>region</th>\n",
       "      <th>excursion_flag</th>\n",
       "    </tr>\n",
       "  </thead>\n",
       "  <tbody>\n",
       "    <tr>\n",
       "      <th>1510</th>\n",
       "      <td>1744</td>\n",
       "      <td>520620</td>\n",
       "      <td>120</td>\n",
       "      <td>prior</td>\n",
       "      <td>1</td>\n",
       "      <td>3</td>\n",
       "      <td>11</td>\n",
       "      <td>NaN</td>\n",
       "      <td>196</td>\n",
       "      <td>2</td>\n",
       "      <td>...</td>\n",
       "      <td>Rich</td>\n",
       "      <td>Female</td>\n",
       "      <td>Kentucky</td>\n",
       "      <td>54</td>\n",
       "      <td>3/2/2017</td>\n",
       "      <td>2</td>\n",
       "      <td>married</td>\n",
       "      <td>99219</td>\n",
       "      <td>South</td>\n",
       "      <td>low activity customer</td>\n",
       "    </tr>\n",
       "    <tr>\n",
       "      <th>1511</th>\n",
       "      <td>1746</td>\n",
       "      <td>3273029</td>\n",
       "      <td>120</td>\n",
       "      <td>prior</td>\n",
       "      <td>3</td>\n",
       "      <td>2</td>\n",
       "      <td>8</td>\n",
       "      <td>19.0</td>\n",
       "      <td>196</td>\n",
       "      <td>2</td>\n",
       "      <td>...</td>\n",
       "      <td>Rich</td>\n",
       "      <td>Female</td>\n",
       "      <td>Kentucky</td>\n",
       "      <td>54</td>\n",
       "      <td>3/2/2017</td>\n",
       "      <td>2</td>\n",
       "      <td>married</td>\n",
       "      <td>99219</td>\n",
       "      <td>South</td>\n",
       "      <td>low activity customer</td>\n",
       "    </tr>\n",
       "    <tr>\n",
       "      <th>1512</th>\n",
       "      <td>1744</td>\n",
       "      <td>520620</td>\n",
       "      <td>120</td>\n",
       "      <td>prior</td>\n",
       "      <td>1</td>\n",
       "      <td>3</td>\n",
       "      <td>11</td>\n",
       "      <td>NaN</td>\n",
       "      <td>46149</td>\n",
       "      <td>1</td>\n",
       "      <td>...</td>\n",
       "      <td>Rich</td>\n",
       "      <td>Female</td>\n",
       "      <td>Kentucky</td>\n",
       "      <td>54</td>\n",
       "      <td>3/2/2017</td>\n",
       "      <td>2</td>\n",
       "      <td>married</td>\n",
       "      <td>99219</td>\n",
       "      <td>South</td>\n",
       "      <td>low activity customer</td>\n",
       "    </tr>\n",
       "    <tr>\n",
       "      <th>1513</th>\n",
       "      <td>1746</td>\n",
       "      <td>3273029</td>\n",
       "      <td>120</td>\n",
       "      <td>prior</td>\n",
       "      <td>3</td>\n",
       "      <td>2</td>\n",
       "      <td>8</td>\n",
       "      <td>19.0</td>\n",
       "      <td>46149</td>\n",
       "      <td>1</td>\n",
       "      <td>...</td>\n",
       "      <td>Rich</td>\n",
       "      <td>Female</td>\n",
       "      <td>Kentucky</td>\n",
       "      <td>54</td>\n",
       "      <td>3/2/2017</td>\n",
       "      <td>2</td>\n",
       "      <td>married</td>\n",
       "      <td>99219</td>\n",
       "      <td>South</td>\n",
       "      <td>low activity customer</td>\n",
       "    </tr>\n",
       "    <tr>\n",
       "      <th>1514</th>\n",
       "      <td>1744</td>\n",
       "      <td>520620</td>\n",
       "      <td>120</td>\n",
       "      <td>prior</td>\n",
       "      <td>1</td>\n",
       "      <td>3</td>\n",
       "      <td>11</td>\n",
       "      <td>NaN</td>\n",
       "      <td>26348</td>\n",
       "      <td>3</td>\n",
       "      <td>...</td>\n",
       "      <td>Rich</td>\n",
       "      <td>Female</td>\n",
       "      <td>Kentucky</td>\n",
       "      <td>54</td>\n",
       "      <td>3/2/2017</td>\n",
       "      <td>2</td>\n",
       "      <td>married</td>\n",
       "      <td>99219</td>\n",
       "      <td>South</td>\n",
       "      <td>low activity customer</td>\n",
       "    </tr>\n",
       "  </tbody>\n",
       "</table>\n",
       "<p>5 rows × 39 columns</p>\n",
       "</div>"
      ],
      "text/plain": [
       "      Unnamed: 0_x  order_id  user_id eval_set  order_number  \\\n",
       "1510          1744    520620      120    prior             1   \n",
       "1511          1746   3273029      120    prior             3   \n",
       "1512          1744    520620      120    prior             1   \n",
       "1513          1746   3273029      120    prior             3   \n",
       "1514          1744    520620      120    prior             1   \n",
       "\n",
       "      orders_day_of_week  order_hour_of_day  days_since_prior_order  \\\n",
       "1510                   3                 11                     NaN   \n",
       "1511                   2                  8                    19.0   \n",
       "1512                   3                 11                     NaN   \n",
       "1513                   2                  8                    19.0   \n",
       "1514                   3                 11                     NaN   \n",
       "\n",
       "      product_id  add_to_cart_order  ...  last_name  gender     state age  \\\n",
       "1510         196                  2  ...       Rich  Female  Kentucky  54   \n",
       "1511         196                  2  ...       Rich  Female  Kentucky  54   \n",
       "1512       46149                  1  ...       Rich  Female  Kentucky  54   \n",
       "1513       46149                  1  ...       Rich  Female  Kentucky  54   \n",
       "1514       26348                  3  ...       Rich  Female  Kentucky  54   \n",
       "\n",
       "      date_joined  number_of_dependants  fam_status income region  \\\n",
       "1510     3/2/2017                     2     married  99219  South   \n",
       "1511     3/2/2017                     2     married  99219  South   \n",
       "1512     3/2/2017                     2     married  99219  South   \n",
       "1513     3/2/2017                     2     married  99219  South   \n",
       "1514     3/2/2017                     2     married  99219  South   \n",
       "\n",
       "             excursion_flag  \n",
       "1510  low activity customer  \n",
       "1511  low activity customer  \n",
       "1512  low activity customer  \n",
       "1513  low activity customer  \n",
       "1514  low activity customer  \n",
       "\n",
       "[5 rows x 39 columns]"
      ]
     },
     "execution_count": 38,
     "metadata": {},
     "output_type": "execute_result"
    }
   ],
   "source": [
    "ords_prods_merge_low_activity.head()"
   ]
  },
  {
   "cell_type": "code",
   "execution_count": 39,
   "id": "de8eeb1d-a181-4c63-9d7b-4d6ffec94d58",
   "metadata": {},
   "outputs": [
    {
     "data": {
      "text/plain": [
       "(1440295, 39)"
      ]
     },
     "execution_count": 39,
     "metadata": {},
     "output_type": "execute_result"
    }
   ],
   "source": [
    "ords_prods_merge_low_activity.shape"
   ]
  },
  {
   "cell_type": "code",
   "execution_count": 40,
   "id": "09c32f7b-d6d8-4ca3-a6da-8b8162b02fb4",
   "metadata": {},
   "outputs": [
    {
     "data": {
      "text/plain": [
       "4    753543\n",
       "3    686741\n",
       "2         6\n",
       "1         5\n",
       "Name: max_order, dtype: int64"
      ]
     },
     "execution_count": 40,
     "metadata": {},
     "output_type": "execute_result"
    }
   ],
   "source": [
    "ords_prods_merge_low_activity['max_order'].value_counts(dropna = False)"
   ]
  },
  {
   "cell_type": "code",
   "execution_count": 41,
   "id": "ffa25ba0-977f-4b4b-970f-a5b6cde3c8e7",
   "metadata": {},
   "outputs": [],
   "source": [
    "#Create crosstab with region and ex flag\n",
    "\n",
    "crosstab_region_excursion = pd.crosstab(ords_prods_merge['region'], ords_prods_merge['excursion_flag'], dropna = False)"
   ]
  },
  {
   "cell_type": "code",
   "execution_count": 42,
   "id": "0e631096-c491-4eda-9879-592d808dae67",
   "metadata": {},
   "outputs": [],
   "source": [
    "crosstab_region_excursion.to_clipboard()"
   ]
  },
  {
   "cell_type": "code",
   "execution_count": 43,
   "id": "d4c6892f-5c92-4205-8615-762316a1ca6a",
   "metadata": {},
   "outputs": [],
   "source": [
    "#Export subset for low activity customers\n",
    "ords_prods_merge_low_activity.to_pickle(os.path.join(path,'02 Data','Prepared Data','orders_products_merge_low_activity_customers.pickle'))"
   ]
  },
  {
   "cell_type": "markdown",
   "id": "40715595-5d3d-4e39-ba03-0504204149e0",
   "metadata": {},
   "source": [
    "## 5."
   ]
  },
  {
   "cell_type": "code",
   "execution_count": 44,
   "id": "29a174c9-878e-41a1-90fd-574b04e44992",
   "metadata": {},
   "outputs": [],
   "source": [
    "ords_prods_merge['excursion_flag'] = ords_prods_merge['excursion_flag'].astype('category')"
   ]
  },
  {
   "cell_type": "code",
   "execution_count": 45,
   "id": "d60d1d9d-03d9-4a8c-9225-5441a3a7e578",
   "metadata": {},
   "outputs": [
    {
     "data": {
      "text/plain": [
       "(32404859, 39)"
      ]
     },
     "execution_count": 45,
     "metadata": {},
     "output_type": "execute_result"
    }
   ],
   "source": [
    "ords_prods_merge.shape"
   ]
  },
  {
   "cell_type": "code",
   "execution_count": 46,
   "id": "884ecf9c-51b5-44f9-bb4d-a5d6f2bbde56",
   "metadata": {
    "tags": []
   },
   "outputs": [
    {
     "data": {
      "text/plain": [
       "Unnamed: 0_x                 int64\n",
       "order_id                     int64\n",
       "user_id                      int64\n",
       "eval_set                    object\n",
       "order_number                 int64\n",
       "orders_day_of_week           int64\n",
       "order_hour_of_day            int64\n",
       "days_since_prior_order     float64\n",
       "product_id                   int64\n",
       "add_to_cart_order            int64\n",
       "reordered                    int64\n",
       "_merge                    category\n",
       "Unnamed: 0_y                 int64\n",
       "product_name                object\n",
       "aisle_id                     int64\n",
       "department_id                int64\n",
       "prices                     float64\n",
       "exist                     category\n",
       "price_range_loc             object\n",
       "busiest_day                 object\n",
       "Busiest_days                object\n",
       "Busiest_period_of_day       object\n",
       "max_order                    int64\n",
       "loyalty_flag                object\n",
       "total_spent                float64\n",
       "spending_flag               object\n",
       "frequency                  float64\n",
       "frequency_flag              object\n",
       "first_name                  object\n",
       "last_name                   object\n",
       "gender                      object\n",
       "state                       object\n",
       "age                          int64\n",
       "date_joined                 object\n",
       "number_of_dependants         int64\n",
       "fam_status                  object\n",
       "income                       int64\n",
       "region                    category\n",
       "excursion_flag            category\n",
       "dtype: object"
      ]
     },
     "execution_count": 46,
     "metadata": {},
     "output_type": "execute_result"
    }
   ],
   "source": [
    "ords_prods_merge.dtypes"
   ]
  },
  {
   "cell_type": "markdown",
   "id": "63a8c9b5-67fb-4c7b-b079-546cb99985f3",
   "metadata": {},
   "source": [
    "## Create new profiles using age, income, certain goods in dep_id column, and number of dependants\n",
    "\n"
   ]
  },
  {
   "cell_type": "markdown",
   "id": "3a2a6662-f234-4d5a-8031-46ec361312c4",
   "metadata": {},
   "source": [
    "## Age Profiles:"
   ]
  },
  {
   "cell_type": "code",
   "execution_count": 47,
   "id": "67677852-0ace-45b8-af62-3894cedb5602",
   "metadata": {},
   "outputs": [
    {
     "data": {
      "text/plain": [
       "18"
      ]
     },
     "execution_count": 47,
     "metadata": {},
     "output_type": "execute_result"
    }
   ],
   "source": [
    "ords_prods_merge['age'].min()"
   ]
  },
  {
   "cell_type": "code",
   "execution_count": 48,
   "id": "3718856d-6b64-495d-b858-12a48e0eabe1",
   "metadata": {},
   "outputs": [
    {
     "data": {
      "text/plain": [
       "81"
      ]
     },
     "execution_count": 48,
     "metadata": {},
     "output_type": "execute_result"
    }
   ],
   "source": [
    "ords_prods_merge['age'].max()"
   ]
  },
  {
   "cell_type": "code",
   "execution_count": 49,
   "id": "a839d090-7deb-4482-9518-478cd3dc9b8b",
   "metadata": {},
   "outputs": [],
   "source": [
    "#Creating profiles\n",
    "\n",
    "ords_prods_merge.loc[ords_prods_merge['age'] <24, 'Age_classification'] = '<24'"
   ]
  },
  {
   "cell_type": "code",
   "execution_count": 50,
   "id": "382e5214-11d3-4f12-8275-77d376a72aa9",
   "metadata": {},
   "outputs": [],
   "source": [
    "ords_prods_merge.loc[(ords_prods_merge['age'] >=25) & (ords_prods_merge['age'] <=34), 'Age_classification'] = '25-34'"
   ]
  },
  {
   "cell_type": "code",
   "execution_count": 51,
   "id": "518c0dcb-180c-46bf-9645-e1e49e60b8a6",
   "metadata": {},
   "outputs": [],
   "source": [
    "ords_prods_merge.loc[(ords_prods_merge['age'] >=35) & (ords_prods_merge['age'] <=44), 'Age_classification'] = '35-44'"
   ]
  },
  {
   "cell_type": "code",
   "execution_count": 52,
   "id": "782332b8-b5bb-4bd3-9800-017e61110743",
   "metadata": {},
   "outputs": [],
   "source": [
    "ords_prods_merge.loc[(ords_prods_merge['age'] >=45) & (ords_prods_merge['age'] <=54), 'Age_classification'] = '45-54'"
   ]
  },
  {
   "cell_type": "code",
   "execution_count": 53,
   "id": "22b4b70d-6de6-468b-a971-d356a1eeac02",
   "metadata": {},
   "outputs": [],
   "source": [
    "ords_prods_merge.loc[(ords_prods_merge['age'] >=55) & (ords_prods_merge['age'] <=64), 'Age_classification'] = '55-64'"
   ]
  },
  {
   "cell_type": "code",
   "execution_count": 54,
   "id": "b2030062-150e-4fdc-8e7c-05292290d7d5",
   "metadata": {},
   "outputs": [],
   "source": [
    "ords_prods_merge.loc[(ords_prods_merge['age'] >=65) & (ords_prods_merge['age'] <=74), 'Age_classification'] = '65-74'"
   ]
  },
  {
   "cell_type": "code",
   "execution_count": 55,
   "id": "81617da9-198b-400d-a051-7bf35f563356",
   "metadata": {},
   "outputs": [],
   "source": [
    "ords_prods_merge.loc[(ords_prods_merge['age'] >=75) & (ords_prods_merge['age'] <=81), 'Age_classification'] = '74-81'"
   ]
  },
  {
   "cell_type": "code",
   "execution_count": 56,
   "id": "327087e7-abfd-45f9-a366-a6547ad611f6",
   "metadata": {},
   "outputs": [
    {
     "data": {
      "text/plain": [
       "25-34    5054654\n",
       "35-44    5062429\n",
       "45-54    5111126\n",
       "55-64    5028565\n",
       "65-74    5005001\n",
       "74-81    3570083\n",
       "<24      3063939\n",
       "Name: Age_classification, dtype: int64"
      ]
     },
     "execution_count": 56,
     "metadata": {},
     "output_type": "execute_result"
    }
   ],
   "source": [
    "#Check profiles\n",
    "\n",
    "ords_prods_merge['Age_classification'].value_counts().sort_index()"
   ]
  },
  {
   "cell_type": "code",
   "execution_count": 57,
   "id": "67a43326-ca11-4bb3-9fe1-3b0e2b208e5f",
   "metadata": {},
   "outputs": [],
   "source": [
    "#Create crosstab for age and fam_status\n",
    "\n",
    "crosstab_age_family = pd.crosstab(ords_prods_merge['Age_classification'], ords_prods_merge['fam_status'], dropna = False)"
   ]
  },
  {
   "cell_type": "code",
   "execution_count": 58,
   "id": "f2326899-4313-4a63-ab3a-e1b33bafd478",
   "metadata": {},
   "outputs": [
    {
     "data": {
      "text/html": [
       "<div>\n",
       "<style scoped>\n",
       "    .dataframe tbody tr th:only-of-type {\n",
       "        vertical-align: middle;\n",
       "    }\n",
       "\n",
       "    .dataframe tbody tr th {\n",
       "        vertical-align: top;\n",
       "    }\n",
       "\n",
       "    .dataframe thead th {\n",
       "        text-align: right;\n",
       "    }\n",
       "</style>\n",
       "<table border=\"1\" class=\"dataframe\">\n",
       "  <thead>\n",
       "    <tr style=\"text-align: right;\">\n",
       "      <th>fam_status</th>\n",
       "      <th>divorced/widowed</th>\n",
       "      <th>living with parents and siblings</th>\n",
       "      <th>married</th>\n",
       "      <th>single</th>\n",
       "    </tr>\n",
       "    <tr>\n",
       "      <th>Age_classification</th>\n",
       "      <th></th>\n",
       "      <th></th>\n",
       "      <th></th>\n",
       "      <th></th>\n",
       "    </tr>\n",
       "  </thead>\n",
       "  <tbody>\n",
       "    <tr>\n",
       "      <th>25-34</th>\n",
       "      <td>0</td>\n",
       "      <td>0</td>\n",
       "      <td>3761305</td>\n",
       "      <td>1293349</td>\n",
       "    </tr>\n",
       "    <tr>\n",
       "      <th>35-44</th>\n",
       "      <td>0</td>\n",
       "      <td>0</td>\n",
       "      <td>3804905</td>\n",
       "      <td>1257524</td>\n",
       "    </tr>\n",
       "    <tr>\n",
       "      <th>45-54</th>\n",
       "      <td>0</td>\n",
       "      <td>0</td>\n",
       "      <td>3856661</td>\n",
       "      <td>1254465</td>\n",
       "    </tr>\n",
       "    <tr>\n",
       "      <th>55-64</th>\n",
       "      <td>651728</td>\n",
       "      <td>0</td>\n",
       "      <td>3720062</td>\n",
       "      <td>656775</td>\n",
       "    </tr>\n",
       "    <tr>\n",
       "      <th>65-74</th>\n",
       "      <td>1232677</td>\n",
       "      <td>0</td>\n",
       "      <td>3772324</td>\n",
       "      <td>0</td>\n",
       "    </tr>\n",
       "    <tr>\n",
       "      <th>74-81</th>\n",
       "      <td>887407</td>\n",
       "      <td>0</td>\n",
       "      <td>2682676</td>\n",
       "      <td>0</td>\n",
       "    </tr>\n",
       "    <tr>\n",
       "      <th>&lt;24</th>\n",
       "      <td>0</td>\n",
       "      <td>1550603</td>\n",
       "      <td>767154</td>\n",
       "      <td>746182</td>\n",
       "    </tr>\n",
       "  </tbody>\n",
       "</table>\n",
       "</div>"
      ],
      "text/plain": [
       "fam_status          divorced/widowed  living with parents and siblings  \\\n",
       "Age_classification                                                       \n",
       "25-34                              0                                 0   \n",
       "35-44                              0                                 0   \n",
       "45-54                              0                                 0   \n",
       "55-64                         651728                                 0   \n",
       "65-74                        1232677                                 0   \n",
       "74-81                         887407                                 0   \n",
       "<24                                0                           1550603   \n",
       "\n",
       "fam_status          married   single  \n",
       "Age_classification                    \n",
       "25-34               3761305  1293349  \n",
       "35-44               3804905  1257524  \n",
       "45-54               3856661  1254465  \n",
       "55-64               3720062   656775  \n",
       "65-74               3772324        0  \n",
       "74-81               2682676        0  \n",
       "<24                  767154   746182  "
      ]
     },
     "execution_count": 58,
     "metadata": {},
     "output_type": "execute_result"
    }
   ],
   "source": [
    "crosstab_age_family"
   ]
  },
  {
   "cell_type": "code",
   "execution_count": 59,
   "id": "0f2c51f7-3674-494f-b4ea-1641c74911a1",
   "metadata": {},
   "outputs": [],
   "source": [
    "#Create crosstab for age and loyalty flag\n",
    "\n",
    "crosstab_age_loyalty = pd.crosstab(ords_prods_merge['Age_classification'], ords_prods_merge['loyalty_flag'], dropna = False)"
   ]
  },
  {
   "cell_type": "code",
   "execution_count": 60,
   "id": "a01a5465-190c-44c6-921e-bb83b5a1a7a0",
   "metadata": {},
   "outputs": [
    {
     "data": {
      "text/html": [
       "<div>\n",
       "<style scoped>\n",
       "    .dataframe tbody tr th:only-of-type {\n",
       "        vertical-align: middle;\n",
       "    }\n",
       "\n",
       "    .dataframe tbody tr th {\n",
       "        vertical-align: top;\n",
       "    }\n",
       "\n",
       "    .dataframe thead th {\n",
       "        text-align: right;\n",
       "    }\n",
       "</style>\n",
       "<table border=\"1\" class=\"dataframe\">\n",
       "  <thead>\n",
       "    <tr style=\"text-align: right;\">\n",
       "      <th>loyalty_flag</th>\n",
       "      <th>Loyal customer</th>\n",
       "      <th>New customer</th>\n",
       "      <th>Regular customer</th>\n",
       "    </tr>\n",
       "    <tr>\n",
       "      <th>Age_classification</th>\n",
       "      <th></th>\n",
       "      <th></th>\n",
       "      <th></th>\n",
       "    </tr>\n",
       "  </thead>\n",
       "  <tbody>\n",
       "    <tr>\n",
       "      <th>25-34</th>\n",
       "      <td>1571822</td>\n",
       "      <td>982116</td>\n",
       "      <td>2500716</td>\n",
       "    </tr>\n",
       "    <tr>\n",
       "      <th>35-44</th>\n",
       "      <td>1613222</td>\n",
       "      <td>964481</td>\n",
       "      <td>2484726</td>\n",
       "    </tr>\n",
       "    <tr>\n",
       "      <th>45-54</th>\n",
       "      <td>1625107</td>\n",
       "      <td>975997</td>\n",
       "      <td>2510022</td>\n",
       "    </tr>\n",
       "    <tr>\n",
       "      <th>55-64</th>\n",
       "      <td>1606402</td>\n",
       "      <td>980313</td>\n",
       "      <td>2441850</td>\n",
       "    </tr>\n",
       "    <tr>\n",
       "      <th>65-74</th>\n",
       "      <td>1588653</td>\n",
       "      <td>971200</td>\n",
       "      <td>2445148</td>\n",
       "    </tr>\n",
       "    <tr>\n",
       "      <th>74-81</th>\n",
       "      <td>1135305</td>\n",
       "      <td>684999</td>\n",
       "      <td>1749779</td>\n",
       "    </tr>\n",
       "    <tr>\n",
       "      <th>&lt;24</th>\n",
       "      <td>990777</td>\n",
       "      <td>584623</td>\n",
       "      <td>1488539</td>\n",
       "    </tr>\n",
       "  </tbody>\n",
       "</table>\n",
       "</div>"
      ],
      "text/plain": [
       "loyalty_flag        Loyal customer  New customer  Regular customer\n",
       "Age_classification                                                \n",
       "25-34                      1571822        982116           2500716\n",
       "35-44                      1613222        964481           2484726\n",
       "45-54                      1625107        975997           2510022\n",
       "55-64                      1606402        980313           2441850\n",
       "65-74                      1588653        971200           2445148\n",
       "74-81                      1135305        684999           1749779\n",
       "<24                         990777        584623           1488539"
      ]
     },
     "execution_count": 60,
     "metadata": {},
     "output_type": "execute_result"
    }
   ],
   "source": [
    "crosstab_age_loyalty"
   ]
  },
  {
   "cell_type": "code",
   "execution_count": 61,
   "id": "57472f48-9886-45c4-b159-0ac77a20ac55",
   "metadata": {},
   "outputs": [],
   "source": [
    "crosstab_age_loyalty.to_clipboard()"
   ]
  },
  {
   "cell_type": "code",
   "execution_count": 62,
   "id": "4e337995-6ef3-4d1b-8dc0-31c07298f4f8",
   "metadata": {},
   "outputs": [],
   "source": [
    "#Create crosstab for age and nuber of dependants \n",
    "\n",
    "crosstab_age_dependants = pd.crosstab(ords_prods_merge['Age_classification'], ords_prods_merge['number_of_dependants'], dropna = False)"
   ]
  },
  {
   "cell_type": "code",
   "execution_count": 63,
   "id": "186d6c4a-5051-4f77-873e-e1f0cc4511d6",
   "metadata": {},
   "outputs": [
    {
     "data": {
      "text/html": [
       "<div>\n",
       "<style scoped>\n",
       "    .dataframe tbody tr th:only-of-type {\n",
       "        vertical-align: middle;\n",
       "    }\n",
       "\n",
       "    .dataframe tbody tr th {\n",
       "        vertical-align: top;\n",
       "    }\n",
       "\n",
       "    .dataframe thead th {\n",
       "        text-align: right;\n",
       "    }\n",
       "</style>\n",
       "<table border=\"1\" class=\"dataframe\">\n",
       "  <thead>\n",
       "    <tr style=\"text-align: right;\">\n",
       "      <th>number_of_dependants</th>\n",
       "      <th>0</th>\n",
       "      <th>1</th>\n",
       "      <th>2</th>\n",
       "      <th>3</th>\n",
       "    </tr>\n",
       "    <tr>\n",
       "      <th>Age_classification</th>\n",
       "      <th></th>\n",
       "      <th></th>\n",
       "      <th></th>\n",
       "      <th></th>\n",
       "    </tr>\n",
       "  </thead>\n",
       "  <tbody>\n",
       "    <tr>\n",
       "      <th>25-34</th>\n",
       "      <td>1293349</td>\n",
       "      <td>1221502</td>\n",
       "      <td>1279883</td>\n",
       "      <td>1259920</td>\n",
       "    </tr>\n",
       "    <tr>\n",
       "      <th>35-44</th>\n",
       "      <td>1257524</td>\n",
       "      <td>1292455</td>\n",
       "      <td>1258621</td>\n",
       "      <td>1253829</td>\n",
       "    </tr>\n",
       "    <tr>\n",
       "      <th>45-54</th>\n",
       "      <td>1254465</td>\n",
       "      <td>1289295</td>\n",
       "      <td>1260718</td>\n",
       "      <td>1306648</td>\n",
       "    </tr>\n",
       "    <tr>\n",
       "      <th>55-64</th>\n",
       "      <td>1308503</td>\n",
       "      <td>1231949</td>\n",
       "      <td>1227054</td>\n",
       "      <td>1261059</td>\n",
       "    </tr>\n",
       "    <tr>\n",
       "      <th>65-74</th>\n",
       "      <td>1232677</td>\n",
       "      <td>1221032</td>\n",
       "      <td>1278173</td>\n",
       "      <td>1273119</td>\n",
       "    </tr>\n",
       "    <tr>\n",
       "      <th>74-81</th>\n",
       "      <td>887407</td>\n",
       "      <td>902691</td>\n",
       "      <td>908841</td>\n",
       "      <td>871144</td>\n",
       "    </tr>\n",
       "    <tr>\n",
       "      <th>&lt;24</th>\n",
       "      <td>746182</td>\n",
       "      <td>783823</td>\n",
       "      <td>753963</td>\n",
       "      <td>779971</td>\n",
       "    </tr>\n",
       "  </tbody>\n",
       "</table>\n",
       "</div>"
      ],
      "text/plain": [
       "number_of_dependants        0        1        2        3\n",
       "Age_classification                                      \n",
       "25-34                 1293349  1221502  1279883  1259920\n",
       "35-44                 1257524  1292455  1258621  1253829\n",
       "45-54                 1254465  1289295  1260718  1306648\n",
       "55-64                 1308503  1231949  1227054  1261059\n",
       "65-74                 1232677  1221032  1278173  1273119\n",
       "74-81                  887407   902691   908841   871144\n",
       "<24                    746182   783823   753963   779971"
      ]
     },
     "execution_count": 63,
     "metadata": {},
     "output_type": "execute_result"
    }
   ],
   "source": [
    "crosstab_age_dependants"
   ]
  },
  {
   "cell_type": "code",
   "execution_count": 64,
   "id": "b7511f1b-0df0-4129-8152-67ac5187c024",
   "metadata": {},
   "outputs": [],
   "source": [
    "crosstab_age_dependants.to_clipboard()"
   ]
  },
  {
   "cell_type": "markdown",
   "id": "53392501-96e1-4f54-b67c-8fc108950dbb",
   "metadata": {},
   "source": [
    "## Income Profiles:"
   ]
  },
  {
   "cell_type": "code",
   "execution_count": 65,
   "id": "e41b8911-a426-45fa-b298-d405a18e8e9d",
   "metadata": {},
   "outputs": [
    {
     "data": {
      "text/plain": [
       "25903"
      ]
     },
     "execution_count": 65,
     "metadata": {},
     "output_type": "execute_result"
    }
   ],
   "source": [
    "ords_prods_merge['income'].min()"
   ]
  },
  {
   "cell_type": "code",
   "execution_count": 66,
   "id": "b9c95909-16f3-47ac-be77-0da5d0e61093",
   "metadata": {},
   "outputs": [
    {
     "data": {
      "text/plain": [
       "593901"
      ]
     },
     "execution_count": 66,
     "metadata": {},
     "output_type": "execute_result"
    }
   ],
   "source": [
    "ords_prods_merge['income'].max()"
   ]
  },
  {
   "cell_type": "code",
   "execution_count": 67,
   "id": "c0dca744-ccbe-48fd-af3d-24522e89784c",
   "metadata": {},
   "outputs": [
    {
     "data": {
      "text/plain": [
       "25903      20\n",
       "25911      28\n",
       "25937      39\n",
       "25941      31\n",
       "25955     392\n",
       "         ... \n",
       "584097    826\n",
       "590790     54\n",
       "591089    176\n",
       "592409    318\n",
       "593901    640\n",
       "Name: income, Length: 108012, dtype: int64"
      ]
     },
     "execution_count": 67,
     "metadata": {},
     "output_type": "execute_result"
    }
   ],
   "source": [
    "ords_prods_merge['income'].value_counts().sort_index()"
   ]
  },
  {
   "cell_type": "code",
   "execution_count": 68,
   "id": "1ffd153f-bc22-4267-acdb-6c63422398f8",
   "metadata": {},
   "outputs": [],
   "source": [
    "#Create catergories for income using for loops \n",
    "income = []\n",
    "\n",
    "for value in ords_prods_merge['income']:\n",
    "    if value <=25000:\n",
    "        income.append('0-025000')\n",
    "    elif (value > 25000) and (value <= 40000):\n",
    "        income.append('025000-040000')\n",
    "    elif (value > 40000) and (value <= 99000):\n",
    "        income.append('040000-099000')\n",
    "    elif (value > 99000) and (value <=199000):\n",
    "            income.append('099000-199000')\n",
    "    elif (value > 199000) and (value <= 299000):\n",
    "            income.append('199000-299000')\n",
    "    elif (value > 299000) and (value <= 399000):\n",
    "            income.append('299000-399000')\n",
    "    elif (value > 399000) and (value <= 499000):\n",
    "            income.append('399000-499000')\n",
    "    elif (value > 4999000) and (value <= 523000):\n",
    "            income.append('499000-523000')\n",
    "    elif (value > 523000):\n",
    "            income.append('523000+')\n",
    "    else: \n",
    "            income.append('other')\n",
    "            \n",
    "    "
   ]
  },
  {
   "cell_type": "code",
   "execution_count": 69,
   "id": "839cd69e-b8eb-4854-8a70-25b42a21167e",
   "metadata": {},
   "outputs": [],
   "source": [
    "#Set results to income_range in df\n",
    "\n",
    "ords_prods_merge['income_range'] = income"
   ]
  },
  {
   "cell_type": "code",
   "execution_count": 70,
   "id": "1396bc38-6486-4ffd-9ca3-555ee0cd1eb9",
   "metadata": {},
   "outputs": [
    {
     "data": {
      "text/plain": [
       "025000-040000     1727198\n",
       "040000-099000    15441227\n",
       "099000-199000    14977601\n",
       "199000-299000      155306\n",
       "299000-399000       55835\n",
       "399000-499000       28337\n",
       "523000+             14611\n",
       "other                4744\n",
       "Name: income_range, dtype: int64"
      ]
     },
     "execution_count": 70,
     "metadata": {},
     "output_type": "execute_result"
    }
   ],
   "source": [
    "ords_prods_merge['income_range'].value_counts().sort_index()"
   ]
  },
  {
   "cell_type": "code",
   "execution_count": 71,
   "id": "62c8cead-c25d-408b-9b5f-c3edb0634244",
   "metadata": {},
   "outputs": [],
   "source": [
    "#Create crosstab for age and income_range\n",
    "\n",
    "crosstab_age_income = pd.crosstab(ords_prods_merge['Age_classification'], ords_prods_merge['income_range'], dropna = False)"
   ]
  },
  {
   "cell_type": "code",
   "execution_count": 72,
   "id": "e624b919-834e-4b3b-a852-5e3b485b7a6c",
   "metadata": {},
   "outputs": [
    {
     "data": {
      "text/html": [
       "<div>\n",
       "<style scoped>\n",
       "    .dataframe tbody tr th:only-of-type {\n",
       "        vertical-align: middle;\n",
       "    }\n",
       "\n",
       "    .dataframe tbody tr th {\n",
       "        vertical-align: top;\n",
       "    }\n",
       "\n",
       "    .dataframe thead th {\n",
       "        text-align: right;\n",
       "    }\n",
       "</style>\n",
       "<table border=\"1\" class=\"dataframe\">\n",
       "  <thead>\n",
       "    <tr style=\"text-align: right;\">\n",
       "      <th>income_range</th>\n",
       "      <th>025000-040000</th>\n",
       "      <th>040000-099000</th>\n",
       "      <th>099000-199000</th>\n",
       "      <th>199000-299000</th>\n",
       "      <th>299000-399000</th>\n",
       "      <th>399000-499000</th>\n",
       "      <th>523000+</th>\n",
       "      <th>other</th>\n",
       "    </tr>\n",
       "    <tr>\n",
       "      <th>Age_classification</th>\n",
       "      <th></th>\n",
       "      <th></th>\n",
       "      <th></th>\n",
       "      <th></th>\n",
       "      <th></th>\n",
       "      <th></th>\n",
       "      <th></th>\n",
       "      <th></th>\n",
       "    </tr>\n",
       "  </thead>\n",
       "  <tbody>\n",
       "    <tr>\n",
       "      <th>25-34</th>\n",
       "      <td>371785</td>\n",
       "      <td>4445903</td>\n",
       "      <td>217431</td>\n",
       "      <td>6985</td>\n",
       "      <td>12550</td>\n",
       "      <td>0</td>\n",
       "      <td>0</td>\n",
       "      <td>0</td>\n",
       "    </tr>\n",
       "    <tr>\n",
       "      <th>35-44</th>\n",
       "      <td>295357</td>\n",
       "      <td>3183867</td>\n",
       "      <td>1550367</td>\n",
       "      <td>21167</td>\n",
       "      <td>6279</td>\n",
       "      <td>3801</td>\n",
       "      <td>1232</td>\n",
       "      <td>359</td>\n",
       "    </tr>\n",
       "    <tr>\n",
       "      <th>45-54</th>\n",
       "      <td>219762</td>\n",
       "      <td>1272702</td>\n",
       "      <td>3559999</td>\n",
       "      <td>36541</td>\n",
       "      <td>8374</td>\n",
       "      <td>8088</td>\n",
       "      <td>3421</td>\n",
       "      <td>2239</td>\n",
       "    </tr>\n",
       "    <tr>\n",
       "      <th>55-64</th>\n",
       "      <td>215517</td>\n",
       "      <td>1259344</td>\n",
       "      <td>3500878</td>\n",
       "      <td>29816</td>\n",
       "      <td>13636</td>\n",
       "      <td>4426</td>\n",
       "      <td>3975</td>\n",
       "      <td>973</td>\n",
       "    </tr>\n",
       "    <tr>\n",
       "      <th>65-74</th>\n",
       "      <td>213815</td>\n",
       "      <td>1234743</td>\n",
       "      <td>3514626</td>\n",
       "      <td>28180</td>\n",
       "      <td>5395</td>\n",
       "      <td>6636</td>\n",
       "      <td>1444</td>\n",
       "      <td>162</td>\n",
       "    </tr>\n",
       "    <tr>\n",
       "      <th>74-81</th>\n",
       "      <td>156145</td>\n",
       "      <td>891539</td>\n",
       "      <td>2481428</td>\n",
       "      <td>27106</td>\n",
       "      <td>2929</td>\n",
       "      <td>5386</td>\n",
       "      <td>4539</td>\n",
       "      <td>1011</td>\n",
       "    </tr>\n",
       "    <tr>\n",
       "      <th>&lt;24</th>\n",
       "      <td>224933</td>\n",
       "      <td>2704972</td>\n",
       "      <td>124399</td>\n",
       "      <td>3327</td>\n",
       "      <td>6308</td>\n",
       "      <td>0</td>\n",
       "      <td>0</td>\n",
       "      <td>0</td>\n",
       "    </tr>\n",
       "  </tbody>\n",
       "</table>\n",
       "</div>"
      ],
      "text/plain": [
       "income_range        025000-040000  040000-099000  099000-199000  \\\n",
       "Age_classification                                                \n",
       "25-34                      371785        4445903         217431   \n",
       "35-44                      295357        3183867        1550367   \n",
       "45-54                      219762        1272702        3559999   \n",
       "55-64                      215517        1259344        3500878   \n",
       "65-74                      213815        1234743        3514626   \n",
       "74-81                      156145         891539        2481428   \n",
       "<24                        224933        2704972         124399   \n",
       "\n",
       "income_range        199000-299000  299000-399000  399000-499000  523000+  \\\n",
       "Age_classification                                                         \n",
       "25-34                        6985          12550              0        0   \n",
       "35-44                       21167           6279           3801     1232   \n",
       "45-54                       36541           8374           8088     3421   \n",
       "55-64                       29816          13636           4426     3975   \n",
       "65-74                       28180           5395           6636     1444   \n",
       "74-81                       27106           2929           5386     4539   \n",
       "<24                          3327           6308              0        0   \n",
       "\n",
       "income_range        other  \n",
       "Age_classification         \n",
       "25-34                   0  \n",
       "35-44                 359  \n",
       "45-54                2239  \n",
       "55-64                 973  \n",
       "65-74                 162  \n",
       "74-81                1011  \n",
       "<24                     0  "
      ]
     },
     "execution_count": 72,
     "metadata": {},
     "output_type": "execute_result"
    }
   ],
   "source": [
    "crosstab_age_income"
   ]
  },
  {
   "cell_type": "markdown",
   "id": "8bc52b3e-7c75-405a-b7df-443f716d079f",
   "metadata": {},
   "source": [
    "## Department ID Profiles:"
   ]
  },
  {
   "cell_type": "code",
   "execution_count": 73,
   "id": "9d0b423b-09dc-4cb7-8d7a-c078c9f0dc41",
   "metadata": {},
   "outputs": [],
   "source": [
    "# Import the department data\n",
    "df_dept = pd.read_csv(os.path.join(path, '02 Data', 'Original Data', 'departments.csv'), index_col = False)"
   ]
  },
  {
   "cell_type": "code",
   "execution_count": 74,
   "id": "8b622b09-f91e-4f5d-8453-0ac56934f413",
   "metadata": {},
   "outputs": [
    {
     "data": {
      "text/html": [
       "<div>\n",
       "<style scoped>\n",
       "    .dataframe tbody tr th:only-of-type {\n",
       "        vertical-align: middle;\n",
       "    }\n",
       "\n",
       "    .dataframe tbody tr th {\n",
       "        vertical-align: top;\n",
       "    }\n",
       "\n",
       "    .dataframe thead th {\n",
       "        text-align: right;\n",
       "    }\n",
       "</style>\n",
       "<table border=\"1\" class=\"dataframe\">\n",
       "  <thead>\n",
       "    <tr style=\"text-align: right;\">\n",
       "      <th></th>\n",
       "      <th>department_id</th>\n",
       "      <th>1</th>\n",
       "      <th>2</th>\n",
       "      <th>3</th>\n",
       "      <th>4</th>\n",
       "      <th>5</th>\n",
       "      <th>6</th>\n",
       "      <th>7</th>\n",
       "      <th>8</th>\n",
       "      <th>9</th>\n",
       "      <th>...</th>\n",
       "      <th>12</th>\n",
       "      <th>13</th>\n",
       "      <th>14</th>\n",
       "      <th>15</th>\n",
       "      <th>16</th>\n",
       "      <th>17</th>\n",
       "      <th>18</th>\n",
       "      <th>19</th>\n",
       "      <th>20</th>\n",
       "      <th>21</th>\n",
       "    </tr>\n",
       "  </thead>\n",
       "  <tbody>\n",
       "    <tr>\n",
       "      <th>0</th>\n",
       "      <td>department</td>\n",
       "      <td>frozen</td>\n",
       "      <td>other</td>\n",
       "      <td>bakery</td>\n",
       "      <td>produce</td>\n",
       "      <td>alcohol</td>\n",
       "      <td>international</td>\n",
       "      <td>beverages</td>\n",
       "      <td>pets</td>\n",
       "      <td>dry goods pasta</td>\n",
       "      <td>...</td>\n",
       "      <td>meat seafood</td>\n",
       "      <td>pantry</td>\n",
       "      <td>breakfast</td>\n",
       "      <td>canned goods</td>\n",
       "      <td>dairy eggs</td>\n",
       "      <td>household</td>\n",
       "      <td>babies</td>\n",
       "      <td>snacks</td>\n",
       "      <td>deli</td>\n",
       "      <td>missing</td>\n",
       "    </tr>\n",
       "  </tbody>\n",
       "</table>\n",
       "<p>1 rows × 22 columns</p>\n",
       "</div>"
      ],
      "text/plain": [
       "  department_id       1      2       3        4        5              6  \\\n",
       "0    department  frozen  other  bakery  produce  alcohol  international   \n",
       "\n",
       "           7     8                9  ...            12      13         14  \\\n",
       "0  beverages  pets  dry goods pasta  ...  meat seafood  pantry  breakfast   \n",
       "\n",
       "             15          16         17      18      19    20       21  \n",
       "0  canned goods  dairy eggs  household  babies  snacks  deli  missing  \n",
       "\n",
       "[1 rows x 22 columns]"
      ]
     },
     "execution_count": 74,
     "metadata": {},
     "output_type": "execute_result"
    }
   ],
   "source": [
    "df_dept.head()"
   ]
  },
  {
   "cell_type": "code",
   "execution_count": 75,
   "id": "ed9ad2f0-5b7c-4d1c-a2f1-62f6eada1266",
   "metadata": {},
   "outputs": [
    {
     "data": {
      "text/html": [
       "<div>\n",
       "<style scoped>\n",
       "    .dataframe tbody tr th:only-of-type {\n",
       "        vertical-align: middle;\n",
       "    }\n",
       "\n",
       "    .dataframe tbody tr th {\n",
       "        vertical-align: top;\n",
       "    }\n",
       "\n",
       "    .dataframe thead th {\n",
       "        text-align: right;\n",
       "    }\n",
       "</style>\n",
       "<table border=\"1\" class=\"dataframe\">\n",
       "  <thead>\n",
       "    <tr style=\"text-align: right;\">\n",
       "      <th></th>\n",
       "      <th>0</th>\n",
       "    </tr>\n",
       "  </thead>\n",
       "  <tbody>\n",
       "    <tr>\n",
       "      <th>department_id</th>\n",
       "      <td>department</td>\n",
       "    </tr>\n",
       "    <tr>\n",
       "      <th>1</th>\n",
       "      <td>frozen</td>\n",
       "    </tr>\n",
       "    <tr>\n",
       "      <th>2</th>\n",
       "      <td>other</td>\n",
       "    </tr>\n",
       "    <tr>\n",
       "      <th>3</th>\n",
       "      <td>bakery</td>\n",
       "    </tr>\n",
       "    <tr>\n",
       "      <th>4</th>\n",
       "      <td>produce</td>\n",
       "    </tr>\n",
       "    <tr>\n",
       "      <th>5</th>\n",
       "      <td>alcohol</td>\n",
       "    </tr>\n",
       "    <tr>\n",
       "      <th>6</th>\n",
       "      <td>international</td>\n",
       "    </tr>\n",
       "    <tr>\n",
       "      <th>7</th>\n",
       "      <td>beverages</td>\n",
       "    </tr>\n",
       "    <tr>\n",
       "      <th>8</th>\n",
       "      <td>pets</td>\n",
       "    </tr>\n",
       "    <tr>\n",
       "      <th>9</th>\n",
       "      <td>dry goods pasta</td>\n",
       "    </tr>\n",
       "    <tr>\n",
       "      <th>10</th>\n",
       "      <td>bulk</td>\n",
       "    </tr>\n",
       "    <tr>\n",
       "      <th>11</th>\n",
       "      <td>personal care</td>\n",
       "    </tr>\n",
       "    <tr>\n",
       "      <th>12</th>\n",
       "      <td>meat seafood</td>\n",
       "    </tr>\n",
       "    <tr>\n",
       "      <th>13</th>\n",
       "      <td>pantry</td>\n",
       "    </tr>\n",
       "    <tr>\n",
       "      <th>14</th>\n",
       "      <td>breakfast</td>\n",
       "    </tr>\n",
       "    <tr>\n",
       "      <th>15</th>\n",
       "      <td>canned goods</td>\n",
       "    </tr>\n",
       "    <tr>\n",
       "      <th>16</th>\n",
       "      <td>dairy eggs</td>\n",
       "    </tr>\n",
       "    <tr>\n",
       "      <th>17</th>\n",
       "      <td>household</td>\n",
       "    </tr>\n",
       "    <tr>\n",
       "      <th>18</th>\n",
       "      <td>babies</td>\n",
       "    </tr>\n",
       "    <tr>\n",
       "      <th>19</th>\n",
       "      <td>snacks</td>\n",
       "    </tr>\n",
       "    <tr>\n",
       "      <th>20</th>\n",
       "      <td>deli</td>\n",
       "    </tr>\n",
       "    <tr>\n",
       "      <th>21</th>\n",
       "      <td>missing</td>\n",
       "    </tr>\n",
       "  </tbody>\n",
       "</table>\n",
       "</div>"
      ],
      "text/plain": [
       "                             0\n",
       "department_id       department\n",
       "1                       frozen\n",
       "2                        other\n",
       "3                       bakery\n",
       "4                      produce\n",
       "5                      alcohol\n",
       "6                international\n",
       "7                    beverages\n",
       "8                         pets\n",
       "9              dry goods pasta\n",
       "10                        bulk\n",
       "11               personal care\n",
       "12                meat seafood\n",
       "13                      pantry\n",
       "14                   breakfast\n",
       "15                canned goods\n",
       "16                  dairy eggs\n",
       "17                   household\n",
       "18                      babies\n",
       "19                      snacks\n",
       "20                        deli\n",
       "21                     missing"
      ]
     },
     "execution_count": 75,
     "metadata": {},
     "output_type": "execute_result"
    }
   ],
   "source": [
    "#Transpose df_dept\n",
    "\n",
    "df_dept.T"
   ]
  },
  {
   "cell_type": "code",
   "execution_count": 76,
   "id": "af0aa480-b4c7-4a22-ac47-a2af956afa93",
   "metadata": {},
   "outputs": [],
   "source": [
    "#Create new colunm called department name by pairing the department id\n",
    "ords_prods_merge.loc[ords_prods_merge['department_id'] == 1, 'department_name'] = 'frozen'"
   ]
  },
  {
   "cell_type": "code",
   "execution_count": 77,
   "id": "70ab21ce-a304-4329-8957-38fc13be964b",
   "metadata": {},
   "outputs": [],
   "source": [
    "ords_prods_merge.loc[ords_prods_merge['department_id'] == 2,'department_name'] = 'other'"
   ]
  },
  {
   "cell_type": "code",
   "execution_count": 78,
   "id": "dab10404-5c5f-4e85-b8b7-b0307c0e624b",
   "metadata": {},
   "outputs": [],
   "source": [
    "ords_prods_merge.loc[ords_prods_merge['department_id'] == 3,'department_name'] = 'bakery'"
   ]
  },
  {
   "cell_type": "code",
   "execution_count": 79,
   "id": "10d830b2-a752-4fce-aeb9-b7758708f499",
   "metadata": {},
   "outputs": [],
   "source": [
    "ords_prods_merge.loc[ords_prods_merge['department_id'] == 4 , 'department_name'] = 'produce'"
   ]
  },
  {
   "cell_type": "code",
   "execution_count": 80,
   "id": "cc0a0d93-b67d-41a7-bdf0-e2d7800597d2",
   "metadata": {},
   "outputs": [],
   "source": [
    "ords_prods_merge.loc[ords_prods_merge['department_id'] == 5, 'department_name'] = 'alcohol'"
   ]
  },
  {
   "cell_type": "code",
   "execution_count": 81,
   "id": "5da5a902-f0ef-428f-91fd-7d939b5b2d03",
   "metadata": {},
   "outputs": [],
   "source": [
    "ords_prods_merge.loc[ords_prods_merge['department_id'] == 6, 'department_name'] = 'international'"
   ]
  },
  {
   "cell_type": "code",
   "execution_count": 82,
   "id": "2d1b2455-cf7d-4f1c-b6b2-8e05709eb2e3",
   "metadata": {},
   "outputs": [],
   "source": [
    "ords_prods_merge.loc[ords_prods_merge['department_id'] == 7, 'department_name'] = 'beverages'"
   ]
  },
  {
   "cell_type": "code",
   "execution_count": 83,
   "id": "dd2943b0-1635-4759-a5f8-ee499c5e1f51",
   "metadata": {},
   "outputs": [],
   "source": [
    "ords_prods_merge.loc[ords_prods_merge['department_id'] == 8, 'department_name'] = 'pets'"
   ]
  },
  {
   "cell_type": "code",
   "execution_count": 84,
   "id": "85f46fbb-e4b6-488d-982d-e0b15e52a43b",
   "metadata": {},
   "outputs": [],
   "source": [
    "ords_prods_merge.loc[ords_prods_merge['department_id'] == 9, 'department_name'] = 'dry goods pasta'"
   ]
  },
  {
   "cell_type": "code",
   "execution_count": 85,
   "id": "2e7fd457-250f-4330-99d9-46e55d804aa0",
   "metadata": {},
   "outputs": [],
   "source": [
    "ords_prods_merge.loc[ords_prods_merge['department_id'] == 10, 'department_name'] = 'bulk'"
   ]
  },
  {
   "cell_type": "code",
   "execution_count": 86,
   "id": "87294c9d-79dc-42fe-9256-a0002f9ce758",
   "metadata": {},
   "outputs": [],
   "source": [
    "ords_prods_merge.loc[ords_prods_merge['department_id'] == 11, 'department_name'] = 'personal care'"
   ]
  },
  {
   "cell_type": "code",
   "execution_count": 87,
   "id": "8ad95b9d-31fe-4bbe-9223-23d892223a2a",
   "metadata": {},
   "outputs": [],
   "source": [
    "ords_prods_merge.loc[ords_prods_merge['department_id'] == 12, 'department_name'] = 'meat seafood'"
   ]
  },
  {
   "cell_type": "code",
   "execution_count": 88,
   "id": "e1836cfb-0c2c-443d-9e7f-64902829586e",
   "metadata": {},
   "outputs": [],
   "source": [
    "ords_prods_merge.loc[ords_prods_merge['department_id'] == 13, 'department_name'] = 'pantry'"
   ]
  },
  {
   "cell_type": "code",
   "execution_count": 89,
   "id": "8eaa7cd0-397a-4589-91b3-c550b7e20202",
   "metadata": {},
   "outputs": [],
   "source": [
    "ords_prods_merge.loc[ords_prods_merge['department_id'] == 14, 'department_name'] = 'breakfast'"
   ]
  },
  {
   "cell_type": "code",
   "execution_count": 90,
   "id": "6d7a9c09-d272-4aec-b97e-9c2b2f3c0434",
   "metadata": {},
   "outputs": [],
   "source": [
    "ords_prods_merge.loc[ords_prods_merge['department_id'] == 15, 'department_name'] = 'canned goods'"
   ]
  },
  {
   "cell_type": "code",
   "execution_count": 91,
   "id": "cdaa76fc-d8c5-406f-b3f8-88f93db4e2b7",
   "metadata": {},
   "outputs": [],
   "source": [
    "ords_prods_merge.loc[ords_prods_merge['department_id'] == 16, 'department_name'] = 'dairy eggs'"
   ]
  },
  {
   "cell_type": "code",
   "execution_count": 92,
   "id": "37728536-1db4-4954-97b3-98a9ee900167",
   "metadata": {},
   "outputs": [],
   "source": [
    "ords_prods_merge.loc[ords_prods_merge['department_id'] == 17, 'department_name']= 'household'"
   ]
  },
  {
   "cell_type": "code",
   "execution_count": 93,
   "id": "2515aa92-fba1-4501-a5ba-d3ea8a28964b",
   "metadata": {},
   "outputs": [],
   "source": [
    "ords_prods_merge.loc[ords_prods_merge['department_id'] == 18, 'department_name'] = 'babies'"
   ]
  },
  {
   "cell_type": "code",
   "execution_count": 94,
   "id": "f10122a3-99f3-4cc5-a00c-67f9aa1d1d9e",
   "metadata": {},
   "outputs": [],
   "source": [
    "ords_prods_merge.loc[ords_prods_merge['department_id'] == 19, 'department_name'] = 'snacks'"
   ]
  },
  {
   "cell_type": "code",
   "execution_count": 95,
   "id": "607a55a8-1d35-40b9-bb12-4e6ef96c36ff",
   "metadata": {},
   "outputs": [],
   "source": [
    "ords_prods_merge.loc[ords_prods_merge['department_id'] == 20, 'department_name'] = 'deli'"
   ]
  },
  {
   "cell_type": "code",
   "execution_count": 96,
   "id": "dfbe8fd9-2d9c-40aa-bc05-d16ad580e14d",
   "metadata": {},
   "outputs": [],
   "source": [
    "ords_prods_merge.loc[ords_prods_merge['department_id'] == 21, 'department_name'] = 'missing'"
   ]
  },
  {
   "cell_type": "code",
   "execution_count": 97,
   "id": "4ab5b6de-b4e3-4c2a-867e-5c3e3bd90b23",
   "metadata": {},
   "outputs": [
    {
     "data": {
      "text/plain": [
       "produce            9479291\n",
       "dairy eggs         5398747\n",
       "snacks             2887550\n",
       "beverages          2688123\n",
       "frozen             2234743\n",
       "pantry             1875369\n",
       "bakery             1172428\n",
       "canned goods       1068058\n",
       "deli               1051249\n",
       "dry goods pasta     866627\n",
       "household           738666\n",
       "meat seafood        708927\n",
       "breakfast           703033\n",
       "personal care       447572\n",
       "babies              423802\n",
       "international       269253\n",
       "alcohol             153696\n",
       "pets                 97716\n",
       "missing              69145\n",
       "other                36291\n",
       "bulk                 34573\n",
       "Name: department_name, dtype: int64"
      ]
     },
     "execution_count": 97,
     "metadata": {},
     "output_type": "execute_result"
    }
   ],
   "source": [
    "ords_prods_merge['department_name'].value_counts()"
   ]
  },
  {
   "cell_type": "code",
   "execution_count": 98,
   "id": "5c7abc27-22cc-4183-85ad-5b37d8da2c26",
   "metadata": {},
   "outputs": [
    {
     "data": {
      "text/plain": [
       "1     2234743\n",
       "2       36291\n",
       "3     1172428\n",
       "4     9479291\n",
       "5      153696\n",
       "6      269253\n",
       "7     2688123\n",
       "8       97716\n",
       "9      866627\n",
       "10      34573\n",
       "11     447572\n",
       "12     708927\n",
       "13    1875369\n",
       "14     703033\n",
       "15    1068058\n",
       "16    5398747\n",
       "17     738666\n",
       "18     423802\n",
       "19    2887550\n",
       "20    1051249\n",
       "21      69145\n",
       "Name: department_id, dtype: int64"
      ]
     },
     "execution_count": 98,
     "metadata": {},
     "output_type": "execute_result"
    }
   ],
   "source": [
    "ords_prods_merge['department_id'].value_counts(dropna = False).sort_index()"
   ]
  },
  {
   "cell_type": "code",
   "execution_count": 150,
   "id": "142ecdc5-0886-4d14-bd2e-4ef283c8a1cd",
   "metadata": {},
   "outputs": [
    {
     "data": {
      "text/plain": [
       "department_id  department_name\n",
       "4              produce            9479291\n",
       "16             dairy eggs         5398747\n",
       "19             snacks             2887550\n",
       "7              beverages          2688123\n",
       "1              frozen             2234743\n",
       "13             pantry             1875369\n",
       "3              bakery             1172428\n",
       "15             canned goods       1068058\n",
       "20             deli               1051249\n",
       "9              dry goods pasta     866627\n",
       "17             household           738666\n",
       "12             meat seafood        708927\n",
       "14             breakfast           703033\n",
       "11             personal care       447572\n",
       "18             babies              423802\n",
       "6              international       269253\n",
       "5              alcohol             153696\n",
       "8              pets                 97716\n",
       "21             missing              69145\n",
       "2              other                36291\n",
       "10             bulk                 34573\n",
       "dtype: int64"
      ]
     },
     "execution_count": 150,
     "metadata": {},
     "output_type": "execute_result"
    }
   ],
   "source": [
    "ords_prods_merge[['department_id', 'department_name']].value_counts()"
   ]
  },
  {
   "cell_type": "code",
   "execution_count": 151,
   "id": "3957025c-9d35-41f7-a6f6-e7f2ff827acc",
   "metadata": {
    "tags": []
   },
   "outputs": [],
   "source": [
    "#Creating new column for top 5 products\n",
    "ords_prods_merge.loc[ords_prods_merge['department_id'] == 4, 'Top_5_department'] = 'produce'\n",
    "ords_prods_merge.loc[ords_prods_merge['department_id'] == 16, 'Top_5_department'] = 'dairy eggs'\n",
    "ords_prods_merge.loc[ords_prods_merge['department_id'] == 19, 'Top_5_department'] = 'snacks'\n",
    "ords_prods_merge.loc[ords_prods_merge['department_id'] == 7, 'Top_5_department'] = 'beverages'\n",
    "ords_prods_merge.loc[ords_prods_merge['department_id'] == 1, 'Top_5_department'] = 'frozen'"
   ]
  },
  {
   "cell_type": "code",
   "execution_count": 152,
   "id": "ea6675ab-7022-4f25-811b-feffc82b0528",
   "metadata": {},
   "outputs": [
    {
     "data": {
      "text/plain": [
       "beverages     2688123\n",
       "dairy eggs    5398747\n",
       "frozen        2234743\n",
       "produce       9479291\n",
       "snacks        2887550\n",
       "Name: Top_5_department, dtype: int64"
      ]
     },
     "execution_count": 152,
     "metadata": {},
     "output_type": "execute_result"
    }
   ],
   "source": [
    "ords_prods_merge['Top_5_department'].value_counts().sort_index()"
   ]
  },
  {
   "cell_type": "code",
   "execution_count": 246,
   "id": "b249c543-2b04-4422-8418-e58c7e4755bf",
   "metadata": {},
   "outputs": [],
   "source": [
    "ords_prods_merge['Top_5_department'] = ords_prods_merge['Top_5_department'].astype('category')"
   ]
  },
  {
   "cell_type": "code",
   "execution_count": 249,
   "id": "18dad92c-6052-4f00-895b-100331bf60f4",
   "metadata": {},
   "outputs": [
    {
     "data": {
      "text/plain": [
       "CategoricalDtype(categories=['beverages', 'dairy eggs', 'frozen', 'produce', 'snacks'], ordered=False)"
      ]
     },
     "execution_count": 249,
     "metadata": {},
     "output_type": "execute_result"
    }
   ],
   "source": [
    "ords_prods_merge['Top_5_department'].dtypes"
   ]
  },
  {
   "cell_type": "markdown",
   "id": "be109ca8-7400-47d8-a5d8-37e10c64de1d",
   "metadata": {},
   "source": [
    "## Number of Dependants Profiles:"
   ]
  },
  {
   "cell_type": "code",
   "execution_count": 99,
   "id": "c6c03e0b-972c-4859-9547-57c96d785640",
   "metadata": {
    "tags": []
   },
   "outputs": [
    {
     "data": {
      "text/plain": [
       "0    8097503\n",
       "1    8081104\n",
       "2    8091143\n",
       "3    8135109\n",
       "Name: number_of_dependants, dtype: int64"
      ]
     },
     "execution_count": 99,
     "metadata": {},
     "output_type": "execute_result"
    }
   ],
   "source": [
    "#Check num_of_dependants freq\n",
    "\n",
    "ords_prods_merge['number_of_dependants'].value_counts().sort_index()"
   ]
  },
  {
   "cell_type": "code",
   "execution_count": 101,
   "id": "6c1eb013-be9c-4f3d-931e-62f52c603711",
   "metadata": {},
   "outputs": [],
   "source": [
    "#Create new column for parental status\n",
    "\n",
    "ords_prods_merge.loc[ords_prods_merge['number_of_dependants'] <= 0, 'parental_status'] = 'non parent'"
   ]
  },
  {
   "cell_type": "code",
   "execution_count": 102,
   "id": "5c677133-f8ce-42dd-be4a-b0bbe2a5dc14",
   "metadata": {},
   "outputs": [],
   "source": [
    "ords_prods_merge.loc[ords_prods_merge['number_of_dependants'] >= 1, 'parental_status'] = 'parent'"
   ]
  },
  {
   "cell_type": "code",
   "execution_count": 105,
   "id": "ba7f83ca-9146-42dd-bf0b-f00ff55f2e9b",
   "metadata": {},
   "outputs": [
    {
     "data": {
      "text/plain": [
       "non parent     8097503\n",
       "parent        24307356\n",
       "Name: parental_status, dtype: int64"
      ]
     },
     "execution_count": 105,
     "metadata": {},
     "output_type": "execute_result"
    }
   ],
   "source": [
    "ords_prods_merge['parental_status'].value_counts().sort_index()"
   ]
  },
  {
   "cell_type": "code",
   "execution_count": 106,
   "id": "eb4140c4-91f9-4852-a642-b90cc5690369",
   "metadata": {},
   "outputs": [],
   "source": [
    "#Change new column data types to category\n",
    "\n",
    "ords_prods_merge[['Age_classification', 'income_range', 'parental_status']] = ords_prods_merge[['Age_classification', 'income_range', 'parental_status']].astype('category')"
   ]
  },
  {
   "cell_type": "code",
   "execution_count": 107,
   "id": "129354b4-7e25-4044-8ff1-8fccf21654c6",
   "metadata": {},
   "outputs": [
    {
     "data": {
      "text/plain": [
       "Age_classification    category\n",
       "income_range          category\n",
       "parental_status       category\n",
       "dtype: object"
      ]
     },
     "execution_count": 107,
     "metadata": {},
     "output_type": "execute_result"
    }
   ],
   "source": [
    "ords_prods_merge[['Age_classification', 'income_range', 'parental_status']].dtypes"
   ]
  },
  {
   "cell_type": "code",
   "execution_count": 143,
   "id": "f7eeb390-9fd8-44e0-917f-83a9817877c9",
   "metadata": {},
   "outputs": [],
   "source": [
    "crosstab_parent_price = pd.crosstab(ords_prods_merge['parental_status'], ords_prods_merge['price_range_loc'], dropna = False)"
   ]
  },
  {
   "cell_type": "code",
   "execution_count": 144,
   "id": "3553542b-1798-4049-b815-c7b5b45413fb",
   "metadata": {},
   "outputs": [
    {
     "data": {
      "text/html": [
       "<div>\n",
       "<style scoped>\n",
       "    .dataframe tbody tr th:only-of-type {\n",
       "        vertical-align: middle;\n",
       "    }\n",
       "\n",
       "    .dataframe tbody tr th {\n",
       "        vertical-align: top;\n",
       "    }\n",
       "\n",
       "    .dataframe thead th {\n",
       "        text-align: right;\n",
       "    }\n",
       "</style>\n",
       "<table border=\"1\" class=\"dataframe\">\n",
       "  <thead>\n",
       "    <tr style=\"text-align: right;\">\n",
       "      <th>price_range_loc</th>\n",
       "      <th>High-range product</th>\n",
       "      <th>Low-range product</th>\n",
       "      <th>Mid-range product</th>\n",
       "    </tr>\n",
       "    <tr>\n",
       "      <th>parental_status</th>\n",
       "      <th></th>\n",
       "      <th></th>\n",
       "      <th></th>\n",
       "    </tr>\n",
       "  </thead>\n",
       "  <tbody>\n",
       "    <tr>\n",
       "      <th>non parent</th>\n",
       "      <td>102177</td>\n",
       "      <td>2531324</td>\n",
       "      <td>188954</td>\n",
       "    </tr>\n",
       "    <tr>\n",
       "      <th>parent</th>\n",
       "      <td>315501</td>\n",
       "      <td>7594997</td>\n",
       "      <td>567496</td>\n",
       "    </tr>\n",
       "  </tbody>\n",
       "</table>\n",
       "</div>"
      ],
      "text/plain": [
       "price_range_loc  High-range product  Low-range product  Mid-range product\n",
       "parental_status                                                          \n",
       "non parent                   102177            2531324             188954\n",
       "parent                       315501            7594997             567496"
      ]
     },
     "execution_count": 144,
     "metadata": {},
     "output_type": "execute_result"
    }
   ],
   "source": [
    "crosstab_parent_price"
   ]
  },
  {
   "cell_type": "code",
   "execution_count": 145,
   "id": "0bfe9b65-882f-4f1a-95be-5ba4608e2103",
   "metadata": {},
   "outputs": [],
   "source": [
    "crosstab_parent_price.to_clipboard()"
   ]
  },
  {
   "cell_type": "code",
   "execution_count": null,
   "id": "e5ef6bcf-fd1e-4083-9f27-42aa297b78e1",
   "metadata": {},
   "outputs": [],
   "source": [
    "crosstab_parent_flag = pd.crosstab(ords_prods_merge['parental_status'], ords_prods_merge['frequency_flag'], dropna = False)"
   ]
  },
  {
   "cell_type": "code",
   "execution_count": 149,
   "id": "567b8c4e-8634-4e04-8ce1-57634fa6d069",
   "metadata": {},
   "outputs": [
    {
     "data": {
      "text/html": [
       "<div>\n",
       "<style scoped>\n",
       "    .dataframe tbody tr th:only-of-type {\n",
       "        vertical-align: middle;\n",
       "    }\n",
       "\n",
       "    .dataframe tbody tr th {\n",
       "        vertical-align: top;\n",
       "    }\n",
       "\n",
       "    .dataframe thead th {\n",
       "        text-align: right;\n",
       "    }\n",
       "</style>\n",
       "<table border=\"1\" class=\"dataframe\">\n",
       "  <thead>\n",
       "    <tr style=\"text-align: right;\">\n",
       "      <th>frequency_flag</th>\n",
       "      <th>Frequent customer</th>\n",
       "      <th>Non-frequent customer</th>\n",
       "    </tr>\n",
       "    <tr>\n",
       "      <th>parental_status</th>\n",
       "      <th></th>\n",
       "      <th></th>\n",
       "    </tr>\n",
       "  </thead>\n",
       "  <tbody>\n",
       "    <tr>\n",
       "      <th>non parent</th>\n",
       "      <td>989773</td>\n",
       "      <td>7107730</td>\n",
       "    </tr>\n",
       "    <tr>\n",
       "      <th>parent</th>\n",
       "      <td>3018878</td>\n",
       "      <td>21288473</td>\n",
       "    </tr>\n",
       "  </tbody>\n",
       "</table>\n",
       "</div>"
      ],
      "text/plain": [
       "frequency_flag   Frequent customer  Non-frequent customer\n",
       "parental_status                                          \n",
       "non parent                  989773                7107730\n",
       "parent                     3018878               21288473"
      ]
     },
     "execution_count": 149,
     "metadata": {},
     "output_type": "execute_result"
    }
   ],
   "source": [
    "crosstab_parent_flag"
   ]
  },
  {
   "cell_type": "markdown",
   "id": "ee22423e-4aee-4a86-ab39-d31bdec799a6",
   "metadata": {},
   "source": [
    "## Order Hour of Day Profiles:"
   ]
  },
  {
   "cell_type": "code",
   "execution_count": 110,
   "id": "47fd8f43-b8c3-4d5a-8a62-e22f7e00c1a9",
   "metadata": {},
   "outputs": [
    {
     "data": {
      "text/plain": [
       "0"
      ]
     },
     "execution_count": 110,
     "metadata": {},
     "output_type": "execute_result"
    }
   ],
   "source": [
    "ords_prods_merge['order_hour_of_day'].min()"
   ]
  },
  {
   "cell_type": "code",
   "execution_count": 111,
   "id": "b4846254-bd6b-4842-b065-61db6df1cc68",
   "metadata": {},
   "outputs": [
    {
     "data": {
      "text/plain": [
       "23"
      ]
     },
     "execution_count": 111,
     "metadata": {},
     "output_type": "execute_result"
    }
   ],
   "source": [
    "ords_prods_merge['order_hour_of_day'].max()"
   ]
  },
  {
   "cell_type": "code",
   "execution_count": 113,
   "id": "d8f24c5a-5f27-4098-a34b-7d06b98e4cef",
   "metadata": {},
   "outputs": [
    {
     "data": {
      "text/plain": [
       "0      218769\n",
       "1      115700\n",
       "2       69375\n",
       "3       51281\n",
       "4       53242\n",
       "5       87961\n",
       "6      290493\n",
       "7      891054\n",
       "8     1718118\n",
       "9     2454203\n",
       "10    2761760\n",
       "11    2736140\n",
       "12    2618532\n",
       "13    2660954\n",
       "14    2689136\n",
       "15    2662144\n",
       "16    2535202\n",
       "17    2087654\n",
       "18    1636502\n",
       "19    1258305\n",
       "20     976156\n",
       "21     795637\n",
       "22     634225\n",
       "23     402316\n",
       "Name: order_hour_of_day, dtype: int64"
      ]
     },
     "execution_count": 113,
     "metadata": {},
     "output_type": "execute_result"
    }
   ],
   "source": [
    "ords_prods_merge['order_hour_of_day'].value_counts().sort_index()"
   ]
  },
  {
   "cell_type": "code",
   "execution_count": 122,
   "id": "eb1b76ca-2982-4e0b-a881-9921f2f9b911",
   "metadata": {},
   "outputs": [],
   "source": [
    "#Create crosstab of order hour and income range\n",
    "\n",
    "crosstab_hour_income = pd.crosstab(ords_prods_merge['order_hour_of_day'], ords_prods_merge['income_range'], dropna = False)"
   ]
  },
  {
   "cell_type": "code",
   "execution_count": 123,
   "id": "50818406-f24d-44fa-81c6-815ad49ce53e",
   "metadata": {
    "tags": []
   },
   "outputs": [
    {
     "data": {
      "text/html": [
       "<div>\n",
       "<style scoped>\n",
       "    .dataframe tbody tr th:only-of-type {\n",
       "        vertical-align: middle;\n",
       "    }\n",
       "\n",
       "    .dataframe tbody tr th {\n",
       "        vertical-align: top;\n",
       "    }\n",
       "\n",
       "    .dataframe thead th {\n",
       "        text-align: right;\n",
       "    }\n",
       "</style>\n",
       "<table border=\"1\" class=\"dataframe\">\n",
       "  <thead>\n",
       "    <tr style=\"text-align: right;\">\n",
       "      <th>income_range</th>\n",
       "      <th>025000-040000</th>\n",
       "      <th>040000-099000</th>\n",
       "      <th>099000-199000</th>\n",
       "      <th>199000-299000</th>\n",
       "      <th>299000-399000</th>\n",
       "      <th>399000-499000</th>\n",
       "      <th>523000+</th>\n",
       "      <th>other</th>\n",
       "    </tr>\n",
       "    <tr>\n",
       "      <th>order_hour_of_day</th>\n",
       "      <th></th>\n",
       "      <th></th>\n",
       "      <th></th>\n",
       "      <th></th>\n",
       "      <th></th>\n",
       "      <th></th>\n",
       "      <th></th>\n",
       "      <th></th>\n",
       "    </tr>\n",
       "  </thead>\n",
       "  <tbody>\n",
       "    <tr>\n",
       "      <th>0</th>\n",
       "      <td>11517</td>\n",
       "      <td>105340</td>\n",
       "      <td>100606</td>\n",
       "      <td>778</td>\n",
       "      <td>377</td>\n",
       "      <td>52</td>\n",
       "      <td>80</td>\n",
       "      <td>19</td>\n",
       "    </tr>\n",
       "    <tr>\n",
       "      <th>1</th>\n",
       "      <td>5498</td>\n",
       "      <td>56682</td>\n",
       "      <td>52624</td>\n",
       "      <td>385</td>\n",
       "      <td>338</td>\n",
       "      <td>55</td>\n",
       "      <td>118</td>\n",
       "      <td>0</td>\n",
       "    </tr>\n",
       "    <tr>\n",
       "      <th>2</th>\n",
       "      <td>3836</td>\n",
       "      <td>33523</td>\n",
       "      <td>31079</td>\n",
       "      <td>426</td>\n",
       "      <td>416</td>\n",
       "      <td>13</td>\n",
       "      <td>32</td>\n",
       "      <td>50</td>\n",
       "    </tr>\n",
       "    <tr>\n",
       "      <th>3</th>\n",
       "      <td>3038</td>\n",
       "      <td>24924</td>\n",
       "      <td>22797</td>\n",
       "      <td>190</td>\n",
       "      <td>257</td>\n",
       "      <td>36</td>\n",
       "      <td>11</td>\n",
       "      <td>28</td>\n",
       "    </tr>\n",
       "    <tr>\n",
       "      <th>4</th>\n",
       "      <td>2956</td>\n",
       "      <td>24679</td>\n",
       "      <td>24899</td>\n",
       "      <td>378</td>\n",
       "      <td>180</td>\n",
       "      <td>116</td>\n",
       "      <td>21</td>\n",
       "      <td>13</td>\n",
       "    </tr>\n",
       "    <tr>\n",
       "      <th>5</th>\n",
       "      <td>3908</td>\n",
       "      <td>42039</td>\n",
       "      <td>40899</td>\n",
       "      <td>624</td>\n",
       "      <td>287</td>\n",
       "      <td>107</td>\n",
       "      <td>20</td>\n",
       "      <td>77</td>\n",
       "    </tr>\n",
       "    <tr>\n",
       "      <th>6</th>\n",
       "      <td>14056</td>\n",
       "      <td>138841</td>\n",
       "      <td>134579</td>\n",
       "      <td>2165</td>\n",
       "      <td>373</td>\n",
       "      <td>359</td>\n",
       "      <td>97</td>\n",
       "      <td>23</td>\n",
       "    </tr>\n",
       "    <tr>\n",
       "      <th>7</th>\n",
       "      <td>41804</td>\n",
       "      <td>421925</td>\n",
       "      <td>419277</td>\n",
       "      <td>4356</td>\n",
       "      <td>1977</td>\n",
       "      <td>1192</td>\n",
       "      <td>437</td>\n",
       "      <td>86</td>\n",
       "    </tr>\n",
       "    <tr>\n",
       "      <th>8</th>\n",
       "      <td>90879</td>\n",
       "      <td>814047</td>\n",
       "      <td>799242</td>\n",
       "      <td>8193</td>\n",
       "      <td>3355</td>\n",
       "      <td>1461</td>\n",
       "      <td>730</td>\n",
       "      <td>211</td>\n",
       "    </tr>\n",
       "    <tr>\n",
       "      <th>9</th>\n",
       "      <td>151806</td>\n",
       "      <td>1172095</td>\n",
       "      <td>1110273</td>\n",
       "      <td>11482</td>\n",
       "      <td>5214</td>\n",
       "      <td>1727</td>\n",
       "      <td>1217</td>\n",
       "      <td>389</td>\n",
       "    </tr>\n",
       "    <tr>\n",
       "      <th>10</th>\n",
       "      <td>172273</td>\n",
       "      <td>1319514</td>\n",
       "      <td>1248025</td>\n",
       "      <td>13284</td>\n",
       "      <td>5489</td>\n",
       "      <td>1753</td>\n",
       "      <td>1141</td>\n",
       "      <td>281</td>\n",
       "    </tr>\n",
       "    <tr>\n",
       "      <th>11</th>\n",
       "      <td>155821</td>\n",
       "      <td>1314545</td>\n",
       "      <td>1243379</td>\n",
       "      <td>13400</td>\n",
       "      <td>4949</td>\n",
       "      <td>2281</td>\n",
       "      <td>1374</td>\n",
       "      <td>391</td>\n",
       "    </tr>\n",
       "    <tr>\n",
       "      <th>12</th>\n",
       "      <td>139746</td>\n",
       "      <td>1248465</td>\n",
       "      <td>1209343</td>\n",
       "      <td>12510</td>\n",
       "      <td>3952</td>\n",
       "      <td>2686</td>\n",
       "      <td>1419</td>\n",
       "      <td>411</td>\n",
       "    </tr>\n",
       "    <tr>\n",
       "      <th>13</th>\n",
       "      <td>139714</td>\n",
       "      <td>1270231</td>\n",
       "      <td>1230178</td>\n",
       "      <td>13189</td>\n",
       "      <td>3706</td>\n",
       "      <td>2382</td>\n",
       "      <td>1202</td>\n",
       "      <td>352</td>\n",
       "    </tr>\n",
       "    <tr>\n",
       "      <th>14</th>\n",
       "      <td>140972</td>\n",
       "      <td>1284034</td>\n",
       "      <td>1243590</td>\n",
       "      <td>12778</td>\n",
       "      <td>4143</td>\n",
       "      <td>2202</td>\n",
       "      <td>1118</td>\n",
       "      <td>299</td>\n",
       "    </tr>\n",
       "    <tr>\n",
       "      <th>15</th>\n",
       "      <td>136627</td>\n",
       "      <td>1271068</td>\n",
       "      <td>1231726</td>\n",
       "      <td>13282</td>\n",
       "      <td>5018</td>\n",
       "      <td>2683</td>\n",
       "      <td>1209</td>\n",
       "      <td>531</td>\n",
       "    </tr>\n",
       "    <tr>\n",
       "      <th>16</th>\n",
       "      <td>132413</td>\n",
       "      <td>1206631</td>\n",
       "      <td>1175608</td>\n",
       "      <td>12526</td>\n",
       "      <td>4042</td>\n",
       "      <td>2619</td>\n",
       "      <td>999</td>\n",
       "      <td>364</td>\n",
       "    </tr>\n",
       "    <tr>\n",
       "      <th>17</th>\n",
       "      <td>108509</td>\n",
       "      <td>989027</td>\n",
       "      <td>973023</td>\n",
       "      <td>10288</td>\n",
       "      <td>3279</td>\n",
       "      <td>2242</td>\n",
       "      <td>957</td>\n",
       "      <td>329</td>\n",
       "    </tr>\n",
       "    <tr>\n",
       "      <th>18</th>\n",
       "      <td>81710</td>\n",
       "      <td>776989</td>\n",
       "      <td>764161</td>\n",
       "      <td>8635</td>\n",
       "      <td>2388</td>\n",
       "      <td>1583</td>\n",
       "      <td>662</td>\n",
       "      <td>374</td>\n",
       "    </tr>\n",
       "    <tr>\n",
       "      <th>19</th>\n",
       "      <td>61765</td>\n",
       "      <td>592423</td>\n",
       "      <td>594479</td>\n",
       "      <td>5891</td>\n",
       "      <td>2157</td>\n",
       "      <td>949</td>\n",
       "      <td>505</td>\n",
       "      <td>136</td>\n",
       "    </tr>\n",
       "    <tr>\n",
       "      <th>20</th>\n",
       "      <td>45069</td>\n",
       "      <td>461371</td>\n",
       "      <td>462255</td>\n",
       "      <td>4220</td>\n",
       "      <td>1844</td>\n",
       "      <td>750</td>\n",
       "      <td>473</td>\n",
       "      <td>174</td>\n",
       "    </tr>\n",
       "    <tr>\n",
       "      <th>21</th>\n",
       "      <td>34748</td>\n",
       "      <td>379557</td>\n",
       "      <td>376581</td>\n",
       "      <td>2822</td>\n",
       "      <td>1045</td>\n",
       "      <td>441</td>\n",
       "      <td>354</td>\n",
       "      <td>89</td>\n",
       "    </tr>\n",
       "    <tr>\n",
       "      <th>22</th>\n",
       "      <td>28045</td>\n",
       "      <td>304578</td>\n",
       "      <td>298206</td>\n",
       "      <td>2111</td>\n",
       "      <td>706</td>\n",
       "      <td>276</td>\n",
       "      <td>218</td>\n",
       "      <td>85</td>\n",
       "    </tr>\n",
       "    <tr>\n",
       "      <th>23</th>\n",
       "      <td>20488</td>\n",
       "      <td>188699</td>\n",
       "      <td>190772</td>\n",
       "      <td>1393</td>\n",
       "      <td>343</td>\n",
       "      <td>372</td>\n",
       "      <td>217</td>\n",
       "      <td>32</td>\n",
       "    </tr>\n",
       "  </tbody>\n",
       "</table>\n",
       "</div>"
      ],
      "text/plain": [
       "income_range       025000-040000  040000-099000  099000-199000  199000-299000  \\\n",
       "order_hour_of_day                                                               \n",
       "0                          11517         105340         100606            778   \n",
       "1                           5498          56682          52624            385   \n",
       "2                           3836          33523          31079            426   \n",
       "3                           3038          24924          22797            190   \n",
       "4                           2956          24679          24899            378   \n",
       "5                           3908          42039          40899            624   \n",
       "6                          14056         138841         134579           2165   \n",
       "7                          41804         421925         419277           4356   \n",
       "8                          90879         814047         799242           8193   \n",
       "9                         151806        1172095        1110273          11482   \n",
       "10                        172273        1319514        1248025          13284   \n",
       "11                        155821        1314545        1243379          13400   \n",
       "12                        139746        1248465        1209343          12510   \n",
       "13                        139714        1270231        1230178          13189   \n",
       "14                        140972        1284034        1243590          12778   \n",
       "15                        136627        1271068        1231726          13282   \n",
       "16                        132413        1206631        1175608          12526   \n",
       "17                        108509         989027         973023          10288   \n",
       "18                         81710         776989         764161           8635   \n",
       "19                         61765         592423         594479           5891   \n",
       "20                         45069         461371         462255           4220   \n",
       "21                         34748         379557         376581           2822   \n",
       "22                         28045         304578         298206           2111   \n",
       "23                         20488         188699         190772           1393   \n",
       "\n",
       "income_range       299000-399000  399000-499000  523000+  other  \n",
       "order_hour_of_day                                                \n",
       "0                            377             52       80     19  \n",
       "1                            338             55      118      0  \n",
       "2                            416             13       32     50  \n",
       "3                            257             36       11     28  \n",
       "4                            180            116       21     13  \n",
       "5                            287            107       20     77  \n",
       "6                            373            359       97     23  \n",
       "7                           1977           1192      437     86  \n",
       "8                           3355           1461      730    211  \n",
       "9                           5214           1727     1217    389  \n",
       "10                          5489           1753     1141    281  \n",
       "11                          4949           2281     1374    391  \n",
       "12                          3952           2686     1419    411  \n",
       "13                          3706           2382     1202    352  \n",
       "14                          4143           2202     1118    299  \n",
       "15                          5018           2683     1209    531  \n",
       "16                          4042           2619      999    364  \n",
       "17                          3279           2242      957    329  \n",
       "18                          2388           1583      662    374  \n",
       "19                          2157            949      505    136  \n",
       "20                          1844            750      473    174  \n",
       "21                          1045            441      354     89  \n",
       "22                           706            276      218     85  \n",
       "23                           343            372      217     32  "
      ]
     },
     "execution_count": 123,
     "metadata": {},
     "output_type": "execute_result"
    }
   ],
   "source": [
    "crosstab_hour_income"
   ]
  },
  {
   "cell_type": "code",
   "execution_count": 124,
   "id": "77f69d9b-7469-4bc6-8478-616d6c94da44",
   "metadata": {},
   "outputs": [],
   "source": [
    "crosstab_hour_income.to_clipboard()"
   ]
  },
  {
   "cell_type": "markdown",
   "id": "2fc73355-a1ea-4c5d-8a8e-fc15b6ae9108",
   "metadata": {},
   "source": [
    "## Order Day of the Week Profiles: "
   ]
  },
  {
   "cell_type": "code",
   "execution_count": 128,
   "id": "e956ca7c-e382-4976-a50f-8fa512b5a3ec",
   "metadata": {},
   "outputs": [
    {
     "data": {
      "text/plain": [
       "0    6204182\n",
       "1    5660230\n",
       "2    4213830\n",
       "3    3840534\n",
       "4    3783802\n",
       "5    4205791\n",
       "6    4496490\n",
       "Name: orders_day_of_week, dtype: int64"
      ]
     },
     "execution_count": 128,
     "metadata": {},
     "output_type": "execute_result"
    }
   ],
   "source": [
    "#Check freq of variables\n",
    "\n",
    "ords_prods_merge['orders_day_of_week'].value_counts().sort_index()"
   ]
  },
  {
   "cell_type": "code",
   "execution_count": 129,
   "id": "02463d0d-d167-42a1-ae59-290ec159a8ba",
   "metadata": {},
   "outputs": [],
   "source": [
    "#Create new column with name of weekday\n",
    "\n",
    "ords_prods_merge.loc[ords_prods_merge['orders_day_of_week'] == 0, 'day_of_week'] = 'Saturday'"
   ]
  },
  {
   "cell_type": "code",
   "execution_count": 130,
   "id": "7760868f-3aea-4980-8f11-c71d33b6d0df",
   "metadata": {},
   "outputs": [],
   "source": [
    "ords_prods_merge.loc[ords_prods_merge['orders_day_of_week'] == 1, 'day_of_week'] = 'Sunday'"
   ]
  },
  {
   "cell_type": "code",
   "execution_count": 132,
   "id": "1400d56d-7c9a-42f0-b025-b0730a789540",
   "metadata": {},
   "outputs": [],
   "source": [
    "ords_prods_merge.loc[ords_prods_merge['orders_day_of_week'] == 2, 'day_of_week'] = 'Monday'"
   ]
  },
  {
   "cell_type": "code",
   "execution_count": 133,
   "id": "0c29874c-4e40-41b0-baf4-39a54fb13e1a",
   "metadata": {},
   "outputs": [],
   "source": [
    "ords_prods_merge.loc[ords_prods_merge['orders_day_of_week'] == 3, 'day_of_week'] = 'Tuesday'"
   ]
  },
  {
   "cell_type": "code",
   "execution_count": 134,
   "id": "8781b70f-5283-4a7d-908c-977abcbb7575",
   "metadata": {},
   "outputs": [],
   "source": [
    "ords_prods_merge.loc[ords_prods_merge['orders_day_of_week'] == 4, 'day_of_week'] = 'Wednesday'"
   ]
  },
  {
   "cell_type": "code",
   "execution_count": 130,
   "id": "8a2a2acd-13cc-4bfa-b482-0ed1520f0bcf",
   "metadata": {},
   "outputs": [],
   "source": [
    "ords_prods_merge.loc[ords_prods_merge['orders_day_of_week'] == 5, 'day_of_week'] = 'Thursday'"
   ]
  },
  {
   "cell_type": "code",
   "execution_count": 135,
   "id": "c78f0ab7-7738-41f3-a6f8-7089b9c9c88a",
   "metadata": {},
   "outputs": [],
   "source": [
    "ords_prods_merge.loc[ords_prods_merge['orders_day_of_week'] == 6, 'day_of_week'] = 'Friday'"
   ]
  },
  {
   "cell_type": "code",
   "execution_count": 136,
   "id": "cc23023e-b624-4c4b-9b67-24a6c4341b04",
   "metadata": {},
   "outputs": [
    {
     "data": {
      "text/plain": [
       "Friday       4496490\n",
       "Monday       4213830\n",
       "Saturday     6204182\n",
       "Sunday       5660230\n",
       "Tuesday      3840534\n",
       "Wednesday    3783802\n",
       "Name: day_of_week, dtype: int64"
      ]
     },
     "execution_count": 136,
     "metadata": {},
     "output_type": "execute_result"
    }
   ],
   "source": [
    "ords_prods_merge['day_of_week'].value_counts().sort_index()"
   ]
  },
  {
   "cell_type": "code",
   "execution_count": 137,
   "id": "19d77226-4543-451c-b3ee-98ce0e7408d2",
   "metadata": {},
   "outputs": [],
   "source": [
    "#Create crosstab with day of week and price loc\n",
    "\n",
    "crosstab_day_price = pd.crosstab(ords_prods_merge['day_of_week'], ords_prods_merge['price_range_loc'], dropna = False)"
   ]
  },
  {
   "cell_type": "code",
   "execution_count": 138,
   "id": "8a9caf37-b2ab-456b-935e-f7b8527f1387",
   "metadata": {},
   "outputs": [
    {
     "data": {
      "text/html": [
       "<div>\n",
       "<style scoped>\n",
       "    .dataframe tbody tr th:only-of-type {\n",
       "        vertical-align: middle;\n",
       "    }\n",
       "\n",
       "    .dataframe tbody tr th {\n",
       "        vertical-align: top;\n",
       "    }\n",
       "\n",
       "    .dataframe thead th {\n",
       "        text-align: right;\n",
       "    }\n",
       "</style>\n",
       "<table border=\"1\" class=\"dataframe\">\n",
       "  <thead>\n",
       "    <tr style=\"text-align: right;\">\n",
       "      <th>price_range_loc</th>\n",
       "      <th>High-range product</th>\n",
       "      <th>Low-range product</th>\n",
       "      <th>Mid-range product</th>\n",
       "    </tr>\n",
       "    <tr>\n",
       "      <th>day_of_week</th>\n",
       "      <th></th>\n",
       "      <th></th>\n",
       "      <th></th>\n",
       "    </tr>\n",
       "  </thead>\n",
       "  <tbody>\n",
       "    <tr>\n",
       "      <th>Friday</th>\n",
       "      <td>64000</td>\n",
       "      <td>1381463</td>\n",
       "      <td>95869</td>\n",
       "    </tr>\n",
       "    <tr>\n",
       "      <th>Monday</th>\n",
       "      <td>51340</td>\n",
       "      <td>1329813</td>\n",
       "      <td>100503</td>\n",
       "    </tr>\n",
       "    <tr>\n",
       "      <th>Saturday</th>\n",
       "      <td>87703</td>\n",
       "      <td>1897856</td>\n",
       "      <td>142186</td>\n",
       "    </tr>\n",
       "    <tr>\n",
       "      <th>Sunday</th>\n",
       "      <td>70046</td>\n",
       "      <td>1781899</td>\n",
       "      <td>141751</td>\n",
       "    </tr>\n",
       "    <tr>\n",
       "      <th>Tuesday</th>\n",
       "      <td>46489</td>\n",
       "      <td>1211356</td>\n",
       "      <td>90243</td>\n",
       "    </tr>\n",
       "    <tr>\n",
       "      <th>Wednesday</th>\n",
       "      <td>45773</td>\n",
       "      <td>1195353</td>\n",
       "      <td>88129</td>\n",
       "    </tr>\n",
       "  </tbody>\n",
       "</table>\n",
       "</div>"
      ],
      "text/plain": [
       "price_range_loc  High-range product  Low-range product  Mid-range product\n",
       "day_of_week                                                              \n",
       "Friday                        64000            1381463              95869\n",
       "Monday                        51340            1329813             100503\n",
       "Saturday                      87703            1897856             142186\n",
       "Sunday                        70046            1781899             141751\n",
       "Tuesday                       46489            1211356              90243\n",
       "Wednesday                     45773            1195353              88129"
      ]
     },
     "execution_count": 138,
     "metadata": {},
     "output_type": "execute_result"
    }
   ],
   "source": [
    "crosstab_day_price"
   ]
  },
  {
   "cell_type": "code",
   "execution_count": 139,
   "id": "207f0f6b-97d5-4a33-bb53-5832d229865e",
   "metadata": {},
   "outputs": [],
   "source": [
    "crosstab_day_price.to_clipboard()"
   ]
  },
  {
   "cell_type": "code",
   "execution_count": 166,
   "id": "8ca93068-0c80-49a4-a1c2-709b5c858a36",
   "metadata": {},
   "outputs": [
    {
     "data": {
      "text/html": [
       "<div>\n",
       "<style scoped>\n",
       "    .dataframe tbody tr th:only-of-type {\n",
       "        vertical-align: middle;\n",
       "    }\n",
       "\n",
       "    .dataframe tbody tr th {\n",
       "        vertical-align: top;\n",
       "    }\n",
       "\n",
       "    .dataframe thead th {\n",
       "        text-align: right;\n",
       "    }\n",
       "</style>\n",
       "<table border=\"1\" class=\"dataframe\">\n",
       "  <thead>\n",
       "    <tr style=\"text-align: right;\">\n",
       "      <th></th>\n",
       "      <th>customer_profile</th>\n",
       "      <th>user_id</th>\n",
       "    </tr>\n",
       "  </thead>\n",
       "  <tbody>\n",
       "    <tr>\n",
       "      <th>0</th>\n",
       "      <td>NaN</td>\n",
       "      <td>1</td>\n",
       "    </tr>\n",
       "    <tr>\n",
       "      <th>1</th>\n",
       "      <td>NaN</td>\n",
       "      <td>1</td>\n",
       "    </tr>\n",
       "    <tr>\n",
       "      <th>2</th>\n",
       "      <td>NaN</td>\n",
       "      <td>1</td>\n",
       "    </tr>\n",
       "    <tr>\n",
       "      <th>3</th>\n",
       "      <td>NaN</td>\n",
       "      <td>1</td>\n",
       "    </tr>\n",
       "    <tr>\n",
       "      <th>4</th>\n",
       "      <td>NaN</td>\n",
       "      <td>1</td>\n",
       "    </tr>\n",
       "  </tbody>\n",
       "</table>\n",
       "</div>"
      ],
      "text/plain": [
       "  customer_profile  user_id\n",
       "0              NaN        1\n",
       "1              NaN        1\n",
       "2              NaN        1\n",
       "3              NaN        1\n",
       "4              NaN        1"
      ]
     },
     "execution_count": 166,
     "metadata": {},
     "output_type": "execute_result"
    }
   ],
   "source": [
    "ords_prods_merge[['customer_profile', 'user_id']].head()"
   ]
  },
  {
   "cell_type": "code",
   "execution_count": 140,
   "id": "33cc0152-4fd4-4e25-8b6a-12b94c7187a2",
   "metadata": {},
   "outputs": [],
   "source": [
    "#Create crosstab for mean \n",
    "\n",
    "crosstab_mean_price = ords_prods_merge.groupby('day_of_week').agg({'prices': ['mean']})"
   ]
  },
  {
   "cell_type": "code",
   "execution_count": 141,
   "id": "39d6899f-873b-4b12-bd53-5cb0ee60970b",
   "metadata": {},
   "outputs": [
    {
     "data": {
      "text/html": [
       "<div>\n",
       "<style scoped>\n",
       "    .dataframe tbody tr th:only-of-type {\n",
       "        vertical-align: middle;\n",
       "    }\n",
       "\n",
       "    .dataframe tbody tr th {\n",
       "        vertical-align: top;\n",
       "    }\n",
       "\n",
       "    .dataframe thead tr th {\n",
       "        text-align: left;\n",
       "    }\n",
       "\n",
       "    .dataframe thead tr:last-of-type th {\n",
       "        text-align: right;\n",
       "    }\n",
       "</style>\n",
       "<table border=\"1\" class=\"dataframe\">\n",
       "  <thead>\n",
       "    <tr>\n",
       "      <th></th>\n",
       "      <th>prices</th>\n",
       "    </tr>\n",
       "    <tr>\n",
       "      <th></th>\n",
       "      <th>mean</th>\n",
       "    </tr>\n",
       "    <tr>\n",
       "      <th>day_of_week</th>\n",
       "      <th></th>\n",
       "    </tr>\n",
       "  </thead>\n",
       "  <tbody>\n",
       "    <tr>\n",
       "      <th>Friday</th>\n",
       "      <td>11.273960</td>\n",
       "    </tr>\n",
       "    <tr>\n",
       "      <th>Monday</th>\n",
       "      <td>12.356269</td>\n",
       "    </tr>\n",
       "    <tr>\n",
       "      <th>Saturday</th>\n",
       "      <td>11.166988</td>\n",
       "    </tr>\n",
       "    <tr>\n",
       "      <th>Sunday</th>\n",
       "      <td>12.181343</td>\n",
       "    </tr>\n",
       "    <tr>\n",
       "      <th>Tuesday</th>\n",
       "      <td>12.235072</td>\n",
       "    </tr>\n",
       "    <tr>\n",
       "      <th>Wednesday</th>\n",
       "      <td>12.169939</td>\n",
       "    </tr>\n",
       "  </tbody>\n",
       "</table>\n",
       "</div>"
      ],
      "text/plain": [
       "                prices\n",
       "                  mean\n",
       "day_of_week           \n",
       "Friday       11.273960\n",
       "Monday       12.356269\n",
       "Saturday     11.166988\n",
       "Sunday       12.181343\n",
       "Tuesday      12.235072\n",
       "Wednesday    12.169939"
      ]
     },
     "execution_count": 141,
     "metadata": {},
     "output_type": "execute_result"
    }
   ],
   "source": [
    "crosstab_mean_price"
   ]
  },
  {
   "cell_type": "code",
   "execution_count": 142,
   "id": "a3b16b03-02b5-4da3-acc3-4d9821a7cf5a",
   "metadata": {},
   "outputs": [],
   "source": [
    "crosstab_mean_price.to_clipboard()"
   ]
  },
  {
   "cell_type": "markdown",
   "id": "acbf27fc-6094-4e5a-b6bd-0f8e8b797c57",
   "metadata": {},
   "source": [
    "## Final Customer Profile"
   ]
  },
  {
   "cell_type": "code",
   "execution_count": 164,
   "id": "568998fd-d84d-42a8-84ec-e4ebb92c860d",
   "metadata": {},
   "outputs": [],
   "source": [
    "#Create flag for single adult (age: <25, income: 400000, department_id: 1, 4, 7, 8, 16, parental_status: Not Parent)\n",
    "ords_prods_merge.loc[(ords_prods_merge['age'] <= 25) & (ords_prods_merge['income'] <= 400000) & (ords_prods_merge['department_id'].isin([1, 4, 7, 8, 16,])) & (ords_prods_merge['parental_status'] == 'non parent'), 'customer_profile'] = 'Single adult'"
   ]
  },
  {
   "cell_type": "code",
   "execution_count": 162,
   "id": "a5e1a155-abed-4f3c-b42b-39f63919d86b",
   "metadata": {},
   "outputs": [],
   "source": [
    "#Create flag for young parent (age: <25, income: 400000, department_id: 1, 4, 7, 8, 16, parental_status: Parent)\n",
    "ords_prods_merge.loc[(ords_prods_merge['age'] <= 25) & (ords_prods_merge['income'] <= 400000) & (ords_prods_merge['department_id'].isin([1, 4, 7, 8, 16,])) & (ords_prods_merge['parental_status'] == 'parent'), 'customer_profile'] = 'Young parent'"
   ]
  },
  {
   "cell_type": "code",
   "execution_count": 169,
   "id": "16ec6e4c-96c6-4196-87ea-5d8046e4c336",
   "metadata": {},
   "outputs": [],
   "source": [
    "#Transform values to be the same for each user id\n",
    "\n",
    "ords_prods_merge['customer_profile'] = ords_prods_merge.groupby('user_id')['customer_profile'].transform('first')"
   ]
  },
  {
   "cell_type": "code",
   "execution_count": 165,
   "id": "789f0e91-436e-4df1-aa1c-d5d50846719e",
   "metadata": {},
   "outputs": [
    {
     "data": {
      "text/plain": [
       "Young parent    1865809\n",
       "Single adult     613012\n",
       "Name: customer_profile, dtype: int64"
      ]
     },
     "execution_count": 165,
     "metadata": {},
     "output_type": "execute_result"
    }
   ],
   "source": [
    "ords_prods_merge['customer_profile'].value_counts()"
   ]
  },
  {
   "cell_type": "code",
   "execution_count": 171,
   "id": "123010a7-ae28-4f97-bec1-fcc1edbc7685",
   "metadata": {},
   "outputs": [],
   "source": [
    "ords_prods_merge['customer_profile'].fillna('Others', inplace=True)"
   ]
  },
  {
   "cell_type": "code",
   "execution_count": 172,
   "id": "e83723c5-7628-4fcd-aa7e-dff81520a343",
   "metadata": {},
   "outputs": [
    {
     "data": {
      "text/plain": [
       "Others          28361249\n",
       "Young parent     3046568\n",
       "Single adult      997042\n",
       "Name: customer_profile, dtype: int64"
      ]
     },
     "execution_count": 172,
     "metadata": {},
     "output_type": "execute_result"
    }
   ],
   "source": [
    "ords_prods_merge['customer_profile'].value_counts(dropna = False)"
   ]
  },
  {
   "cell_type": "code",
   "execution_count": 173,
   "id": "bf6984bd-db7f-426f-91f0-5158603eb9f9",
   "metadata": {},
   "outputs": [],
   "source": [
    "#Create crosstab with region and customer profile\n",
    "\n",
    "crosstab_customer_region = pd.crosstab(ords_prods_merge['customer_profile'], ords_prods_merge['region'], dropna = False)"
   ]
  },
  {
   "cell_type": "code",
   "execution_count": 174,
   "id": "0b186b81-2abf-400d-afe8-cc44b1a9e991",
   "metadata": {},
   "outputs": [
    {
     "data": {
      "text/html": [
       "<div>\n",
       "<style scoped>\n",
       "    .dataframe tbody tr th:only-of-type {\n",
       "        vertical-align: middle;\n",
       "    }\n",
       "\n",
       "    .dataframe tbody tr th {\n",
       "        vertical-align: top;\n",
       "    }\n",
       "\n",
       "    .dataframe thead th {\n",
       "        text-align: right;\n",
       "    }\n",
       "</style>\n",
       "<table border=\"1\" class=\"dataframe\">\n",
       "  <thead>\n",
       "    <tr style=\"text-align: right;\">\n",
       "      <th>region</th>\n",
       "      <th>Midwest</th>\n",
       "      <th>Northeast</th>\n",
       "      <th>South</th>\n",
       "      <th>West</th>\n",
       "    </tr>\n",
       "    <tr>\n",
       "      <th>customer_profile</th>\n",
       "      <th></th>\n",
       "      <th></th>\n",
       "      <th></th>\n",
       "      <th></th>\n",
       "    </tr>\n",
       "  </thead>\n",
       "  <tbody>\n",
       "    <tr>\n",
       "      <th>Others</th>\n",
       "      <td>6658248</td>\n",
       "      <td>5011966</td>\n",
       "      <td>8858513</td>\n",
       "      <td>7832522</td>\n",
       "    </tr>\n",
       "    <tr>\n",
       "      <th>Single adult</th>\n",
       "      <td>223266</td>\n",
       "      <td>179762</td>\n",
       "      <td>326934</td>\n",
       "      <td>267080</td>\n",
       "    </tr>\n",
       "    <tr>\n",
       "      <th>Young parent</th>\n",
       "      <td>715811</td>\n",
       "      <td>531008</td>\n",
       "      <td>969414</td>\n",
       "      <td>830335</td>\n",
       "    </tr>\n",
       "  </tbody>\n",
       "</table>\n",
       "</div>"
      ],
      "text/plain": [
       "region            Midwest  Northeast    South     West\n",
       "customer_profile                                      \n",
       "Others            6658248    5011966  8858513  7832522\n",
       "Single adult       223266     179762   326934   267080\n",
       "Young parent       715811     531008   969414   830335"
      ]
     },
     "execution_count": 174,
     "metadata": {},
     "output_type": "execute_result"
    }
   ],
   "source": [
    "crosstab_customer_region"
   ]
  },
  {
   "cell_type": "code",
   "execution_count": 175,
   "id": "7ca0c619-daf4-442d-a905-7445c0540756",
   "metadata": {},
   "outputs": [],
   "source": [
    "crosstab_customer_region.to_clipboard()"
   ]
  },
  {
   "cell_type": "code",
   "execution_count": 178,
   "id": "06b5a56a-9253-4d35-828b-738f46bffc9c",
   "metadata": {},
   "outputs": [],
   "source": [
    "#Create crosstab with customer profile and depart name\n",
    "\n",
    "crosstab_customer_depart = pd.crosstab(ords_prods_merge['customer_profile'], ords_prods_merge['department_name'], dropna = False)"
   ]
  },
  {
   "cell_type": "code",
   "execution_count": 179,
   "id": "fed9c2ff-329f-4ea0-9079-cc1a7a4c4b6a",
   "metadata": {},
   "outputs": [
    {
     "data": {
      "text/html": [
       "<div>\n",
       "<style scoped>\n",
       "    .dataframe tbody tr th:only-of-type {\n",
       "        vertical-align: middle;\n",
       "    }\n",
       "\n",
       "    .dataframe tbody tr th {\n",
       "        vertical-align: top;\n",
       "    }\n",
       "\n",
       "    .dataframe thead th {\n",
       "        text-align: right;\n",
       "    }\n",
       "</style>\n",
       "<table border=\"1\" class=\"dataframe\">\n",
       "  <thead>\n",
       "    <tr style=\"text-align: right;\">\n",
       "      <th>department_name</th>\n",
       "      <th>alcohol</th>\n",
       "      <th>babies</th>\n",
       "      <th>bakery</th>\n",
       "      <th>beverages</th>\n",
       "      <th>breakfast</th>\n",
       "      <th>bulk</th>\n",
       "      <th>canned goods</th>\n",
       "      <th>dairy eggs</th>\n",
       "      <th>deli</th>\n",
       "      <th>dry goods pasta</th>\n",
       "      <th>...</th>\n",
       "      <th>household</th>\n",
       "      <th>international</th>\n",
       "      <th>meat seafood</th>\n",
       "      <th>missing</th>\n",
       "      <th>other</th>\n",
       "      <th>pantry</th>\n",
       "      <th>personal care</th>\n",
       "      <th>pets</th>\n",
       "      <th>produce</th>\n",
       "      <th>snacks</th>\n",
       "    </tr>\n",
       "    <tr>\n",
       "      <th>customer_profile</th>\n",
       "      <th></th>\n",
       "      <th></th>\n",
       "      <th></th>\n",
       "      <th></th>\n",
       "      <th></th>\n",
       "      <th></th>\n",
       "      <th></th>\n",
       "      <th></th>\n",
       "      <th></th>\n",
       "      <th></th>\n",
       "      <th></th>\n",
       "      <th></th>\n",
       "      <th></th>\n",
       "      <th></th>\n",
       "      <th></th>\n",
       "      <th></th>\n",
       "      <th></th>\n",
       "      <th></th>\n",
       "      <th></th>\n",
       "      <th></th>\n",
       "      <th></th>\n",
       "    </tr>\n",
       "  </thead>\n",
       "  <tbody>\n",
       "    <tr>\n",
       "      <th>Others</th>\n",
       "      <td>133638</td>\n",
       "      <td>370812</td>\n",
       "      <td>1026131</td>\n",
       "      <td>2355036</td>\n",
       "      <td>613558</td>\n",
       "      <td>30151</td>\n",
       "      <td>934594</td>\n",
       "      <td>4723887</td>\n",
       "      <td>920777</td>\n",
       "      <td>756840</td>\n",
       "      <td>...</td>\n",
       "      <td>647333</td>\n",
       "      <td>235237</td>\n",
       "      <td>620095</td>\n",
       "      <td>60147</td>\n",
       "      <td>31629</td>\n",
       "      <td>1641733</td>\n",
       "      <td>391873</td>\n",
       "      <td>84421</td>\n",
       "      <td>8301687</td>\n",
       "      <td>2526902</td>\n",
       "    </tr>\n",
       "    <tr>\n",
       "      <th>Single adult</th>\n",
       "      <td>4656</td>\n",
       "      <td>13312</td>\n",
       "      <td>36021</td>\n",
       "      <td>83859</td>\n",
       "      <td>21221</td>\n",
       "      <td>1086</td>\n",
       "      <td>32614</td>\n",
       "      <td>164990</td>\n",
       "      <td>32180</td>\n",
       "      <td>26833</td>\n",
       "      <td>...</td>\n",
       "      <td>21973</td>\n",
       "      <td>8588</td>\n",
       "      <td>21623</td>\n",
       "      <td>2228</td>\n",
       "      <td>1128</td>\n",
       "      <td>57693</td>\n",
       "      <td>13916</td>\n",
       "      <td>3206</td>\n",
       "      <td>293951</td>\n",
       "      <td>88958</td>\n",
       "    </tr>\n",
       "    <tr>\n",
       "      <th>Young parent</th>\n",
       "      <td>15402</td>\n",
       "      <td>39678</td>\n",
       "      <td>110276</td>\n",
       "      <td>249228</td>\n",
       "      <td>68254</td>\n",
       "      <td>3336</td>\n",
       "      <td>100850</td>\n",
       "      <td>509870</td>\n",
       "      <td>98292</td>\n",
       "      <td>82954</td>\n",
       "      <td>...</td>\n",
       "      <td>69360</td>\n",
       "      <td>25428</td>\n",
       "      <td>67209</td>\n",
       "      <td>6770</td>\n",
       "      <td>3534</td>\n",
       "      <td>175943</td>\n",
       "      <td>41783</td>\n",
       "      <td>10089</td>\n",
       "      <td>883653</td>\n",
       "      <td>271690</td>\n",
       "    </tr>\n",
       "  </tbody>\n",
       "</table>\n",
       "<p>3 rows × 21 columns</p>\n",
       "</div>"
      ],
      "text/plain": [
       "department_name   alcohol  babies   bakery  beverages  breakfast   bulk  \\\n",
       "customer_profile                                                          \n",
       "Others             133638  370812  1026131    2355036     613558  30151   \n",
       "Single adult         4656   13312    36021      83859      21221   1086   \n",
       "Young parent        15402   39678   110276     249228      68254   3336   \n",
       "\n",
       "department_name   canned goods  dairy eggs    deli  dry goods pasta  ...  \\\n",
       "customer_profile                                                     ...   \n",
       "Others                  934594     4723887  920777           756840  ...   \n",
       "Single adult             32614      164990   32180            26833  ...   \n",
       "Young parent            100850      509870   98292            82954  ...   \n",
       "\n",
       "department_name   household  international  meat seafood  missing  other  \\\n",
       "customer_profile                                                           \n",
       "Others               647333         235237        620095    60147  31629   \n",
       "Single adult          21973           8588         21623     2228   1128   \n",
       "Young parent          69360          25428         67209     6770   3534   \n",
       "\n",
       "department_name    pantry  personal care   pets  produce   snacks  \n",
       "customer_profile                                                   \n",
       "Others            1641733         391873  84421  8301687  2526902  \n",
       "Single adult        57693          13916   3206   293951    88958  \n",
       "Young parent       175943          41783  10089   883653   271690  \n",
       "\n",
       "[3 rows x 21 columns]"
      ]
     },
     "execution_count": 179,
     "metadata": {},
     "output_type": "execute_result"
    }
   ],
   "source": [
    "crosstab_customer_depart"
   ]
  },
  {
   "cell_type": "code",
   "execution_count": 180,
   "id": "fd4b24fd-81e1-4f83-9247-ccbdacd45b39",
   "metadata": {},
   "outputs": [],
   "source": [
    "crosstab_customer_depart.to_clipboard()"
   ]
  },
  {
   "cell_type": "code",
   "execution_count": 181,
   "id": "25d47ceb-e165-4780-8b09-aa4a13d222d9",
   "metadata": {},
   "outputs": [],
   "source": [
    "#Create crosstab with customer profile and age profile\n",
    "\n",
    "crosstab_customer_age = pd.crosstab(ords_prods_merge['customer_profile'], ords_prods_merge['Age_classification'], dropna = False)"
   ]
  },
  {
   "cell_type": "code",
   "execution_count": 182,
   "id": "15aaa175-8abc-4d03-b775-9e924aa817a6",
   "metadata": {},
   "outputs": [
    {
     "data": {
      "text/html": [
       "<div>\n",
       "<style scoped>\n",
       "    .dataframe tbody tr th:only-of-type {\n",
       "        vertical-align: middle;\n",
       "    }\n",
       "\n",
       "    .dataframe tbody tr th {\n",
       "        vertical-align: top;\n",
       "    }\n",
       "\n",
       "    .dataframe thead th {\n",
       "        text-align: right;\n",
       "    }\n",
       "</style>\n",
       "<table border=\"1\" class=\"dataframe\">\n",
       "  <thead>\n",
       "    <tr style=\"text-align: right;\">\n",
       "      <th>Age_classification</th>\n",
       "      <th>25-34</th>\n",
       "      <th>35-44</th>\n",
       "      <th>45-54</th>\n",
       "      <th>55-64</th>\n",
       "      <th>65-74</th>\n",
       "      <th>74-81</th>\n",
       "      <th>&lt;24</th>\n",
       "    </tr>\n",
       "    <tr>\n",
       "      <th>customer_profile</th>\n",
       "      <th></th>\n",
       "      <th></th>\n",
       "      <th></th>\n",
       "      <th></th>\n",
       "      <th></th>\n",
       "      <th></th>\n",
       "      <th></th>\n",
       "    </tr>\n",
       "  </thead>\n",
       "  <tbody>\n",
       "    <tr>\n",
       "      <th>Others</th>\n",
       "      <td>4582728</td>\n",
       "      <td>5062429</td>\n",
       "      <td>5111126</td>\n",
       "      <td>5028565</td>\n",
       "      <td>5005001</td>\n",
       "      <td>3570083</td>\n",
       "      <td>1092</td>\n",
       "    </tr>\n",
       "    <tr>\n",
       "      <th>Single adult</th>\n",
       "      <td>133885</td>\n",
       "      <td>0</td>\n",
       "      <td>0</td>\n",
       "      <td>0</td>\n",
       "      <td>0</td>\n",
       "      <td>0</td>\n",
       "      <td>745876</td>\n",
       "    </tr>\n",
       "    <tr>\n",
       "      <th>Young parent</th>\n",
       "      <td>338041</td>\n",
       "      <td>0</td>\n",
       "      <td>0</td>\n",
       "      <td>0</td>\n",
       "      <td>0</td>\n",
       "      <td>0</td>\n",
       "      <td>2316971</td>\n",
       "    </tr>\n",
       "  </tbody>\n",
       "</table>\n",
       "</div>"
      ],
      "text/plain": [
       "Age_classification    25-34    35-44    45-54    55-64    65-74    74-81  \\\n",
       "customer_profile                                                           \n",
       "Others              4582728  5062429  5111126  5028565  5005001  3570083   \n",
       "Single adult         133885        0        0        0        0        0   \n",
       "Young parent         338041        0        0        0        0        0   \n",
       "\n",
       "Age_classification      <24  \n",
       "customer_profile             \n",
       "Others                 1092  \n",
       "Single adult         745876  \n",
       "Young parent        2316971  "
      ]
     },
     "execution_count": 182,
     "metadata": {},
     "output_type": "execute_result"
    }
   ],
   "source": [
    "crosstab_customer_age"
   ]
  },
  {
   "cell_type": "code",
   "execution_count": 183,
   "id": "a215bdf6-81e6-4b8c-ae4d-70e5228846fb",
   "metadata": {},
   "outputs": [],
   "source": [
    "crosstab_customer_age.to_clipboard()"
   ]
  },
  {
   "cell_type": "code",
   "execution_count": 184,
   "id": "9fc20920-2def-40d1-8ef5-6167e8657079",
   "metadata": {},
   "outputs": [],
   "source": [
    "#Create crosstan with customer profile and loyalty flag\n",
    "\n",
    "crosstab_customer_loyalty = pd.crosstab(ords_prods_merge['customer_profile'], ords_prods_merge['loyalty_flag'], dropna = False)"
   ]
  },
  {
   "cell_type": "code",
   "execution_count": 188,
   "id": "f95e1131-d50f-4841-b6fe-bdf68a53b264",
   "metadata": {},
   "outputs": [
    {
     "data": {
      "text/html": [
       "<div>\n",
       "<style scoped>\n",
       "    .dataframe tbody tr th:only-of-type {\n",
       "        vertical-align: middle;\n",
       "    }\n",
       "\n",
       "    .dataframe tbody tr th {\n",
       "        vertical-align: top;\n",
       "    }\n",
       "\n",
       "    .dataframe thead th {\n",
       "        text-align: right;\n",
       "    }\n",
       "</style>\n",
       "<table border=\"1\" class=\"dataframe\">\n",
       "  <thead>\n",
       "    <tr style=\"text-align: right;\">\n",
       "      <th>loyalty_flag</th>\n",
       "      <th>Loyal customer</th>\n",
       "      <th>New customer</th>\n",
       "      <th>Regular customer</th>\n",
       "    </tr>\n",
       "    <tr>\n",
       "      <th>customer_profile</th>\n",
       "      <th></th>\n",
       "      <th></th>\n",
       "      <th></th>\n",
       "    </tr>\n",
       "  </thead>\n",
       "  <tbody>\n",
       "    <tr>\n",
       "      <th>Others</th>\n",
       "      <td>9003746</td>\n",
       "      <td>5464621</td>\n",
       "      <td>13892882</td>\n",
       "    </tr>\n",
       "    <tr>\n",
       "      <th>Single adult</th>\n",
       "      <td>310321</td>\n",
       "      <td>199605</td>\n",
       "      <td>487116</td>\n",
       "    </tr>\n",
       "    <tr>\n",
       "      <th>Young parent</th>\n",
       "      <td>970026</td>\n",
       "      <td>579764</td>\n",
       "      <td>1496778</td>\n",
       "    </tr>\n",
       "  </tbody>\n",
       "</table>\n",
       "</div>"
      ],
      "text/plain": [
       "loyalty_flag      Loyal customer  New customer  Regular customer\n",
       "customer_profile                                                \n",
       "Others                   9003746       5464621          13892882\n",
       "Single adult              310321        199605            487116\n",
       "Young parent              970026        579764           1496778"
      ]
     },
     "execution_count": 188,
     "metadata": {},
     "output_type": "execute_result"
    }
   ],
   "source": [
    "crosstab_customer_loyalty"
   ]
  },
  {
   "cell_type": "code",
   "execution_count": 189,
   "id": "1853ee25-ebad-4e8b-b95e-483f8ee25b44",
   "metadata": {},
   "outputs": [],
   "source": [
    "crosstab_customer_loyalty.to_clipboard()"
   ]
  },
  {
   "cell_type": "code",
   "execution_count": 185,
   "id": "7fefc5d2-be8c-4fc6-9a64-8624d5f2025f",
   "metadata": {},
   "outputs": [],
   "source": [
    "#Create crosstab with customer profile and spending flag\n",
    "\n",
    "crosstab_customer_spending = pd.crosstab(ords_prods_merge['customer_profile'], ords_prods_merge['spending_flag'], dropna = False)"
   ]
  },
  {
   "cell_type": "code",
   "execution_count": 186,
   "id": "d7cd0791-9957-4fc2-ac7a-8efc8e30c595",
   "metadata": {},
   "outputs": [
    {
     "data": {
      "text/html": [
       "<div>\n",
       "<style scoped>\n",
       "    .dataframe tbody tr th:only-of-type {\n",
       "        vertical-align: middle;\n",
       "    }\n",
       "\n",
       "    .dataframe tbody tr th {\n",
       "        vertical-align: top;\n",
       "    }\n",
       "\n",
       "    .dataframe thead th {\n",
       "        text-align: right;\n",
       "    }\n",
       "</style>\n",
       "<table border=\"1\" class=\"dataframe\">\n",
       "  <thead>\n",
       "    <tr style=\"text-align: right;\">\n",
       "      <th>spending_flag</th>\n",
       "      <th>High spender</th>\n",
       "      <th>Low spender</th>\n",
       "    </tr>\n",
       "    <tr>\n",
       "      <th>customer_profile</th>\n",
       "      <th></th>\n",
       "      <th></th>\n",
       "    </tr>\n",
       "  </thead>\n",
       "  <tbody>\n",
       "    <tr>\n",
       "      <th>Others</th>\n",
       "      <td>27804856</td>\n",
       "      <td>556390</td>\n",
       "    </tr>\n",
       "    <tr>\n",
       "      <th>Single adult</th>\n",
       "      <td>978349</td>\n",
       "      <td>18693</td>\n",
       "    </tr>\n",
       "    <tr>\n",
       "      <th>Young parent</th>\n",
       "      <td>2987409</td>\n",
       "      <td>59159</td>\n",
       "    </tr>\n",
       "  </tbody>\n",
       "</table>\n",
       "</div>"
      ],
      "text/plain": [
       "spending_flag     High spender  Low spender\n",
       "customer_profile                           \n",
       "Others                27804856       556390\n",
       "Single adult            978349        18693\n",
       "Young parent           2987409        59159"
      ]
     },
     "execution_count": 186,
     "metadata": {},
     "output_type": "execute_result"
    }
   ],
   "source": [
    "crosstab_customer_spending"
   ]
  },
  {
   "cell_type": "code",
   "execution_count": 187,
   "id": "80e34b2d-bfdd-4571-a469-21d583b8961f",
   "metadata": {},
   "outputs": [],
   "source": [
    "crosstab_customer_spending.to_clipboard()"
   ]
  },
  {
   "cell_type": "code",
   "execution_count": 236,
   "id": "372823da-ca1a-45f8-a68b-0300cd3ba052",
   "metadata": {},
   "outputs": [],
   "source": [
    "#Create crosstab with busiest period and age profile\n",
    "\n",
    "crosstab_busiest_age = pd.crosstab(ords_prods_merge['Age_classification'], ords_prods_merge['Busiest_period_of_day'], dropna = False)"
   ]
  },
  {
   "cell_type": "code",
   "execution_count": 239,
   "id": "74f074ba-24b9-4994-b533-bd082b29f46c",
   "metadata": {},
   "outputs": [
    {
     "data": {
      "text/html": [
       "<div>\n",
       "<style scoped>\n",
       "    .dataframe tbody tr th:only-of-type {\n",
       "        vertical-align: middle;\n",
       "    }\n",
       "\n",
       "    .dataframe tbody tr th {\n",
       "        vertical-align: top;\n",
       "    }\n",
       "\n",
       "    .dataframe thead th {\n",
       "        text-align: right;\n",
       "    }\n",
       "</style>\n",
       "<table border=\"1\" class=\"dataframe\">\n",
       "  <thead>\n",
       "    <tr style=\"text-align: right;\">\n",
       "      <th>Busiest_period_of_day</th>\n",
       "      <th>Average orders</th>\n",
       "      <th>Fewest orders</th>\n",
       "      <th>Most orders</th>\n",
       "    </tr>\n",
       "    <tr>\n",
       "      <th>Age_classification</th>\n",
       "      <th></th>\n",
       "      <th></th>\n",
       "      <th></th>\n",
       "    </tr>\n",
       "  </thead>\n",
       "  <tbody>\n",
       "    <tr>\n",
       "      <th>25-34</th>\n",
       "      <td>413928</td>\n",
       "      <td>4205956</td>\n",
       "      <td>434770</td>\n",
       "    </tr>\n",
       "    <tr>\n",
       "      <th>35-44</th>\n",
       "      <td>418952</td>\n",
       "      <td>4212097</td>\n",
       "      <td>431380</td>\n",
       "    </tr>\n",
       "    <tr>\n",
       "      <th>45-54</th>\n",
       "      <td>418960</td>\n",
       "      <td>4255069</td>\n",
       "      <td>437097</td>\n",
       "    </tr>\n",
       "    <tr>\n",
       "      <th>55-64</th>\n",
       "      <td>415151</td>\n",
       "      <td>4187999</td>\n",
       "      <td>425415</td>\n",
       "    </tr>\n",
       "    <tr>\n",
       "      <th>65-74</th>\n",
       "      <td>411114</td>\n",
       "      <td>4168465</td>\n",
       "      <td>425422</td>\n",
       "    </tr>\n",
       "    <tr>\n",
       "      <th>74-81</th>\n",
       "      <td>289779</td>\n",
       "      <td>2976831</td>\n",
       "      <td>303473</td>\n",
       "    </tr>\n",
       "    <tr>\n",
       "      <th>&lt;24</th>\n",
       "      <td>251646</td>\n",
       "      <td>2551296</td>\n",
       "      <td>260997</td>\n",
       "    </tr>\n",
       "  </tbody>\n",
       "</table>\n",
       "</div>"
      ],
      "text/plain": [
       "Busiest_period_of_day  Average orders  Fewest orders  Most orders\n",
       "Age_classification                                               \n",
       "25-34                          413928        4205956       434770\n",
       "35-44                          418952        4212097       431380\n",
       "45-54                          418960        4255069       437097\n",
       "55-64                          415151        4187999       425415\n",
       "65-74                          411114        4168465       425422\n",
       "74-81                          289779        2976831       303473\n",
       "<24                            251646        2551296       260997"
      ]
     },
     "execution_count": 239,
     "metadata": {},
     "output_type": "execute_result"
    }
   ],
   "source": [
    "crosstab_busiest_age"
   ]
  },
  {
   "cell_type": "code",
   "execution_count": 231,
   "id": "cda1aebf-9b3b-47bf-8435-c5b2609b48dc",
   "metadata": {},
   "outputs": [],
   "source": [
    "crosstab_busiest_age.to_clipboard()"
   ]
  },
  {
   "cell_type": "markdown",
   "id": "4a63f6d6-b555-41e7-b22a-06b34b902717",
   "metadata": {},
   "source": [
    "## 6. Visualizations of Profiles"
   ]
  },
  {
   "cell_type": "code",
   "execution_count": 190,
   "id": "6cdbe03e-4484-4683-b4fa-a141661567a0",
   "metadata": {},
   "outputs": [
    {
     "data": {
      "text/plain": [
       "Unnamed: 0_x                 int64\n",
       "order_id                     int64\n",
       "user_id                      int64\n",
       "eval_set                    object\n",
       "order_number                 int64\n",
       "orders_day_of_week           int64\n",
       "order_hour_of_day            int64\n",
       "days_since_prior_order     float64\n",
       "product_id                   int64\n",
       "add_to_cart_order            int64\n",
       "reordered                    int64\n",
       "_merge                    category\n",
       "Unnamed: 0_y                 int64\n",
       "product_name                object\n",
       "aisle_id                     int64\n",
       "department_id                int64\n",
       "prices                     float64\n",
       "exist                     category\n",
       "price_range_loc             object\n",
       "busiest_day                 object\n",
       "Busiest_days                object\n",
       "Busiest_period_of_day       object\n",
       "max_order                    int64\n",
       "loyalty_flag                object\n",
       "total_spent                float64\n",
       "spending_flag               object\n",
       "frequency                  float64\n",
       "frequency_flag              object\n",
       "first_name                  object\n",
       "last_name                   object\n",
       "gender                      object\n",
       "state                       object\n",
       "age                          int64\n",
       "date_joined                 object\n",
       "number_of_dependants         int64\n",
       "fam_status                  object\n",
       "income                       int64\n",
       "region                    category\n",
       "excursion_flag            category\n",
       "Age_classification        category\n",
       "income_range              category\n",
       "department_name             object\n",
       "parental_status           category\n",
       "day_of_week                 object\n",
       "Top_5_department            object\n",
       "customer_profile            object\n",
       "dtype: object"
      ]
     },
     "execution_count": 190,
     "metadata": {},
     "output_type": "execute_result"
    }
   ],
   "source": [
    "ords_prods_merge.dtypes"
   ]
  },
  {
   "cell_type": "code",
   "execution_count": 209,
   "id": "366d9570-8396-4010-af50-8353b9484757",
   "metadata": {},
   "outputs": [
    {
     "data": {
      "image/png": "[encoded data removed]",
      "text/plain": [
       "<Figure size 432x288 with 1 Axes>"
      ]
     },
     "metadata": {
      "needs_background": "light"
     },
     "output_type": "display_data"
    }
   ],
   "source": [
    "#Bar chart of number of orders by customer profile\n",
    "\n",
    "customer_single_adult = ords_prods_merge['customer_profile'].value_counts().sort_index().plot.bar(color = ['red', 'blue', 'green'], ylabel = 'Number of Orders (in Millions)')"
   ]
  },
  {
   "cell_type": "code",
   "execution_count": 212,
   "id": "06f76b77-733b-45b3-ab85-289a29c9b123",
   "metadata": {},
   "outputs": [],
   "source": [
    "customer_single_adult.figure.savefig(os.path.join(path, '04 Analysis', 'Visualizations', 'customer_signle_adult.png'))"
   ]
  },
  {
   "cell_type": "code",
   "execution_count": 216,
   "id": "8abc824b-c60d-458d-9214-5976200b00c0",
   "metadata": {},
   "outputs": [
    {
     "data": {
      "image/png": "[encoded data removed]",
      "text/plain": [
       "<Figure size 432x288 with 1 Axes>"
      ]
     },
     "metadata": {
      "needs_background": "light"
     },
     "output_type": "display_data"
    }
   ],
   "source": [
    "#Bar chart of number of orders by customer age \n",
    "\n",
    "customer_age = crosstab_customer_age.plot.bar(stacked = True, ylabel = 'Number of Orders (in Millions)')"
   ]
  },
  {
   "cell_type": "code",
   "execution_count": 217,
   "id": "27808018-392b-4d53-875e-aae80fe13eaf",
   "metadata": {},
   "outputs": [],
   "source": [
    "customer_age.figure.savefig(os.path.join(path, '04 Analysis', 'Visualizations', 'customer_age.png'))"
   ]
  },
  {
   "cell_type": "code",
   "execution_count": 220,
   "id": "2a6b20e8-3f21-40b4-8065-edd14c4aa30e",
   "metadata": {},
   "outputs": [
    {
     "data": {
      "image/png": "[encoded data removed]",
      "text/plain": [
       "<Figure size 432x288 with 1 Axes>"
      ]
     },
     "metadata": {
      "needs_background": "light"
     },
     "output_type": "display_data"
    }
   ],
   "source": [
    "#Create bar chart of customer profile and region\n",
    "\n",
    "customer_region = crosstab_customer_region.plot.bar(ylabel = 'Number of Orders (in Millions)')"
   ]
  },
  {
   "cell_type": "code",
   "execution_count": 221,
   "id": "76ee6e5c-c2c8-455b-aa9f-6298d1d34712",
   "metadata": {},
   "outputs": [],
   "source": [
    "customer_region.figure.savefig(os.path.join(path, '04 Analysis', 'Visualizations', 'customer_region.png'))"
   ]
  },
  {
   "cell_type": "code",
   "execution_count": 223,
   "id": "6f6c3ee5-d96a-4548-a742-1a7f76262249",
   "metadata": {},
   "outputs": [
    {
     "data": {
      "image/png": "[encoded data removed]",
      "text/plain": [
       "<Figure size 432x288 with 1 Axes>"
      ]
     },
     "metadata": {
      "needs_background": "light"
     },
     "output_type": "display_data"
    }
   ],
   "source": [
    "#Bar chart of customer profile and loyalty\n",
    "\n",
    "customer_loyalty = crosstab_customer_loyalty.plot.bar(ylabel = 'Number of Orders (in Millions)')"
   ]
  },
  {
   "cell_type": "code",
   "execution_count": 224,
   "id": "88b123cc-5a09-486d-9819-d71a2608b4c2",
   "metadata": {},
   "outputs": [
    {
     "data": {
      "image/png": "[encoded data removed]",
      "text/plain": [
       "<Figure size 432x288 with 1 Axes>"
      ]
     },
     "metadata": {
      "needs_background": "light"
     },
     "output_type": "display_data"
    }
   ],
   "source": [
    "#Bar chart of customer profile and spending \n",
    "\n",
    "customer_spending = crosstab_customer_spending.plot.bar(ylabel = 'Number of Orders (in Millions)')"
   ]
  },
  {
   "cell_type": "code",
   "execution_count": 225,
   "id": "18ad6166-8117-4182-ab3c-9d22e5fcce86",
   "metadata": {},
   "outputs": [],
   "source": [
    "customer_spending.figure.savefig(os.path.join(path, '04 Analysis', 'Visualizations', 'customer_spending.png'))"
   ]
  },
  {
   "cell_type": "code",
   "execution_count": 243,
   "id": "73311503-fe8c-4e32-a82d-f42110c8b761",
   "metadata": {},
   "outputs": [
    {
     "data": {
      "image/png": "[encoded data removed]",
      "text/plain": [
       "<Figure size 432x288 with 1 Axes>"
      ]
     },
     "metadata": {
      "needs_background": "light"
     },
     "output_type": "display_data"
    }
   ],
   "source": [
    "#Bar chart of busiest period of day and age profile\n",
    "\n",
    "customer_orders = crosstab_busiest_age.plot.bar(stacked = True, color = ['blue', 'green', 'red'], ylabel = 'Number of Orders (in Millions)')"
   ]
  },
  {
   "cell_type": "code",
   "execution_count": 244,
   "id": "45b99d0d-72cf-4c82-a6f5-ddd59c6398db",
   "metadata": {},
   "outputs": [],
   "source": [
    "customer_orders.figure.savefig(os.path.join(path, '04 Analysis', 'Visualizations', 'customer_busiest.png'))"
   ]
  },
  {
   "cell_type": "markdown",
   "id": "08d2f85d-645d-4b8b-8da4-ff2602395a65",
   "metadata": {},
   "source": [
    "## 7."
   ]
  },
  {
   "cell_type": "code",
   "execution_count": 253,
   "id": "5c2cf1d4-4ec0-4659-820b-1b77b9ae66d1",
   "metadata": {},
   "outputs": [],
   "source": [
    "department_aggs = ords_prods_merge.groupby('department_name').agg({'prices': ['mean', 'min', 'max']})"
   ]
  },
  {
   "cell_type": "code",
   "execution_count": 254,
   "id": "47c82ad1-15c9-4e8c-b003-8f6d06dbf855",
   "metadata": {},
   "outputs": [
    {
     "data": {
      "text/html": [
       "<div>\n",
       "<style scoped>\n",
       "    .dataframe tbody tr th:only-of-type {\n",
       "        vertical-align: middle;\n",
       "    }\n",
       "\n",
       "    .dataframe tbody tr th {\n",
       "        vertical-align: top;\n",
       "    }\n",
       "\n",
       "    .dataframe thead tr th {\n",
       "        text-align: left;\n",
       "    }\n",
       "\n",
       "    .dataframe thead tr:last-of-type th {\n",
       "        text-align: right;\n",
       "    }\n",
       "</style>\n",
       "<table border=\"1\" class=\"dataframe\">\n",
       "  <thead>\n",
       "    <tr>\n",
       "      <th></th>\n",
       "      <th colspan=\"3\" halign=\"left\">prices</th>\n",
       "    </tr>\n",
       "    <tr>\n",
       "      <th></th>\n",
       "      <th>mean</th>\n",
       "      <th>min</th>\n",
       "      <th>max</th>\n",
       "    </tr>\n",
       "    <tr>\n",
       "      <th>department_name</th>\n",
       "      <th></th>\n",
       "      <th></th>\n",
       "      <th></th>\n",
       "    </tr>\n",
       "  </thead>\n",
       "  <tbody>\n",
       "    <tr>\n",
       "      <th>alcohol</th>\n",
       "      <td>8.143701</td>\n",
       "      <td>1.0</td>\n",
       "      <td>15.0</td>\n",
       "    </tr>\n",
       "    <tr>\n",
       "      <th>babies</th>\n",
       "      <td>7.638380</td>\n",
       "      <td>1.0</td>\n",
       "      <td>15.0</td>\n",
       "    </tr>\n",
       "    <tr>\n",
       "      <th>bakery</th>\n",
       "      <td>7.853809</td>\n",
       "      <td>1.0</td>\n",
       "      <td>15.0</td>\n",
       "    </tr>\n",
       "    <tr>\n",
       "      <th>beverages</th>\n",
       "      <td>7.680502</td>\n",
       "      <td>1.0</td>\n",
       "      <td>15.0</td>\n",
       "    </tr>\n",
       "    <tr>\n",
       "      <th>breakfast</th>\n",
       "      <td>8.028963</td>\n",
       "      <td>1.0</td>\n",
       "      <td>14.9</td>\n",
       "    </tr>\n",
       "    <tr>\n",
       "      <th>bulk</th>\n",
       "      <td>8.348960</td>\n",
       "      <td>1.4</td>\n",
       "      <td>14.1</td>\n",
       "    </tr>\n",
       "    <tr>\n",
       "      <th>canned goods</th>\n",
       "      <td>7.539976</td>\n",
       "      <td>1.0</td>\n",
       "      <td>15.0</td>\n",
       "    </tr>\n",
       "    <tr>\n",
       "      <th>dairy eggs</th>\n",
       "      <td>33.479533</td>\n",
       "      <td>1.0</td>\n",
       "      <td>99999.0</td>\n",
       "    </tr>\n",
       "    <tr>\n",
       "      <th>deli</th>\n",
       "      <td>7.778701</td>\n",
       "      <td>1.0</td>\n",
       "      <td>15.0</td>\n",
       "    </tr>\n",
       "    <tr>\n",
       "      <th>dry goods pasta</th>\n",
       "      <td>7.350283</td>\n",
       "      <td>1.0</td>\n",
       "      <td>15.0</td>\n",
       "    </tr>\n",
       "    <tr>\n",
       "      <th>frozen</th>\n",
       "      <td>7.736553</td>\n",
       "      <td>1.0</td>\n",
       "      <td>15.0</td>\n",
       "    </tr>\n",
       "    <tr>\n",
       "      <th>household</th>\n",
       "      <td>7.384058</td>\n",
       "      <td>1.0</td>\n",
       "      <td>15.0</td>\n",
       "    </tr>\n",
       "    <tr>\n",
       "      <th>international</th>\n",
       "      <td>7.682264</td>\n",
       "      <td>1.0</td>\n",
       "      <td>15.0</td>\n",
       "    </tr>\n",
       "    <tr>\n",
       "      <th>meat seafood</th>\n",
       "      <td>16.294443</td>\n",
       "      <td>8.0</td>\n",
       "      <td>25.0</td>\n",
       "    </tr>\n",
       "    <tr>\n",
       "      <th>missing</th>\n",
       "      <td>8.660716</td>\n",
       "      <td>1.0</td>\n",
       "      <td>15.0</td>\n",
       "    </tr>\n",
       "    <tr>\n",
       "      <th>other</th>\n",
       "      <td>6.990934</td>\n",
       "      <td>1.1</td>\n",
       "      <td>15.0</td>\n",
       "    </tr>\n",
       "    <tr>\n",
       "      <th>pantry</th>\n",
       "      <td>8.009443</td>\n",
       "      <td>1.0</td>\n",
       "      <td>20.0</td>\n",
       "    </tr>\n",
       "    <tr>\n",
       "      <th>personal care</th>\n",
       "      <td>7.996769</td>\n",
       "      <td>1.0</td>\n",
       "      <td>15.0</td>\n",
       "    </tr>\n",
       "    <tr>\n",
       "      <th>pets</th>\n",
       "      <td>7.889070</td>\n",
       "      <td>1.0</td>\n",
       "      <td>15.0</td>\n",
       "    </tr>\n",
       "    <tr>\n",
       "      <th>produce</th>\n",
       "      <td>7.981708</td>\n",
       "      <td>1.0</td>\n",
       "      <td>15.0</td>\n",
       "    </tr>\n",
       "    <tr>\n",
       "      <th>snacks</th>\n",
       "      <td>4.275437</td>\n",
       "      <td>1.6</td>\n",
       "      <td>7.0</td>\n",
       "    </tr>\n",
       "  </tbody>\n",
       "</table>\n",
       "</div>"
      ],
      "text/plain": [
       "                    prices              \n",
       "                      mean  min      max\n",
       "department_name                         \n",
       "alcohol           8.143701  1.0     15.0\n",
       "babies            7.638380  1.0     15.0\n",
       "bakery            7.853809  1.0     15.0\n",
       "beverages         7.680502  1.0     15.0\n",
       "breakfast         8.028963  1.0     14.9\n",
       "bulk              8.348960  1.4     14.1\n",
       "canned goods      7.539976  1.0     15.0\n",
       "dairy eggs       33.479533  1.0  99999.0\n",
       "deli              7.778701  1.0     15.0\n",
       "dry goods pasta   7.350283  1.0     15.0\n",
       "frozen            7.736553  1.0     15.0\n",
       "household         7.384058  1.0     15.0\n",
       "international     7.682264  1.0     15.0\n",
       "meat seafood     16.294443  8.0     25.0\n",
       "missing           8.660716  1.0     15.0\n",
       "other             6.990934  1.1     15.0\n",
       "pantry            8.009443  1.0     20.0\n",
       "personal care     7.996769  1.0     15.0\n",
       "pets              7.889070  1.0     15.0\n",
       "produce           7.981708  1.0     15.0\n",
       "snacks            4.275437  1.6      7.0"
      ]
     },
     "execution_count": 254,
     "metadata": {},
     "output_type": "execute_result"
    }
   ],
   "source": [
    "department_aggs"
   ]
  },
  {
   "cell_type": "code",
   "execution_count": 256,
   "id": "3619a8b5-5bec-4fc7-b963-dbaf635b721c",
   "metadata": {},
   "outputs": [],
   "source": [
    "age_price_agg = ords_prods_merge.groupby('Age_classification').agg({'prices': ['mean', 'min', 'max']})"
   ]
  },
  {
   "cell_type": "code",
   "execution_count": 258,
   "id": "a05f605f-1247-4f98-8f12-193e2d428cda",
   "metadata": {},
   "outputs": [
    {
     "data": {
      "text/html": [
       "<div>\n",
       "<style scoped>\n",
       "    .dataframe tbody tr th:only-of-type {\n",
       "        vertical-align: middle;\n",
       "    }\n",
       "\n",
       "    .dataframe tbody tr th {\n",
       "        vertical-align: top;\n",
       "    }\n",
       "\n",
       "    .dataframe thead tr th {\n",
       "        text-align: left;\n",
       "    }\n",
       "\n",
       "    .dataframe thead tr:last-of-type th {\n",
       "        text-align: right;\n",
       "    }\n",
       "</style>\n",
       "<table border=\"1\" class=\"dataframe\">\n",
       "  <thead>\n",
       "    <tr>\n",
       "      <th></th>\n",
       "      <th colspan=\"3\" halign=\"left\">prices</th>\n",
       "    </tr>\n",
       "    <tr>\n",
       "      <th></th>\n",
       "      <th>mean</th>\n",
       "      <th>min</th>\n",
       "      <th>max</th>\n",
       "    </tr>\n",
       "    <tr>\n",
       "      <th>Age_classification</th>\n",
       "      <th></th>\n",
       "      <th></th>\n",
       "      <th></th>\n",
       "    </tr>\n",
       "  </thead>\n",
       "  <tbody>\n",
       "    <tr>\n",
       "      <th>25-34</th>\n",
       "      <td>12.000675</td>\n",
       "      <td>1.0</td>\n",
       "      <td>99999.0</td>\n",
       "    </tr>\n",
       "    <tr>\n",
       "      <th>35-44</th>\n",
       "      <td>11.556641</td>\n",
       "      <td>1.0</td>\n",
       "      <td>99999.0</td>\n",
       "    </tr>\n",
       "    <tr>\n",
       "      <th>45-54</th>\n",
       "      <td>12.063306</td>\n",
       "      <td>1.0</td>\n",
       "      <td>99999.0</td>\n",
       "    </tr>\n",
       "    <tr>\n",
       "      <th>55-64</th>\n",
       "      <td>12.350254</td>\n",
       "      <td>1.0</td>\n",
       "      <td>99999.0</td>\n",
       "    </tr>\n",
       "    <tr>\n",
       "      <th>65-74</th>\n",
       "      <td>11.438702</td>\n",
       "      <td>1.0</td>\n",
       "      <td>99999.0</td>\n",
       "    </tr>\n",
       "    <tr>\n",
       "      <th>74-81</th>\n",
       "      <td>12.231694</td>\n",
       "      <td>1.0</td>\n",
       "      <td>99999.0</td>\n",
       "    </tr>\n",
       "    <tr>\n",
       "      <th>&lt;24</th>\n",
       "      <td>12.225207</td>\n",
       "      <td>1.0</td>\n",
       "      <td>99999.0</td>\n",
       "    </tr>\n",
       "  </tbody>\n",
       "</table>\n",
       "</div>"
      ],
      "text/plain": [
       "                       prices              \n",
       "                         mean  min      max\n",
       "Age_classification                         \n",
       "25-34               12.000675  1.0  99999.0\n",
       "35-44               11.556641  1.0  99999.0\n",
       "45-54               12.063306  1.0  99999.0\n",
       "55-64               12.350254  1.0  99999.0\n",
       "65-74               11.438702  1.0  99999.0\n",
       "74-81               12.231694  1.0  99999.0\n",
       "<24                 12.225207  1.0  99999.0"
      ]
     },
     "execution_count": 258,
     "metadata": {},
     "output_type": "execute_result"
    }
   ],
   "source": [
    "age_price_agg"
   ]
  },
  {
   "cell_type": "code",
   "execution_count": 259,
   "id": "84dfe12c-03e2-4b96-a3ec-dba1d1972ae7",
   "metadata": {},
   "outputs": [],
   "source": [
    "income_range_agg = ords_prods_merge.groupby('income_range').agg({'prices': ['mean', 'max', 'min']})"
   ]
  },
  {
   "cell_type": "code",
   "execution_count": 260,
   "id": "0558eeb0-1988-4b52-8572-4296d1864abd",
   "metadata": {},
   "outputs": [
    {
     "data": {
      "text/html": [
       "<div>\n",
       "<style scoped>\n",
       "    .dataframe tbody tr th:only-of-type {\n",
       "        vertical-align: middle;\n",
       "    }\n",
       "\n",
       "    .dataframe tbody tr th {\n",
       "        vertical-align: top;\n",
       "    }\n",
       "\n",
       "    .dataframe thead tr th {\n",
       "        text-align: left;\n",
       "    }\n",
       "\n",
       "    .dataframe thead tr:last-of-type th {\n",
       "        text-align: right;\n",
       "    }\n",
       "</style>\n",
       "<table border=\"1\" class=\"dataframe\">\n",
       "  <thead>\n",
       "    <tr>\n",
       "      <th></th>\n",
       "      <th colspan=\"3\" halign=\"left\">prices</th>\n",
       "    </tr>\n",
       "    <tr>\n",
       "      <th></th>\n",
       "      <th>mean</th>\n",
       "      <th>max</th>\n",
       "      <th>min</th>\n",
       "    </tr>\n",
       "    <tr>\n",
       "      <th>income_range</th>\n",
       "      <th></th>\n",
       "      <th></th>\n",
       "      <th></th>\n",
       "    </tr>\n",
       "  </thead>\n",
       "  <tbody>\n",
       "    <tr>\n",
       "      <th>025000-040000</th>\n",
       "      <td>6.495264</td>\n",
       "      <td>25.0</td>\n",
       "      <td>1.0</td>\n",
       "    </tr>\n",
       "    <tr>\n",
       "      <th>040000-099000</th>\n",
       "      <td>8.277665</td>\n",
       "      <td>99999.0</td>\n",
       "      <td>1.0</td>\n",
       "    </tr>\n",
       "    <tr>\n",
       "      <th>099000-199000</th>\n",
       "      <td>12.058429</td>\n",
       "      <td>99999.0</td>\n",
       "      <td>1.0</td>\n",
       "    </tr>\n",
       "    <tr>\n",
       "      <th>199000-299000</th>\n",
       "      <td>260.982235</td>\n",
       "      <td>99999.0</td>\n",
       "      <td>1.0</td>\n",
       "    </tr>\n",
       "    <tr>\n",
       "      <th>299000-399000</th>\n",
       "      <td>307.868690</td>\n",
       "      <td>99999.0</td>\n",
       "      <td>1.0</td>\n",
       "    </tr>\n",
       "    <tr>\n",
       "      <th>399000-499000</th>\n",
       "      <td>262.410869</td>\n",
       "      <td>99999.0</td>\n",
       "      <td>1.0</td>\n",
       "    </tr>\n",
       "    <tr>\n",
       "      <th>523000+</th>\n",
       "      <td>145.091151</td>\n",
       "      <td>99999.0</td>\n",
       "      <td>1.0</td>\n",
       "    </tr>\n",
       "    <tr>\n",
       "      <th>other</th>\n",
       "      <td>273.492833</td>\n",
       "      <td>99999.0</td>\n",
       "      <td>1.0</td>\n",
       "    </tr>\n",
       "  </tbody>\n",
       "</table>\n",
       "</div>"
      ],
      "text/plain": [
       "                   prices              \n",
       "                     mean      max  min\n",
       "income_range                           \n",
       "025000-040000    6.495264     25.0  1.0\n",
       "040000-099000    8.277665  99999.0  1.0\n",
       "099000-199000   12.058429  99999.0  1.0\n",
       "199000-299000  260.982235  99999.0  1.0\n",
       "299000-399000  307.868690  99999.0  1.0\n",
       "399000-499000  262.410869  99999.0  1.0\n",
       "523000+        145.091151  99999.0  1.0\n",
       "other          273.492833  99999.0  1.0"
      ]
     },
     "execution_count": 260,
     "metadata": {},
     "output_type": "execute_result"
    }
   ],
   "source": [
    "income_range_agg"
   ]
  },
  {
   "cell_type": "code",
   "execution_count": 261,
   "id": "959f4ae9-1004-4c32-b7ad-d2fb31c80424",
   "metadata": {},
   "outputs": [],
   "source": [
    "parent_agg = ords_prods_merge.groupby('parental_status').agg({'prices': ['mean', 'min', 'max']})"
   ]
  },
  {
   "cell_type": "code",
   "execution_count": 262,
   "id": "4a72f402-8e23-485c-979e-12192f763435",
   "metadata": {},
   "outputs": [
    {
     "data": {
      "text/html": [
       "<div>\n",
       "<style scoped>\n",
       "    .dataframe tbody tr th:only-of-type {\n",
       "        vertical-align: middle;\n",
       "    }\n",
       "\n",
       "    .dataframe tbody tr th {\n",
       "        vertical-align: top;\n",
       "    }\n",
       "\n",
       "    .dataframe thead tr th {\n",
       "        text-align: left;\n",
       "    }\n",
       "\n",
       "    .dataframe thead tr:last-of-type th {\n",
       "        text-align: right;\n",
       "    }\n",
       "</style>\n",
       "<table border=\"1\" class=\"dataframe\">\n",
       "  <thead>\n",
       "    <tr>\n",
       "      <th></th>\n",
       "      <th colspan=\"3\" halign=\"left\">prices</th>\n",
       "    </tr>\n",
       "    <tr>\n",
       "      <th></th>\n",
       "      <th>mean</th>\n",
       "      <th>min</th>\n",
       "      <th>max</th>\n",
       "    </tr>\n",
       "    <tr>\n",
       "      <th>parental_status</th>\n",
       "      <th></th>\n",
       "      <th></th>\n",
       "      <th></th>\n",
       "    </tr>\n",
       "  </thead>\n",
       "  <tbody>\n",
       "    <tr>\n",
       "      <th>non parent</th>\n",
       "      <td>12.129243</td>\n",
       "      <td>1.0</td>\n",
       "      <td>99999.0</td>\n",
       "    </tr>\n",
       "    <tr>\n",
       "      <th>parent</th>\n",
       "      <td>11.930584</td>\n",
       "      <td>1.0</td>\n",
       "      <td>99999.0</td>\n",
       "    </tr>\n",
       "  </tbody>\n",
       "</table>\n",
       "</div>"
      ],
      "text/plain": [
       "                    prices              \n",
       "                      mean  min      max\n",
       "parental_status                         \n",
       "non parent       12.129243  1.0  99999.0\n",
       "parent           11.930584  1.0  99999.0"
      ]
     },
     "execution_count": 262,
     "metadata": {},
     "output_type": "execute_result"
    }
   ],
   "source": [
    "parent_agg"
   ]
  },
  {
   "cell_type": "code",
   "execution_count": 263,
   "id": "ea745774-501d-49cd-99a7-8cc670a12a29",
   "metadata": {},
   "outputs": [],
   "source": [
    "customer_profile_agg = ords_prods_merge.groupby('customer_profile').agg({'prices': ['mean', 'min', 'max']})"
   ]
  },
  {
   "cell_type": "code",
   "execution_count": 264,
   "id": "e488c65f-476b-4009-9fc9-105c3b18a52f",
   "metadata": {},
   "outputs": [
    {
     "data": {
      "text/html": [
       "<div>\n",
       "<style scoped>\n",
       "    .dataframe tbody tr th:only-of-type {\n",
       "        vertical-align: middle;\n",
       "    }\n",
       "\n",
       "    .dataframe tbody tr th {\n",
       "        vertical-align: top;\n",
       "    }\n",
       "\n",
       "    .dataframe thead tr th {\n",
       "        text-align: left;\n",
       "    }\n",
       "\n",
       "    .dataframe thead tr:last-of-type th {\n",
       "        text-align: right;\n",
       "    }\n",
       "</style>\n",
       "<table border=\"1\" class=\"dataframe\">\n",
       "  <thead>\n",
       "    <tr>\n",
       "      <th></th>\n",
       "      <th colspan=\"3\" halign=\"left\">prices</th>\n",
       "    </tr>\n",
       "    <tr>\n",
       "      <th></th>\n",
       "      <th>mean</th>\n",
       "      <th>min</th>\n",
       "      <th>max</th>\n",
       "    </tr>\n",
       "    <tr>\n",
       "      <th>customer_profile</th>\n",
       "      <th></th>\n",
       "      <th></th>\n",
       "      <th></th>\n",
       "    </tr>\n",
       "  </thead>\n",
       "  <tbody>\n",
       "    <tr>\n",
       "      <th>Others</th>\n",
       "      <td>11.952173</td>\n",
       "      <td>1.0</td>\n",
       "      <td>99999.0</td>\n",
       "    </tr>\n",
       "    <tr>\n",
       "      <th>Single adult</th>\n",
       "      <td>13.114809</td>\n",
       "      <td>1.0</td>\n",
       "      <td>99999.0</td>\n",
       "    </tr>\n",
       "    <tr>\n",
       "      <th>Young parent</th>\n",
       "      <td>11.870059</td>\n",
       "      <td>1.0</td>\n",
       "      <td>99999.0</td>\n",
       "    </tr>\n",
       "  </tbody>\n",
       "</table>\n",
       "</div>"
      ],
      "text/plain": [
       "                     prices              \n",
       "                       mean  min      max\n",
       "customer_profile                         \n",
       "Others            11.952173  1.0  99999.0\n",
       "Single adult      13.114809  1.0  99999.0\n",
       "Young parent      11.870059  1.0  99999.0"
      ]
     },
     "execution_count": 264,
     "metadata": {},
     "output_type": "execute_result"
    }
   ],
   "source": [
    "customer_profile_agg"
   ]
  },
  {
   "cell_type": "code",
   "execution_count": 265,
   "id": "8dfa21a7-c7d8-445c-bf84-f1d4bf8d8b48",
   "metadata": {},
   "outputs": [],
   "source": [
    "customer_days_agg = ords_prods_merge.groupby('customer_profile').agg({'days_since_prior_order': ['mean', 'min', 'max']})"
   ]
  },
  {
   "cell_type": "code",
   "execution_count": 266,
   "id": "d298a1d9-10e5-4bc3-a612-1e2b74b4c453",
   "metadata": {},
   "outputs": [
    {
     "data": {
      "text/html": [
       "<div>\n",
       "<style scoped>\n",
       "    .dataframe tbody tr th:only-of-type {\n",
       "        vertical-align: middle;\n",
       "    }\n",
       "\n",
       "    .dataframe tbody tr th {\n",
       "        vertical-align: top;\n",
       "    }\n",
       "\n",
       "    .dataframe thead tr th {\n",
       "        text-align: left;\n",
       "    }\n",
       "\n",
       "    .dataframe thead tr:last-of-type th {\n",
       "        text-align: right;\n",
       "    }\n",
       "</style>\n",
       "<table border=\"1\" class=\"dataframe\">\n",
       "  <thead>\n",
       "    <tr>\n",
       "      <th></th>\n",
       "      <th colspan=\"3\" halign=\"left\">days_since_prior_order</th>\n",
       "    </tr>\n",
       "    <tr>\n",
       "      <th></th>\n",
       "      <th>mean</th>\n",
       "      <th>min</th>\n",
       "      <th>max</th>\n",
       "    </tr>\n",
       "    <tr>\n",
       "      <th>customer_profile</th>\n",
       "      <th></th>\n",
       "      <th></th>\n",
       "      <th></th>\n",
       "    </tr>\n",
       "  </thead>\n",
       "  <tbody>\n",
       "    <tr>\n",
       "      <th>Others</th>\n",
       "      <td>11.106026</td>\n",
       "      <td>0.0</td>\n",
       "      <td>30.0</td>\n",
       "    </tr>\n",
       "    <tr>\n",
       "      <th>Single adult</th>\n",
       "      <td>11.239507</td>\n",
       "      <td>0.0</td>\n",
       "      <td>30.0</td>\n",
       "    </tr>\n",
       "    <tr>\n",
       "      <th>Young parent</th>\n",
       "      <td>11.041700</td>\n",
       "      <td>0.0</td>\n",
       "      <td>30.0</td>\n",
       "    </tr>\n",
       "  </tbody>\n",
       "</table>\n",
       "</div>"
      ],
      "text/plain": [
       "                 days_since_prior_order           \n",
       "                                   mean  min   max\n",
       "customer_profile                                  \n",
       "Others                        11.106026  0.0  30.0\n",
       "Single adult                  11.239507  0.0  30.0\n",
       "Young parent                  11.041700  0.0  30.0"
      ]
     },
     "execution_count": 266,
     "metadata": {},
     "output_type": "execute_result"
    }
   ],
   "source": [
    "customer_days_agg"
   ]
  },
  {
   "cell_type": "code",
   "execution_count": 268,
   "id": "9de85924-e33b-4784-a358-5a0f5e8e1e77",
   "metadata": {},
   "outputs": [],
   "source": [
    "customer_max_agg = ords_prods_merge.groupby('customer_profile').agg({'max_order': ['mean', 'min', 'max']})"
   ]
  },
  {
   "cell_type": "code",
   "execution_count": 269,
   "id": "282ba764-caea-4ca1-aff7-a89fa768286e",
   "metadata": {},
   "outputs": [
    {
     "data": {
      "text/html": [
       "<div>\n",
       "<style scoped>\n",
       "    .dataframe tbody tr th:only-of-type {\n",
       "        vertical-align: middle;\n",
       "    }\n",
       "\n",
       "    .dataframe tbody tr th {\n",
       "        vertical-align: top;\n",
       "    }\n",
       "\n",
       "    .dataframe thead tr th {\n",
       "        text-align: left;\n",
       "    }\n",
       "\n",
       "    .dataframe thead tr:last-of-type th {\n",
       "        text-align: right;\n",
       "    }\n",
       "</style>\n",
       "<table border=\"1\" class=\"dataframe\">\n",
       "  <thead>\n",
       "    <tr>\n",
       "      <th></th>\n",
       "      <th colspan=\"3\" halign=\"left\">max_order</th>\n",
       "    </tr>\n",
       "    <tr>\n",
       "      <th></th>\n",
       "      <th>mean</th>\n",
       "      <th>min</th>\n",
       "      <th>max</th>\n",
       "    </tr>\n",
       "    <tr>\n",
       "      <th>customer_profile</th>\n",
       "      <th></th>\n",
       "      <th></th>\n",
       "      <th></th>\n",
       "    </tr>\n",
       "  </thead>\n",
       "  <tbody>\n",
       "    <tr>\n",
       "      <th>Others</th>\n",
       "      <td>33.036263</td>\n",
       "      <td>1</td>\n",
       "      <td>99</td>\n",
       "    </tr>\n",
       "    <tr>\n",
       "      <th>Single adult</th>\n",
       "      <td>32.721565</td>\n",
       "      <td>3</td>\n",
       "      <td>99</td>\n",
       "    </tr>\n",
       "    <tr>\n",
       "      <th>Young parent</th>\n",
       "      <td>33.308415</td>\n",
       "      <td>3</td>\n",
       "      <td>99</td>\n",
       "    </tr>\n",
       "  </tbody>\n",
       "</table>\n",
       "</div>"
      ],
      "text/plain": [
       "                  max_order        \n",
       "                       mean min max\n",
       "customer_profile                   \n",
       "Others            33.036263   1  99\n",
       "Single adult      32.721565   3  99\n",
       "Young parent      33.308415   3  99"
      ]
     },
     "execution_count": 269,
     "metadata": {},
     "output_type": "execute_result"
    }
   ],
   "source": [
    "customer_max_agg"
   ]
  },
  {
   "cell_type": "markdown",
   "id": "e7e7e7d5-620c-4662-a96a-9fc32b9d3ded",
   "metadata": {},
   "source": [
    "## 8. and 9."
   ]
  },
  {
   "cell_type": "code",
   "execution_count": 270,
   "id": "ce71b5f0-71c8-4448-a1ac-80a464b2e4bd",
   "metadata": {},
   "outputs": [],
   "source": [
    "#Create crosstab with customer profile and region\n",
    "\n",
    "crosstab_cust_pro_region = pd.crosstab(ords_prods_merge['customer_profile'], ords_prods_merge['region'], dropna = False)"
   ]
  },
  {
   "cell_type": "code",
   "execution_count": 271,
   "id": "e6e3a924-16d2-4e86-8017-e881b24b538c",
   "metadata": {},
   "outputs": [
    {
     "data": {
      "text/html": [
       "<div>\n",
       "<style scoped>\n",
       "    .dataframe tbody tr th:only-of-type {\n",
       "        vertical-align: middle;\n",
       "    }\n",
       "\n",
       "    .dataframe tbody tr th {\n",
       "        vertical-align: top;\n",
       "    }\n",
       "\n",
       "    .dataframe thead th {\n",
       "        text-align: right;\n",
       "    }\n",
       "</style>\n",
       "<table border=\"1\" class=\"dataframe\">\n",
       "  <thead>\n",
       "    <tr style=\"text-align: right;\">\n",
       "      <th>region</th>\n",
       "      <th>Midwest</th>\n",
       "      <th>Northeast</th>\n",
       "      <th>South</th>\n",
       "      <th>West</th>\n",
       "    </tr>\n",
       "    <tr>\n",
       "      <th>customer_profile</th>\n",
       "      <th></th>\n",
       "      <th></th>\n",
       "      <th></th>\n",
       "      <th></th>\n",
       "    </tr>\n",
       "  </thead>\n",
       "  <tbody>\n",
       "    <tr>\n",
       "      <th>Others</th>\n",
       "      <td>6658248</td>\n",
       "      <td>5011966</td>\n",
       "      <td>8858513</td>\n",
       "      <td>7832522</td>\n",
       "    </tr>\n",
       "    <tr>\n",
       "      <th>Single adult</th>\n",
       "      <td>223266</td>\n",
       "      <td>179762</td>\n",
       "      <td>326934</td>\n",
       "      <td>267080</td>\n",
       "    </tr>\n",
       "    <tr>\n",
       "      <th>Young parent</th>\n",
       "      <td>715811</td>\n",
       "      <td>531008</td>\n",
       "      <td>969414</td>\n",
       "      <td>830335</td>\n",
       "    </tr>\n",
       "  </tbody>\n",
       "</table>\n",
       "</div>"
      ],
      "text/plain": [
       "region            Midwest  Northeast    South     West\n",
       "customer_profile                                      \n",
       "Others            6658248    5011966  8858513  7832522\n",
       "Single adult       223266     179762   326934   267080\n",
       "Young parent       715811     531008   969414   830335"
      ]
     },
     "execution_count": 271,
     "metadata": {},
     "output_type": "execute_result"
    }
   ],
   "source": [
    "crosstab_cust_pro_region"
   ]
  },
  {
   "cell_type": "code",
   "execution_count": 272,
   "id": "9c2593a8-cff6-4cef-b17f-68c2e3099bfe",
   "metadata": {},
   "outputs": [],
   "source": [
    "crosstab_cust_pro_region.to_clipboard()"
   ]
  },
  {
   "cell_type": "code",
   "execution_count": 291,
   "id": "ec78ea91-8b2e-4f13-9fd5-f3c76e223dac",
   "metadata": {},
   "outputs": [
    {
     "data": {
      "image/png": "[encoded data removed]",
      "text/plain": [
       "<Figure size 432x288 with 1 Axes>"
      ]
     },
     "metadata": {
      "needs_background": "light"
     },
     "output_type": "display_data"
    }
   ],
   "source": [
    "#Create bar chart\n",
    "\n",
    "customer_pro_region = crosstab_cust_pro_region.plot.bar(ylabel = 'Number of Orders (in Millions)')"
   ]
  },
  {
   "cell_type": "code",
   "execution_count": 292,
   "id": "0cf371a8-13be-431e-be9c-82380e1cfe8a",
   "metadata": {},
   "outputs": [],
   "source": [
    "customer_pro_region.figure.savefig(os.path.join(path, '04 Analysis', 'Visualizations', 'customer_pro_region.png'))"
   ]
  },
  {
   "cell_type": "code",
   "execution_count": 273,
   "id": "7486d289-99f6-4a96-abb1-dea8511093ad",
   "metadata": {},
   "outputs": [],
   "source": [
    "#Create crosstab with customer profile and top 5\n",
    "\n",
    "crosstab_customer_top5 = pd.crosstab(ords_prods_merge['customer_profile'], ords_prods_merge['Top_5_department'], dropna = False)"
   ]
  },
  {
   "cell_type": "code",
   "execution_count": 274,
   "id": "3abb55a2-764d-4619-8673-47b16a5fafca",
   "metadata": {},
   "outputs": [
    {
     "data": {
      "text/html": [
       "<div>\n",
       "<style scoped>\n",
       "    .dataframe tbody tr th:only-of-type {\n",
       "        vertical-align: middle;\n",
       "    }\n",
       "\n",
       "    .dataframe tbody tr th {\n",
       "        vertical-align: top;\n",
       "    }\n",
       "\n",
       "    .dataframe thead th {\n",
       "        text-align: right;\n",
       "    }\n",
       "</style>\n",
       "<table border=\"1\" class=\"dataframe\">\n",
       "  <thead>\n",
       "    <tr style=\"text-align: right;\">\n",
       "      <th>Top_5_department</th>\n",
       "      <th>beverages</th>\n",
       "      <th>dairy eggs</th>\n",
       "      <th>frozen</th>\n",
       "      <th>produce</th>\n",
       "      <th>snacks</th>\n",
       "    </tr>\n",
       "    <tr>\n",
       "      <th>customer_profile</th>\n",
       "      <th></th>\n",
       "      <th></th>\n",
       "      <th></th>\n",
       "      <th></th>\n",
       "      <th></th>\n",
       "    </tr>\n",
       "  </thead>\n",
       "  <tbody>\n",
       "    <tr>\n",
       "      <th>Others</th>\n",
       "      <td>2355036</td>\n",
       "      <td>4723887</td>\n",
       "      <td>1954768</td>\n",
       "      <td>8301687</td>\n",
       "      <td>2526902</td>\n",
       "    </tr>\n",
       "    <tr>\n",
       "      <th>Single adult</th>\n",
       "      <td>83859</td>\n",
       "      <td>164990</td>\n",
       "      <td>67006</td>\n",
       "      <td>293951</td>\n",
       "      <td>88958</td>\n",
       "    </tr>\n",
       "    <tr>\n",
       "      <th>Young parent</th>\n",
       "      <td>249228</td>\n",
       "      <td>509870</td>\n",
       "      <td>212969</td>\n",
       "      <td>883653</td>\n",
       "      <td>271690</td>\n",
       "    </tr>\n",
       "  </tbody>\n",
       "</table>\n",
       "</div>"
      ],
      "text/plain": [
       "Top_5_department  beverages  dairy eggs   frozen  produce   snacks\n",
       "customer_profile                                                  \n",
       "Others              2355036     4723887  1954768  8301687  2526902\n",
       "Single adult          83859      164990    67006   293951    88958\n",
       "Young parent         249228      509870   212969   883653   271690"
      ]
     },
     "execution_count": 274,
     "metadata": {},
     "output_type": "execute_result"
    }
   ],
   "source": [
    "crosstab_customer_top5"
   ]
  },
  {
   "cell_type": "code",
   "execution_count": 275,
   "id": "ae8e5277-4a4a-4f45-b650-96ce7c8f8627",
   "metadata": {},
   "outputs": [],
   "source": [
    "crosstab_customer_top5.to_clipboard()"
   ]
  },
  {
   "cell_type": "code",
   "execution_count": null,
   "id": "75a7ceaf-a6c6-4936-b37e-8982c75158bd",
   "metadata": {},
   "outputs": [],
   "source": []
  },
  {
   "cell_type": "code",
   "execution_count": 276,
   "id": "d274ae2f-201a-4b23-af76-68feac4a4068",
   "metadata": {},
   "outputs": [],
   "source": [
    "#Create crosstab with customer profile and top 5\n",
    "\n",
    "crosstab_top5_customer = pd.crosstab(ords_prods_merge['Top_5_department'], ords_prods_merge['customer_profile'], dropna = False)"
   ]
  },
  {
   "cell_type": "code",
   "execution_count": 277,
   "id": "2eec4369-4f08-498c-b8a2-7ca93cc94fa2",
   "metadata": {},
   "outputs": [
    {
     "data": {
      "text/html": [
       "<div>\n",
       "<style scoped>\n",
       "    .dataframe tbody tr th:only-of-type {\n",
       "        vertical-align: middle;\n",
       "    }\n",
       "\n",
       "    .dataframe tbody tr th {\n",
       "        vertical-align: top;\n",
       "    }\n",
       "\n",
       "    .dataframe thead th {\n",
       "        text-align: right;\n",
       "    }\n",
       "</style>\n",
       "<table border=\"1\" class=\"dataframe\">\n",
       "  <thead>\n",
       "    <tr style=\"text-align: right;\">\n",
       "      <th>customer_profile</th>\n",
       "      <th>Others</th>\n",
       "      <th>Single adult</th>\n",
       "      <th>Young parent</th>\n",
       "    </tr>\n",
       "    <tr>\n",
       "      <th>Top_5_department</th>\n",
       "      <th></th>\n",
       "      <th></th>\n",
       "      <th></th>\n",
       "    </tr>\n",
       "  </thead>\n",
       "  <tbody>\n",
       "    <tr>\n",
       "      <th>beverages</th>\n",
       "      <td>2355036</td>\n",
       "      <td>83859</td>\n",
       "      <td>249228</td>\n",
       "    </tr>\n",
       "    <tr>\n",
       "      <th>dairy eggs</th>\n",
       "      <td>4723887</td>\n",
       "      <td>164990</td>\n",
       "      <td>509870</td>\n",
       "    </tr>\n",
       "    <tr>\n",
       "      <th>frozen</th>\n",
       "      <td>1954768</td>\n",
       "      <td>67006</td>\n",
       "      <td>212969</td>\n",
       "    </tr>\n",
       "    <tr>\n",
       "      <th>produce</th>\n",
       "      <td>8301687</td>\n",
       "      <td>293951</td>\n",
       "      <td>883653</td>\n",
       "    </tr>\n",
       "    <tr>\n",
       "      <th>snacks</th>\n",
       "      <td>2526902</td>\n",
       "      <td>88958</td>\n",
       "      <td>271690</td>\n",
       "    </tr>\n",
       "  </tbody>\n",
       "</table>\n",
       "</div>"
      ],
      "text/plain": [
       "customer_profile   Others  Single adult  Young parent\n",
       "Top_5_department                                     \n",
       "beverages         2355036         83859        249228\n",
       "dairy eggs        4723887        164990        509870\n",
       "frozen            1954768         67006        212969\n",
       "produce           8301687        293951        883653\n",
       "snacks            2526902         88958        271690"
      ]
     },
     "execution_count": 277,
     "metadata": {},
     "output_type": "execute_result"
    }
   ],
   "source": [
    "crosstab_top5_customer"
   ]
  },
  {
   "cell_type": "code",
   "execution_count": 278,
   "id": "2f547aea-f486-4c5e-99e9-9cb81ca06d75",
   "metadata": {},
   "outputs": [],
   "source": [
    "crosstab_top5_customer.to_clipboard()"
   ]
  },
  {
   "cell_type": "code",
   "execution_count": 284,
   "id": "164fcb00-67f3-4411-9c44-fc85412ec0fd",
   "metadata": {},
   "outputs": [],
   "source": [
    "#Create 100% crosstab for chart\n",
    "\n",
    "crosstab_customer_dept = crosstab_top5_customer.div(crosstab_top5_customer.sum(axis=1), axis=0)*100"
   ]
  },
  {
   "cell_type": "code",
   "execution_count": 283,
   "id": "1d0f0657-289c-4bd9-afe5-dac72d4aa2f1",
   "metadata": {},
   "outputs": [
    {
     "data": {
      "text/html": [
       "<div>\n",
       "<style scoped>\n",
       "    .dataframe tbody tr th:only-of-type {\n",
       "        vertical-align: middle;\n",
       "    }\n",
       "\n",
       "    .dataframe tbody tr th {\n",
       "        vertical-align: top;\n",
       "    }\n",
       "\n",
       "    .dataframe thead th {\n",
       "        text-align: right;\n",
       "    }\n",
       "</style>\n",
       "<table border=\"1\" class=\"dataframe\">\n",
       "  <thead>\n",
       "    <tr style=\"text-align: right;\">\n",
       "      <th>customer_profile</th>\n",
       "      <th>Others</th>\n",
       "      <th>Single adult</th>\n",
       "      <th>Young parent</th>\n",
       "    </tr>\n",
       "    <tr>\n",
       "      <th>Top_5_department</th>\n",
       "      <th></th>\n",
       "      <th></th>\n",
       "      <th></th>\n",
       "    </tr>\n",
       "  </thead>\n",
       "  <tbody>\n",
       "    <tr>\n",
       "      <th>beverages</th>\n",
       "      <td>87.608938</td>\n",
       "      <td>3.119612</td>\n",
       "      <td>9.271451</td>\n",
       "    </tr>\n",
       "    <tr>\n",
       "      <th>dairy eggs</th>\n",
       "      <td>87.499692</td>\n",
       "      <td>3.056079</td>\n",
       "      <td>9.444228</td>\n",
       "    </tr>\n",
       "    <tr>\n",
       "      <th>frozen</th>\n",
       "      <td>87.471714</td>\n",
       "      <td>2.998376</td>\n",
       "      <td>9.529910</td>\n",
       "    </tr>\n",
       "    <tr>\n",
       "      <th>produce</th>\n",
       "      <td>87.577088</td>\n",
       "      <td>3.100981</td>\n",
       "      <td>9.321931</td>\n",
       "    </tr>\n",
       "    <tr>\n",
       "      <th>snacks</th>\n",
       "      <td>87.510242</td>\n",
       "      <td>3.080743</td>\n",
       "      <td>9.409015</td>\n",
       "    </tr>\n",
       "  </tbody>\n",
       "</table>\n",
       "</div>"
      ],
      "text/plain": [
       "customer_profile     Others  Single adult  Young parent\n",
       "Top_5_department                                       \n",
       "beverages         87.608938      3.119612      9.271451\n",
       "dairy eggs        87.499692      3.056079      9.444228\n",
       "frozen            87.471714      2.998376      9.529910\n",
       "produce           87.577088      3.100981      9.321931\n",
       "snacks            87.510242      3.080743      9.409015"
      ]
     },
     "execution_count": 283,
     "metadata": {},
     "output_type": "execute_result"
    }
   ],
   "source": [
    "crosstab_customer_dept"
   ]
  },
  {
   "cell_type": "code",
   "execution_count": 285,
   "id": "9e3c2cf4-1791-4881-b48b-9a52c2b3c64b",
   "metadata": {},
   "outputs": [],
   "source": [
    "crosstab_customer_dept.to_clipboard()"
   ]
  },
  {
   "cell_type": "code",
   "execution_count": 296,
   "id": "769b5cb5-9831-4945-a821-decad1705695",
   "metadata": {
    "tags": []
   },
   "outputs": [
    {
     "data": {
      "image/png": "[encoded data removed]",
      "text/plain": [
       "<Figure size 432x288 with 1 Axes>"
      ]
     },
     "metadata": {
      "needs_background": "light"
     },
     "output_type": "display_data"
    }
   ],
   "source": [
    "customer_top5 = crosstab_top5_customer.plot.bar(stacked = True, ylabel = 'Number of Orders (in Millions)')"
   ]
  },
  {
   "cell_type": "code",
   "execution_count": 297,
   "id": "63c01c9f-4658-4485-a3a0-aeb30cbdbea0",
   "metadata": {},
   "outputs": [],
   "source": [
    "customer_top5.figure.savefig(os.path.join(path, '04 Analysis', 'Visualizations', 'customer_top5.png'))"
   ]
  },
  {
   "cell_type": "code",
   "execution_count": 286,
   "id": "98c425b6-d763-4a0e-b2e7-b6b04814db40",
   "metadata": {},
   "outputs": [],
   "source": [
    "#Create a cosstab for top 5 and parent profile\n",
    "\n",
    "crosstab_top5_parent = pd.crosstab(ords_prods_merge['Top_5_department'], ords_prods_merge['parental_status'], dropna = False)"
   ]
  },
  {
   "cell_type": "code",
   "execution_count": 287,
   "id": "03eaa9cd-3854-47c8-89b0-7ce0a687db04",
   "metadata": {},
   "outputs": [
    {
     "data": {
      "text/html": [
       "<div>\n",
       "<style scoped>\n",
       "    .dataframe tbody tr th:only-of-type {\n",
       "        vertical-align: middle;\n",
       "    }\n",
       "\n",
       "    .dataframe tbody tr th {\n",
       "        vertical-align: top;\n",
       "    }\n",
       "\n",
       "    .dataframe thead th {\n",
       "        text-align: right;\n",
       "    }\n",
       "</style>\n",
       "<table border=\"1\" class=\"dataframe\">\n",
       "  <thead>\n",
       "    <tr style=\"text-align: right;\">\n",
       "      <th>parental_status</th>\n",
       "      <th>non parent</th>\n",
       "      <th>parent</th>\n",
       "    </tr>\n",
       "    <tr>\n",
       "      <th>Top_5_department</th>\n",
       "      <th></th>\n",
       "      <th></th>\n",
       "    </tr>\n",
       "  </thead>\n",
       "  <tbody>\n",
       "    <tr>\n",
       "      <th>beverages</th>\n",
       "      <td>674442</td>\n",
       "      <td>2013681</td>\n",
       "    </tr>\n",
       "    <tr>\n",
       "      <th>dairy eggs</th>\n",
       "      <td>1349362</td>\n",
       "      <td>4049385</td>\n",
       "    </tr>\n",
       "    <tr>\n",
       "      <th>frozen</th>\n",
       "      <td>557160</td>\n",
       "      <td>1677583</td>\n",
       "    </tr>\n",
       "    <tr>\n",
       "      <th>produce</th>\n",
       "      <td>2375445</td>\n",
       "      <td>7103846</td>\n",
       "    </tr>\n",
       "    <tr>\n",
       "      <th>snacks</th>\n",
       "      <td>720798</td>\n",
       "      <td>2166752</td>\n",
       "    </tr>\n",
       "  </tbody>\n",
       "</table>\n",
       "</div>"
      ],
      "text/plain": [
       "parental_status   non parent   parent\n",
       "Top_5_department                     \n",
       "beverages             674442  2013681\n",
       "dairy eggs           1349362  4049385\n",
       "frozen                557160  1677583\n",
       "produce              2375445  7103846\n",
       "snacks                720798  2166752"
      ]
     },
     "execution_count": 287,
     "metadata": {},
     "output_type": "execute_result"
    }
   ],
   "source": [
    "crosstab_top5_parent"
   ]
  },
  {
   "cell_type": "code",
   "execution_count": 288,
   "id": "42c0b97a-1e63-460f-b8e0-b8aa752ed6b9",
   "metadata": {},
   "outputs": [],
   "source": [
    "crosstab_top5_parent.to_clipboard()"
   ]
  },
  {
   "cell_type": "code",
   "execution_count": 298,
   "id": "ff856b38-2d36-4c6c-9f8b-d7b19b08056f",
   "metadata": {},
   "outputs": [
    {
     "data": {
      "image/png": "[encoded data removed]",
      "text/plain": [
       "<Figure size 432x288 with 1 Axes>"
      ]
     },
     "metadata": {
      "needs_background": "light"
     },
     "output_type": "display_data"
    }
   ],
   "source": [
    "top5_parent = crosstab_top5_parent.plot.bar(ylabel = 'Number of Orders (in Millions)')"
   ]
  },
  {
   "cell_type": "code",
   "execution_count": 299,
   "id": "5697f380-74a4-4865-9232-5acbe9c575f5",
   "metadata": {},
   "outputs": [],
   "source": [
    "top5_parent.figure.savefig(os.path.join(path, '04 Analysis', 'Visualizations', 'top5_parent.png'))"
   ]
  },
  {
   "cell_type": "code",
   "execution_count": 305,
   "id": "28532514-5d06-4ed9-baf8-7064ecd9c2a1",
   "metadata": {},
   "outputs": [
    {
     "data": {
      "image/png": "[encoded data removed]",
      "text/plain": [
       "<Figure size 360x360 with 1 Axes>"
      ]
     },
     "metadata": {},
     "output_type": "display_data"
    }
   ],
   "source": [
    "#Customer profile: age older than 25, makes less than $400,000 a year, within top 5 departments \n",
    "\n",
    "customer_pro = ords_prods_merge['customer_profile'].value_counts().sort_index().plot.pie(autopct='%.2f%%', figsize=(5,5), colors = ['grey','green', 'red'])"
   ]
  },
  {
   "cell_type": "code",
   "execution_count": 304,
   "id": "09bde3a0-6b31-41f5-be4f-282da79013d7",
   "metadata": {},
   "outputs": [],
   "source": [
    "customer_pro.figure.savefig(os.path.join(path, '04 Analysis', 'Visualizations', 'customer_profile.png'))"
   ]
  },
  {
   "cell_type": "code",
   "execution_count": 321,
   "id": "90f1ffaa-6763-4c10-958c-ab8f7d3c7181",
   "metadata": {},
   "outputs": [],
   "source": [
    "#create crosstab of busiest day and day of week\n",
    "\n",
    "crosstab_busy = pd.crosstab(ords_prods_merge['busiest_day'], ords_prods_merge['day_of_week'], dropna = False)"
   ]
  },
  {
   "cell_type": "code",
   "execution_count": 318,
   "id": "c19aa7dd-946f-4449-9429-1c0d361c49f1",
   "metadata": {},
   "outputs": [
    {
     "data": {
      "text/html": [
       "<div>\n",
       "<style scoped>\n",
       "    .dataframe tbody tr th:only-of-type {\n",
       "        vertical-align: middle;\n",
       "    }\n",
       "\n",
       "    .dataframe tbody tr th {\n",
       "        vertical-align: top;\n",
       "    }\n",
       "\n",
       "    .dataframe thead th {\n",
       "        text-align: right;\n",
       "    }\n",
       "</style>\n",
       "<table border=\"1\" class=\"dataframe\">\n",
       "  <thead>\n",
       "    <tr style=\"text-align: right;\">\n",
       "      <th>day_of_week</th>\n",
       "      <th>Friday</th>\n",
       "      <th>Monday</th>\n",
       "      <th>Saturday</th>\n",
       "      <th>Sunday</th>\n",
       "      <th>Tuesday</th>\n",
       "      <th>Wednesday</th>\n",
       "    </tr>\n",
       "    <tr>\n",
       "      <th>busiest_day</th>\n",
       "      <th></th>\n",
       "      <th></th>\n",
       "      <th></th>\n",
       "      <th></th>\n",
       "      <th></th>\n",
       "      <th></th>\n",
       "    </tr>\n",
       "  </thead>\n",
       "  <tbody>\n",
       "    <tr>\n",
       "      <th>Busiest day</th>\n",
       "      <td>0</td>\n",
       "      <td>0</td>\n",
       "      <td>6204182</td>\n",
       "      <td>0</td>\n",
       "      <td>0</td>\n",
       "      <td>0</td>\n",
       "    </tr>\n",
       "    <tr>\n",
       "      <th>Least busy</th>\n",
       "      <td>0</td>\n",
       "      <td>0</td>\n",
       "      <td>0</td>\n",
       "      <td>0</td>\n",
       "      <td>0</td>\n",
       "      <td>3783802</td>\n",
       "    </tr>\n",
       "    <tr>\n",
       "      <th>Regularly busy</th>\n",
       "      <td>4496490</td>\n",
       "      <td>4213830</td>\n",
       "      <td>0</td>\n",
       "      <td>5660230</td>\n",
       "      <td>3840534</td>\n",
       "      <td>0</td>\n",
       "    </tr>\n",
       "  </tbody>\n",
       "</table>\n",
       "</div>"
      ],
      "text/plain": [
       "day_of_week      Friday   Monday  Saturday   Sunday  Tuesday  Wednesday\n",
       "busiest_day                                                            \n",
       "Busiest day           0        0   6204182        0        0          0\n",
       "Least busy            0        0         0        0        0    3783802\n",
       "Regularly busy  4496490  4213830         0  5660230  3840534          0"
      ]
     },
     "execution_count": 318,
     "metadata": {},
     "output_type": "execute_result"
    }
   ],
   "source": [
    "crosstab_busy"
   ]
  },
  {
   "cell_type": "code",
   "execution_count": 319,
   "id": "9f4b6a70-2c42-475f-b357-b016f74235cf",
   "metadata": {},
   "outputs": [
    {
     "data": {
      "image/png": "[encoded data removed]",
      "text/plain": [
       "<Figure size 432x288 with 1 Axes>"
      ]
     },
     "metadata": {
      "needs_background": "light"
     },
     "output_type": "display_data"
    }
   ],
   "source": [
    "busy_day = crosstab_busy.plot.bar(ylabel = 'Number of Orders(in millions)')"
   ]
  },
  {
   "cell_type": "code",
   "execution_count": 320,
   "id": "e56f5be6-aad4-4e52-9e50-131673c08884",
   "metadata": {},
   "outputs": [],
   "source": [
    "busy_day.figure.savefig(os.path.join(path, '04 Analysis', 'Visualizations', 'busy_day.png'))"
   ]
  },
  {
   "cell_type": "code",
   "execution_count": 325,
   "id": "db4d3653-1b3f-4332-8338-15f509f880b1",
   "metadata": {},
   "outputs": [],
   "source": [
    "crosstab_hours = pd.crosstab(ords_prods_merge['Busiest_period_of_day'], ords_prods_merge['order_hour_of_day'], dropna = False)"
   ]
  },
  {
   "cell_type": "code",
   "execution_count": 326,
   "id": "2c461ccf-62e9-414a-8112-66f4ed0b9d8d",
   "metadata": {},
   "outputs": [
    {
     "data": {
      "text/html": [
       "<div>\n",
       "<style scoped>\n",
       "    .dataframe tbody tr th:only-of-type {\n",
       "        vertical-align: middle;\n",
       "    }\n",
       "\n",
       "    .dataframe tbody tr th {\n",
       "        vertical-align: top;\n",
       "    }\n",
       "\n",
       "    .dataframe thead th {\n",
       "        text-align: right;\n",
       "    }\n",
       "</style>\n",
       "<table border=\"1\" class=\"dataframe\">\n",
       "  <thead>\n",
       "    <tr style=\"text-align: right;\">\n",
       "      <th>order_hour_of_day</th>\n",
       "      <th>0</th>\n",
       "      <th>1</th>\n",
       "      <th>2</th>\n",
       "      <th>3</th>\n",
       "      <th>4</th>\n",
       "      <th>5</th>\n",
       "      <th>6</th>\n",
       "      <th>7</th>\n",
       "      <th>8</th>\n",
       "      <th>9</th>\n",
       "      <th>...</th>\n",
       "      <th>14</th>\n",
       "      <th>15</th>\n",
       "      <th>16</th>\n",
       "      <th>17</th>\n",
       "      <th>18</th>\n",
       "      <th>19</th>\n",
       "      <th>20</th>\n",
       "      <th>21</th>\n",
       "      <th>22</th>\n",
       "      <th>23</th>\n",
       "    </tr>\n",
       "    <tr>\n",
       "      <th>Busiest_period_of_day</th>\n",
       "      <th></th>\n",
       "      <th></th>\n",
       "      <th></th>\n",
       "      <th></th>\n",
       "      <th></th>\n",
       "      <th></th>\n",
       "      <th></th>\n",
       "      <th></th>\n",
       "      <th></th>\n",
       "      <th></th>\n",
       "      <th></th>\n",
       "      <th></th>\n",
       "      <th></th>\n",
       "      <th></th>\n",
       "      <th></th>\n",
       "      <th></th>\n",
       "      <th></th>\n",
       "      <th></th>\n",
       "      <th></th>\n",
       "      <th></th>\n",
       "      <th></th>\n",
       "    </tr>\n",
       "  </thead>\n",
       "  <tbody>\n",
       "    <tr>\n",
       "      <th>Average orders</th>\n",
       "      <td>0</td>\n",
       "      <td>0</td>\n",
       "      <td>0</td>\n",
       "      <td>0</td>\n",
       "      <td>0</td>\n",
       "      <td>0</td>\n",
       "      <td>0</td>\n",
       "      <td>0</td>\n",
       "      <td>0</td>\n",
       "      <td>0</td>\n",
       "      <td>...</td>\n",
       "      <td>0</td>\n",
       "      <td>0</td>\n",
       "      <td>0</td>\n",
       "      <td>0</td>\n",
       "      <td>0</td>\n",
       "      <td>0</td>\n",
       "      <td>0</td>\n",
       "      <td>0</td>\n",
       "      <td>0</td>\n",
       "      <td>0</td>\n",
       "    </tr>\n",
       "    <tr>\n",
       "      <th>Fewest orders</th>\n",
       "      <td>218769</td>\n",
       "      <td>115700</td>\n",
       "      <td>69375</td>\n",
       "      <td>51281</td>\n",
       "      <td>53242</td>\n",
       "      <td>87961</td>\n",
       "      <td>290493</td>\n",
       "      <td>891054</td>\n",
       "      <td>1718118</td>\n",
       "      <td>2454203</td>\n",
       "      <td>...</td>\n",
       "      <td>2689136</td>\n",
       "      <td>2662144</td>\n",
       "      <td>2535202</td>\n",
       "      <td>2087654</td>\n",
       "      <td>1636502</td>\n",
       "      <td>1258305</td>\n",
       "      <td>976156</td>\n",
       "      <td>795637</td>\n",
       "      <td>634225</td>\n",
       "      <td>402316</td>\n",
       "    </tr>\n",
       "    <tr>\n",
       "      <th>Most orders</th>\n",
       "      <td>0</td>\n",
       "      <td>0</td>\n",
       "      <td>0</td>\n",
       "      <td>0</td>\n",
       "      <td>0</td>\n",
       "      <td>0</td>\n",
       "      <td>0</td>\n",
       "      <td>0</td>\n",
       "      <td>0</td>\n",
       "      <td>0</td>\n",
       "      <td>...</td>\n",
       "      <td>0</td>\n",
       "      <td>0</td>\n",
       "      <td>0</td>\n",
       "      <td>0</td>\n",
       "      <td>0</td>\n",
       "      <td>0</td>\n",
       "      <td>0</td>\n",
       "      <td>0</td>\n",
       "      <td>0</td>\n",
       "      <td>0</td>\n",
       "    </tr>\n",
       "  </tbody>\n",
       "</table>\n",
       "<p>3 rows × 24 columns</p>\n",
       "</div>"
      ],
      "text/plain": [
       "order_hour_of_day          0       1      2      3      4      5       6   \\\n",
       "Busiest_period_of_day                                                       \n",
       "Average orders              0       0      0      0      0      0       0   \n",
       "Fewest orders          218769  115700  69375  51281  53242  87961  290493   \n",
       "Most orders                 0       0      0      0      0      0       0   \n",
       "\n",
       "order_hour_of_day          7        8        9   ...       14       15  \\\n",
       "Busiest_period_of_day                            ...                     \n",
       "Average orders              0        0        0  ...        0        0   \n",
       "Fewest orders          891054  1718118  2454203  ...  2689136  2662144   \n",
       "Most orders                 0        0        0  ...        0        0   \n",
       "\n",
       "order_hour_of_day           16       17       18       19      20      21  \\\n",
       "Busiest_period_of_day                                                       \n",
       "Average orders               0        0        0        0       0       0   \n",
       "Fewest orders          2535202  2087654  1636502  1258305  976156  795637   \n",
       "Most orders                  0        0        0        0       0       0   \n",
       "\n",
       "order_hour_of_day          22      23  \n",
       "Busiest_period_of_day                  \n",
       "Average orders              0       0  \n",
       "Fewest orders          634225  402316  \n",
       "Most orders                 0       0  \n",
       "\n",
       "[3 rows x 24 columns]"
      ]
     },
     "execution_count": 326,
     "metadata": {},
     "output_type": "execute_result"
    }
   ],
   "source": [
    "crosstab_hours"
   ]
  },
  {
   "cell_type": "code",
   "execution_count": 327,
   "id": "929b9071-a6cb-4fd4-81e6-07711a7b7e29",
   "metadata": {},
   "outputs": [
    {
     "data": {
      "text/plain": [
       "<AxesSubplot:xlabel='Busiest_period_of_day'>"
      ]
     },
     "execution_count": 327,
     "metadata": {},
     "output_type": "execute_result"
    },
    {
     "data": {
      "image/png": "[encoded data removed]",
      "text/plain": [
       "<Figure size 432x288 with 1 Axes>"
      ]
     },
     "metadata": {
      "needs_background": "light"
     },
     "output_type": "display_data"
    }
   ],
   "source": [
    "crosstab_hours.plot.bar()"
   ]
  },
  {
   "cell_type": "markdown",
   "id": "10f7650d-d00d-4de2-a2a2-3c347a6863d1",
   "metadata": {
    "jp-MarkdownHeadingCollapsed": true,
    "tags": []
   },
   "source": [
    "## We can make a few connections by looking at these profiles. Young parents account for more of our sales that single adults. Produce is the most popular department and young parents account for more than double the sales single adults do in the produce department."
   ]
  },
  {
   "cell_type": "markdown",
   "id": "ddf864e7-3236-42c0-8afa-623a4c9a7eb4",
   "metadata": {},
   "source": [
    "# Exports"
   ]
  },
  {
   "cell_type": "code",
   "execution_count": 332,
   "id": "babe5fc8-9338-4577-9430-a913dcb14681",
   "metadata": {},
   "outputs": [],
   "source": [
    "# Export ords_prods_cust_merged as pickle file\n",
    "\n",
    "ords_prods_merge.to_pickle(os.path.join(path, '02 Data', 'Prepared Data', 'orders_products_all.pkl'))"
   ]
  }
 ],
 "metadata": {
  "kernelspec": {
   "display_name": "Python 3 (ipykernel)",
   "language": "python",
   "name": "python3"
  },
  "language_info": {
   "codemirror_mode": {
    "name": "ipython",
    "version": 3
   },
   "file_extension": ".py",
   "mimetype": "text/x-python",
   "name": "python",
   "nbconvert_exporter": "python",
   "pygments_lexer": "ipython3",
   "version": "3.9.7"
  }
 },
 "nbformat": 4,
 "nbformat_minor": 5
}
